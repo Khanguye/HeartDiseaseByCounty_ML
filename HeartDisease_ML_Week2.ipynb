{
 "cells": [
  {
   "cell_type": "code",
   "execution_count": 1,
   "metadata": {},
   "outputs": [],
   "source": [
    "import warnings\n",
    "warnings.filterwarnings('ignore')"
   ]
  },
  {
   "cell_type": "code",
   "execution_count": 2,
   "metadata": {},
   "outputs": [],
   "source": [
    "#load all dependencies\n",
    "import pandas as pd\n",
    "import numpy as np\n",
    "import sqlite3\n",
    "import matplotlib.pyplot as plt\n",
    "\n",
    "\n",
    "from sklearn.preprocessing import StandardScaler\n",
    "from sklearn.model_selection import train_test_split\n",
    "from sklearn.metrics import confusion_matrix, accuracy_score, classification_report"
   ]
  },
  {
   "cell_type": "code",
   "execution_count": 3,
   "metadata": {},
   "outputs": [],
   "source": [
    "#connect to database\n",
    "path = \"model/db/HeartDiseaseByCounty.db\"\n",
    "cnx = sqlite3.connect(path)"
   ]
  },
  {
   "cell_type": "code",
   "execution_count": 4,
   "metadata": {
    "scrolled": true
   },
   "outputs": [
    {
     "data": {
      "text/html": [
       "<div>\n",
       "<style scoped>\n",
       "    .dataframe tbody tr th:only-of-type {\n",
       "        vertical-align: middle;\n",
       "    }\n",
       "\n",
       "    .dataframe tbody tr th {\n",
       "        vertical-align: top;\n",
       "    }\n",
       "\n",
       "    .dataframe thead th {\n",
       "        text-align: right;\n",
       "    }\n",
       "</style>\n",
       "<table border=\"1\" class=\"dataframe\">\n",
       "  <thead>\n",
       "    <tr style=\"text-align: right;\">\n",
       "      <th></th>\n",
       "      <th>State_Name</th>\n",
       "      <th>County</th>\n",
       "      <th>Percent_Fair_or_Poor_Health</th>\n",
       "      <th>Average_Number_of_Physically_Unhealthy_Days</th>\n",
       "      <th>Average_Number_of_Mentally_Unhealthy_Days</th>\n",
       "      <th>Percent_Smokers</th>\n",
       "      <th>Percent_Adults_with_Obesity</th>\n",
       "      <th>Food_Environment_Index</th>\n",
       "      <th>Percent_Physically_Inactive</th>\n",
       "      <th>Percent_With_Access_to_Exercise_Opportunities</th>\n",
       "      <th>...</th>\n",
       "      <th>Uninsured</th>\n",
       "      <th>Insured</th>\n",
       "      <th>Unreported_Insurance</th>\n",
       "      <th>Poverty</th>\n",
       "      <th>Less_than_high_school</th>\n",
       "      <th>High_school_only</th>\n",
       "      <th>College_or_associates</th>\n",
       "      <th>Bachelor_degree_or_higher</th>\n",
       "      <th>Unreported_education</th>\n",
       "      <th>Level</th>\n",
       "    </tr>\n",
       "  </thead>\n",
       "  <tbody>\n",
       "    <tr>\n",
       "      <th>0</th>\n",
       "      <td>Alaska</td>\n",
       "      <td>Aleutians East</td>\n",
       "      <td>17</td>\n",
       "      <td>3.4</td>\n",
       "      <td>2.8</td>\n",
       "      <td>17</td>\n",
       "      <td>51</td>\n",
       "      <td>5.3</td>\n",
       "      <td>30</td>\n",
       "      <td>100</td>\n",
       "      <td>...</td>\n",
       "      <td>818.0</td>\n",
       "      <td>2376.0</td>\n",
       "      <td>321</td>\n",
       "      <td>544.0</td>\n",
       "      <td>358</td>\n",
       "      <td>1061</td>\n",
       "      <td>882</td>\n",
       "      <td>336</td>\n",
       "      <td>878</td>\n",
       "      <td>1</td>\n",
       "    </tr>\n",
       "    <tr>\n",
       "      <th>1</th>\n",
       "      <td>Alaska</td>\n",
       "      <td>Aleutians West</td>\n",
       "      <td>15</td>\n",
       "      <td>3.0</td>\n",
       "      <td>2.5</td>\n",
       "      <td>15</td>\n",
       "      <td>44</td>\n",
       "      <td>7.6</td>\n",
       "      <td>30</td>\n",
       "      <td>100</td>\n",
       "      <td>...</td>\n",
       "      <td>907.0</td>\n",
       "      <td>4237.0</td>\n",
       "      <td>579</td>\n",
       "      <td>550.0</td>\n",
       "      <td>459</td>\n",
       "      <td>1664</td>\n",
       "      <td>1309</td>\n",
       "      <td>675</td>\n",
       "      <td>1616</td>\n",
       "      <td>1</td>\n",
       "    </tr>\n",
       "    <tr>\n",
       "      <th>2</th>\n",
       "      <td>Alaska</td>\n",
       "      <td>Anchorage</td>\n",
       "      <td>15</td>\n",
       "      <td>3.5</td>\n",
       "      <td>3.2</td>\n",
       "      <td>15</td>\n",
       "      <td>32</td>\n",
       "      <td>8.0</td>\n",
       "      <td>18</td>\n",
       "      <td>100</td>\n",
       "      <td>...</td>\n",
       "      <td>30742.0</td>\n",
       "      <td>223530.0</td>\n",
       "      <td>37266</td>\n",
       "      <td>27075.0</td>\n",
       "      <td>11867</td>\n",
       "      <td>45753</td>\n",
       "      <td>66655</td>\n",
       "      <td>67719</td>\n",
       "      <td>99544</td>\n",
       "      <td>1</td>\n",
       "    </tr>\n",
       "    <tr>\n",
       "      <th>3</th>\n",
       "      <td>Alaska</td>\n",
       "      <td>Bethel</td>\n",
       "      <td>24</td>\n",
       "      <td>5.4</td>\n",
       "      <td>4.6</td>\n",
       "      <td>30</td>\n",
       "      <td>31</td>\n",
       "      <td>2.9</td>\n",
       "      <td>31</td>\n",
       "      <td>100</td>\n",
       "      <td>...</td>\n",
       "      <td>2971.0</td>\n",
       "      <td>13584.0</td>\n",
       "      <td>1661</td>\n",
       "      <td>5869.0</td>\n",
       "      <td>1798</td>\n",
       "      <td>4371</td>\n",
       "      <td>2314</td>\n",
       "      <td>1194</td>\n",
       "      <td>8539</td>\n",
       "      <td>2</td>\n",
       "    </tr>\n",
       "    <tr>\n",
       "      <th>4</th>\n",
       "      <td>Alaska</td>\n",
       "      <td>Bristol Bay</td>\n",
       "      <td>15</td>\n",
       "      <td>3.7</td>\n",
       "      <td>3.6</td>\n",
       "      <td>18</td>\n",
       "      <td>42</td>\n",
       "      <td>6.9</td>\n",
       "      <td>29</td>\n",
       "      <td>100</td>\n",
       "      <td>...</td>\n",
       "      <td>119.0</td>\n",
       "      <td>615.0</td>\n",
       "      <td>143</td>\n",
       "      <td>96.0</td>\n",
       "      <td>36</td>\n",
       "      <td>225</td>\n",
       "      <td>240</td>\n",
       "      <td>144</td>\n",
       "      <td>232</td>\n",
       "      <td>1</td>\n",
       "    </tr>\n",
       "  </tbody>\n",
       "</table>\n",
       "<p>5 rows × 68 columns</p>\n",
       "</div>"
      ],
      "text/plain": [
       "  State_Name          County  Percent_Fair_or_Poor_Health  \\\n",
       "0     Alaska  Aleutians East                           17   \n",
       "1     Alaska  Aleutians West                           15   \n",
       "2     Alaska       Anchorage                           15   \n",
       "3     Alaska          Bethel                           24   \n",
       "4     Alaska     Bristol Bay                           15   \n",
       "\n",
       "   Average_Number_of_Physically_Unhealthy_Days  \\\n",
       "0                                          3.4   \n",
       "1                                          3.0   \n",
       "2                                          3.5   \n",
       "3                                          5.4   \n",
       "4                                          3.7   \n",
       "\n",
       "   Average_Number_of_Mentally_Unhealthy_Days  Percent_Smokers  \\\n",
       "0                                        2.8               17   \n",
       "1                                        2.5               15   \n",
       "2                                        3.2               15   \n",
       "3                                        4.6               30   \n",
       "4                                        3.6               18   \n",
       "\n",
       "   Percent_Adults_with_Obesity  Food_Environment_Index  \\\n",
       "0                           51                     5.3   \n",
       "1                           44                     7.6   \n",
       "2                           32                     8.0   \n",
       "3                           31                     2.9   \n",
       "4                           42                     6.9   \n",
       "\n",
       "   Percent_Physically_Inactive  Percent_With_Access_to_Exercise_Opportunities  \\\n",
       "0                           30                                            100   \n",
       "1                           30                                            100   \n",
       "2                           18                                            100   \n",
       "3                           31                                            100   \n",
       "4                           29                                            100   \n",
       "\n",
       "   ...  Uninsured   Insured  Unreported_Insurance  Poverty  \\\n",
       "0  ...      818.0    2376.0                   321    544.0   \n",
       "1  ...      907.0    4237.0                   579    550.0   \n",
       "2  ...    30742.0  223530.0                 37266  27075.0   \n",
       "3  ...     2971.0   13584.0                  1661   5869.0   \n",
       "4  ...      119.0     615.0                   143     96.0   \n",
       "\n",
       "   Less_than_high_school  High_school_only  College_or_associates  \\\n",
       "0                    358              1061                    882   \n",
       "1                    459              1664                   1309   \n",
       "2                  11867             45753                  66655   \n",
       "3                   1798              4371                   2314   \n",
       "4                     36               225                    240   \n",
       "\n",
       "   Bachelor_degree_or_higher  Unreported_education  Level  \n",
       "0                        336                   878      1  \n",
       "1                        675                  1616      1  \n",
       "2                      67719                 99544      1  \n",
       "3                       1194                  8539      2  \n",
       "4                        144                   232      1  \n",
       "\n",
       "[5 rows x 68 columns]"
      ]
     },
     "execution_count": 4,
     "metadata": {},
     "output_type": "execute_result"
    }
   ],
   "source": [
    "#Read dataframe from SQL query\n",
    "df = pd.read_sql_query(\"SELECT f.*, t.Level FROM \\\n",
    "                        Features_State_Counties f \\\n",
    "                        JOIN State s ON f.State_Name = s.Name \\\n",
    "                        JOIN Heart_Disease_Mortality_State_Counties as t ON f.County = t.County AND s.Code = t.State_Code\" \\\n",
    "                       , cnx)\n",
    "df.head()"
   ]
  },
  {
   "cell_type": "code",
   "execution_count": 5,
   "metadata": {},
   "outputs": [
    {
     "data": {
      "text/html": [
       "<div>\n",
       "<style scoped>\n",
       "    .dataframe tbody tr th:only-of-type {\n",
       "        vertical-align: middle;\n",
       "    }\n",
       "\n",
       "    .dataframe tbody tr th {\n",
       "        vertical-align: top;\n",
       "    }\n",
       "\n",
       "    .dataframe thead th {\n",
       "        text-align: right;\n",
       "    }\n",
       "</style>\n",
       "<table border=\"1\" class=\"dataframe\">\n",
       "  <thead>\n",
       "    <tr style=\"text-align: right;\">\n",
       "      <th></th>\n",
       "      <th>Percent_Fair_or_Poor_Health</th>\n",
       "      <th>Average_Number_of_Physically_Unhealthy_Days</th>\n",
       "      <th>Average_Number_of_Mentally_Unhealthy_Days</th>\n",
       "      <th>Percent_Smokers</th>\n",
       "      <th>Percent_Adults_with_Obesity</th>\n",
       "      <th>Food_Environment_Index</th>\n",
       "      <th>Percent_Physically_Inactive</th>\n",
       "      <th>Percent_With_Access_to_Exercise_Opportunities</th>\n",
       "      <th>Percent_Excessive_Drinking</th>\n",
       "      <th>Percent_Uninsured</th>\n",
       "      <th>...</th>\n",
       "      <th>Uninsured</th>\n",
       "      <th>Insured</th>\n",
       "      <th>Unreported_Insurance</th>\n",
       "      <th>Poverty</th>\n",
       "      <th>Less_than_high_school</th>\n",
       "      <th>High_school_only</th>\n",
       "      <th>College_or_associates</th>\n",
       "      <th>Bachelor_degree_or_higher</th>\n",
       "      <th>Unreported_education</th>\n",
       "      <th>Level</th>\n",
       "    </tr>\n",
       "  </thead>\n",
       "  <tbody>\n",
       "    <tr>\n",
       "      <th>count</th>\n",
       "      <td>3072.000000</td>\n",
       "      <td>3072.000000</td>\n",
       "      <td>3072.000000</td>\n",
       "      <td>3072.000000</td>\n",
       "      <td>3072.000000</td>\n",
       "      <td>3072.000000</td>\n",
       "      <td>3072.000000</td>\n",
       "      <td>3072.000000</td>\n",
       "      <td>3072.000000</td>\n",
       "      <td>3072.000000</td>\n",
       "      <td>...</td>\n",
       "      <td>3071.000000</td>\n",
       "      <td>3.071000e+03</td>\n",
       "      <td>3.072000e+03</td>\n",
       "      <td>3.071000e+03</td>\n",
       "      <td>3.072000e+03</td>\n",
       "      <td>3.072000e+03</td>\n",
       "      <td>3.072000e+03</td>\n",
       "      <td>3.072000e+03</td>\n",
       "      <td>3.072000e+03</td>\n",
       "      <td>3072.000000</td>\n",
       "    </tr>\n",
       "    <tr>\n",
       "      <th>mean</th>\n",
       "      <td>17.832357</td>\n",
       "      <td>3.972363</td>\n",
       "      <td>4.149642</td>\n",
       "      <td>17.361979</td>\n",
       "      <td>32.817708</td>\n",
       "      <td>7.424577</td>\n",
       "      <td>27.353516</td>\n",
       "      <td>62.892578</td>\n",
       "      <td>17.485677</td>\n",
       "      <td>11.504232</td>\n",
       "      <td>...</td>\n",
       "      <td>8977.153696</td>\n",
       "      <td>7.683507e+04</td>\n",
       "      <td>1.892521e+04</td>\n",
       "      <td>1.330867e+04</td>\n",
       "      <td>8.599790e+03</td>\n",
       "      <td>1.891054e+04</td>\n",
       "      <td>2.031700e+04</td>\n",
       "      <td>2.208112e+04</td>\n",
       "      <td>3.480105e+04</td>\n",
       "      <td>2.469727</td>\n",
       "    </tr>\n",
       "    <tr>\n",
       "      <th>std</th>\n",
       "      <td>4.704372</td>\n",
       "      <td>0.696459</td>\n",
       "      <td>0.592199</td>\n",
       "      <td>3.548037</td>\n",
       "      <td>5.430713</td>\n",
       "      <td>1.270692</td>\n",
       "      <td>5.692320</td>\n",
       "      <td>23.424658</td>\n",
       "      <td>3.176629</td>\n",
       "      <td>5.190727</td>\n",
       "      <td>...</td>\n",
       "      <td>35474.297222</td>\n",
       "      <td>2.526495e+05</td>\n",
       "      <td>5.313433e+04</td>\n",
       "      <td>4.601938e+04</td>\n",
       "      <td>3.762167e+04</td>\n",
       "      <td>5.130057e+04</td>\n",
       "      <td>6.145624e+04</td>\n",
       "      <td>8.044333e+04</td>\n",
       "      <td>1.125637e+05</td>\n",
       "      <td>1.104914</td>\n",
       "    </tr>\n",
       "    <tr>\n",
       "      <th>min</th>\n",
       "      <td>8.000000</td>\n",
       "      <td>2.400000</td>\n",
       "      <td>2.500000</td>\n",
       "      <td>6.000000</td>\n",
       "      <td>12.000000</td>\n",
       "      <td>0.000000</td>\n",
       "      <td>10.000000</td>\n",
       "      <td>0.000000</td>\n",
       "      <td>8.000000</td>\n",
       "      <td>0.000000</td>\n",
       "      <td>...</td>\n",
       "      <td>23.000000</td>\n",
       "      <td>1.190000e+02</td>\n",
       "      <td>1.000000e+01</td>\n",
       "      <td>5.000000e+00</td>\n",
       "      <td>4.000000e+00</td>\n",
       "      <td>1.500000e+01</td>\n",
       "      <td>2.400000e+01</td>\n",
       "      <td>0.000000e+00</td>\n",
       "      <td>1.900000e+01</td>\n",
       "      <td>1.000000</td>\n",
       "    </tr>\n",
       "    <tr>\n",
       "      <th>25%</th>\n",
       "      <td>14.000000</td>\n",
       "      <td>3.500000</td>\n",
       "      <td>3.700000</td>\n",
       "      <td>15.000000</td>\n",
       "      <td>29.000000</td>\n",
       "      <td>6.900000</td>\n",
       "      <td>24.000000</td>\n",
       "      <td>49.000000</td>\n",
       "      <td>15.000000</td>\n",
       "      <td>7.000000</td>\n",
       "      <td>...</td>\n",
       "      <td>876.500000</td>\n",
       "      <td>7.245000e+03</td>\n",
       "      <td>2.538500e+03</td>\n",
       "      <td>1.565500e+03</td>\n",
       "      <td>9.677500e+02</td>\n",
       "      <td>2.745750e+03</td>\n",
       "      <td>2.277250e+03</td>\n",
       "      <td>1.194750e+03</td>\n",
       "      <td>3.283500e+03</td>\n",
       "      <td>2.000000</td>\n",
       "    </tr>\n",
       "    <tr>\n",
       "      <th>50%</th>\n",
       "      <td>17.000000</td>\n",
       "      <td>3.900000</td>\n",
       "      <td>4.200000</td>\n",
       "      <td>17.000000</td>\n",
       "      <td>33.000000</td>\n",
       "      <td>7.700000</td>\n",
       "      <td>27.000000</td>\n",
       "      <td>66.000000</td>\n",
       "      <td>18.000000</td>\n",
       "      <td>11.000000</td>\n",
       "      <td>...</td>\n",
       "      <td>2140.000000</td>\n",
       "      <td>1.743800e+04</td>\n",
       "      <td>5.767000e+03</td>\n",
       "      <td>3.724000e+03</td>\n",
       "      <td>2.464500e+03</td>\n",
       "      <td>6.334000e+03</td>\n",
       "      <td>5.325500e+03</td>\n",
       "      <td>3.162500e+03</td>\n",
       "      <td>7.950500e+03</td>\n",
       "      <td>2.000000</td>\n",
       "    </tr>\n",
       "    <tr>\n",
       "      <th>75%</th>\n",
       "      <td>21.000000</td>\n",
       "      <td>4.400000</td>\n",
       "      <td>4.600000</td>\n",
       "      <td>20.000000</td>\n",
       "      <td>36.000000</td>\n",
       "      <td>8.200000</td>\n",
       "      <td>31.000000</td>\n",
       "      <td>80.000000</td>\n",
       "      <td>20.000000</td>\n",
       "      <td>15.000000</td>\n",
       "      <td>...</td>\n",
       "      <td>5675.500000</td>\n",
       "      <td>4.730000e+04</td>\n",
       "      <td>1.444550e+04</td>\n",
       "      <td>9.175500e+03</td>\n",
       "      <td>5.667500e+03</td>\n",
       "      <td>1.511100e+04</td>\n",
       "      <td>1.442075e+04</td>\n",
       "      <td>1.049675e+04</td>\n",
       "      <td>2.250150e+04</td>\n",
       "      <td>4.000000</td>\n",
       "    </tr>\n",
       "    <tr>\n",
       "      <th>max</th>\n",
       "      <td>41.000000</td>\n",
       "      <td>6.500000</td>\n",
       "      <td>6.300000</td>\n",
       "      <td>41.000000</td>\n",
       "      <td>58.000000</td>\n",
       "      <td>10.000000</td>\n",
       "      <td>50.000000</td>\n",
       "      <td>100.000000</td>\n",
       "      <td>29.000000</td>\n",
       "      <td>34.000000</td>\n",
       "      <td>...</td>\n",
       "      <td>935213.000000</td>\n",
       "      <td>7.703359e+06</td>\n",
       "      <td>1.527541e+06</td>\n",
       "      <td>1.409155e+06</td>\n",
       "      <td>1.460718e+06</td>\n",
       "      <td>1.416482e+06</td>\n",
       "      <td>1.790808e+06</td>\n",
       "      <td>2.177481e+06</td>\n",
       "      <td>3.260029e+06</td>\n",
       "      <td>4.000000</td>\n",
       "    </tr>\n",
       "  </tbody>\n",
       "</table>\n",
       "<p>8 rows × 66 columns</p>\n",
       "</div>"
      ],
      "text/plain": [
       "       Percent_Fair_or_Poor_Health  \\\n",
       "count                  3072.000000   \n",
       "mean                     17.832357   \n",
       "std                       4.704372   \n",
       "min                       8.000000   \n",
       "25%                      14.000000   \n",
       "50%                      17.000000   \n",
       "75%                      21.000000   \n",
       "max                      41.000000   \n",
       "\n",
       "       Average_Number_of_Physically_Unhealthy_Days  \\\n",
       "count                                  3072.000000   \n",
       "mean                                      3.972363   \n",
       "std                                       0.696459   \n",
       "min                                       2.400000   \n",
       "25%                                       3.500000   \n",
       "50%                                       3.900000   \n",
       "75%                                       4.400000   \n",
       "max                                       6.500000   \n",
       "\n",
       "       Average_Number_of_Mentally_Unhealthy_Days  Percent_Smokers  \\\n",
       "count                                3072.000000      3072.000000   \n",
       "mean                                    4.149642        17.361979   \n",
       "std                                     0.592199         3.548037   \n",
       "min                                     2.500000         6.000000   \n",
       "25%                                     3.700000        15.000000   \n",
       "50%                                     4.200000        17.000000   \n",
       "75%                                     4.600000        20.000000   \n",
       "max                                     6.300000        41.000000   \n",
       "\n",
       "       Percent_Adults_with_Obesity  Food_Environment_Index  \\\n",
       "count                  3072.000000             3072.000000   \n",
       "mean                     32.817708                7.424577   \n",
       "std                       5.430713                1.270692   \n",
       "min                      12.000000                0.000000   \n",
       "25%                      29.000000                6.900000   \n",
       "50%                      33.000000                7.700000   \n",
       "75%                      36.000000                8.200000   \n",
       "max                      58.000000               10.000000   \n",
       "\n",
       "       Percent_Physically_Inactive  \\\n",
       "count                  3072.000000   \n",
       "mean                     27.353516   \n",
       "std                       5.692320   \n",
       "min                      10.000000   \n",
       "25%                      24.000000   \n",
       "50%                      27.000000   \n",
       "75%                      31.000000   \n",
       "max                      50.000000   \n",
       "\n",
       "       Percent_With_Access_to_Exercise_Opportunities  \\\n",
       "count                                    3072.000000   \n",
       "mean                                       62.892578   \n",
       "std                                        23.424658   \n",
       "min                                         0.000000   \n",
       "25%                                        49.000000   \n",
       "50%                                        66.000000   \n",
       "75%                                        80.000000   \n",
       "max                                       100.000000   \n",
       "\n",
       "       Percent_Excessive_Drinking  Percent_Uninsured  ...      Uninsured  \\\n",
       "count                 3072.000000        3072.000000  ...    3071.000000   \n",
       "mean                    17.485677          11.504232  ...    8977.153696   \n",
       "std                      3.176629           5.190727  ...   35474.297222   \n",
       "min                      8.000000           0.000000  ...      23.000000   \n",
       "25%                     15.000000           7.000000  ...     876.500000   \n",
       "50%                     18.000000          11.000000  ...    2140.000000   \n",
       "75%                     20.000000          15.000000  ...    5675.500000   \n",
       "max                     29.000000          34.000000  ...  935213.000000   \n",
       "\n",
       "            Insured  Unreported_Insurance       Poverty  \\\n",
       "count  3.071000e+03          3.072000e+03  3.071000e+03   \n",
       "mean   7.683507e+04          1.892521e+04  1.330867e+04   \n",
       "std    2.526495e+05          5.313433e+04  4.601938e+04   \n",
       "min    1.190000e+02          1.000000e+01  5.000000e+00   \n",
       "25%    7.245000e+03          2.538500e+03  1.565500e+03   \n",
       "50%    1.743800e+04          5.767000e+03  3.724000e+03   \n",
       "75%    4.730000e+04          1.444550e+04  9.175500e+03   \n",
       "max    7.703359e+06          1.527541e+06  1.409155e+06   \n",
       "\n",
       "       Less_than_high_school  High_school_only  College_or_associates  \\\n",
       "count           3.072000e+03      3.072000e+03           3.072000e+03   \n",
       "mean            8.599790e+03      1.891054e+04           2.031700e+04   \n",
       "std             3.762167e+04      5.130057e+04           6.145624e+04   \n",
       "min             4.000000e+00      1.500000e+01           2.400000e+01   \n",
       "25%             9.677500e+02      2.745750e+03           2.277250e+03   \n",
       "50%             2.464500e+03      6.334000e+03           5.325500e+03   \n",
       "75%             5.667500e+03      1.511100e+04           1.442075e+04   \n",
       "max             1.460718e+06      1.416482e+06           1.790808e+06   \n",
       "\n",
       "       Bachelor_degree_or_higher  Unreported_education        Level  \n",
       "count               3.072000e+03          3.072000e+03  3072.000000  \n",
       "mean                2.208112e+04          3.480105e+04     2.469727  \n",
       "std                 8.044333e+04          1.125637e+05     1.104914  \n",
       "min                 0.000000e+00          1.900000e+01     1.000000  \n",
       "25%                 1.194750e+03          3.283500e+03     2.000000  \n",
       "50%                 3.162500e+03          7.950500e+03     2.000000  \n",
       "75%                 1.049675e+04          2.250150e+04     4.000000  \n",
       "max                 2.177481e+06          3.260029e+06     4.000000  \n",
       "\n",
       "[8 rows x 66 columns]"
      ]
     },
     "execution_count": 5,
     "metadata": {},
     "output_type": "execute_result"
    }
   ],
   "source": [
    "# View statistics dataframe columns\n",
    "df.describe()"
   ]
  },
  {
   "cell_type": "code",
   "execution_count": 6,
   "metadata": {},
   "outputs": [
    {
     "data": {
      "text/plain": [
       "{'whiskers': [<matplotlib.lines.Line2D at 0x114bf428488>,\n",
       "  <matplotlib.lines.Line2D at 0x114bf461f48>],\n",
       " 'caps': [<matplotlib.lines.Line2D at 0x114bf469b48>,\n",
       "  <matplotlib.lines.Line2D at 0x114bf469d48>],\n",
       " 'boxes': [<matplotlib.lines.Line2D at 0x114bf45bc48>],\n",
       " 'medians': [<matplotlib.lines.Line2D at 0x114bf44eb88>],\n",
       " 'fliers': [<matplotlib.lines.Line2D at 0x114bef906c8>],\n",
       " 'means': []}"
      ]
     },
     "execution_count": 6,
     "metadata": {},
     "output_type": "execute_result"
    },
    {
     "data": {
      "image/png": "[encoded data removed]",
      "text/plain": [
       "<Figure size 432x288 with 1 Axes>"
      ]
     },
     "metadata": {
      "needs_background": "light"
     },
     "output_type": "display_data"
    }
   ],
   "source": [
    "# This feature has so many outliers\n",
    "\n",
    "series = df[\"Average_Traffic_Volume_per_Meter_of_Major_Roadways\"]\n",
    "plt.boxplot(series) "
   ]
  },
  {
   "cell_type": "code",
   "execution_count": 7,
   "metadata": {},
   "outputs": [],
   "source": [
    "#let drop the column\n",
    "df.drop(columns=[\"Average_Traffic_Volume_per_Meter_of_Major_Roadways\"], inplace=True)"
   ]
  },
  {
   "cell_type": "code",
   "execution_count": 8,
   "metadata": {},
   "outputs": [
    {
     "data": {
      "text/plain": [
       "State_Name                                     3072\n",
       "County                                         3072\n",
       "Percent_Fair_or_Poor_Health                    3072\n",
       "Average_Number_of_Physically_Unhealthy_Days    3072\n",
       "Average_Number_of_Mentally_Unhealthy_Days      3072\n",
       "                                               ... \n",
       "High_school_only                               3072\n",
       "College_or_associates                          3072\n",
       "Bachelor_degree_or_higher                      3072\n",
       "Unreported_education                           3072\n",
       "Level                                          3072\n",
       "Length: 67, dtype: int64"
      ]
     },
     "execution_count": 8,
     "metadata": {},
     "output_type": "execute_result"
    }
   ],
   "source": [
    "col_count = df.count()\n",
    "col_count"
   ]
  },
  {
   "cell_type": "code",
   "execution_count": 9,
   "metadata": {},
   "outputs": [
    {
     "data": {
      "text/plain": [
       "['Household_Income_AIAN',\n",
       " 'Household_Income_Asian',\n",
       " 'Household_Income_Black',\n",
       " 'Household_Income_Hispanic',\n",
       " 'Household_Income_White',\n",
       " 'Percent_Severe_Housing_Cost_Burden',\n",
       " 'Percent_Children_in_Poverty',\n",
       " 'Teen_Birth_Rate',\n",
       " 'Uninsured',\n",
       " 'Insured',\n",
       " 'Poverty']"
      ]
     },
     "execution_count": 9,
     "metadata": {},
     "output_type": "execute_result"
    }
   ],
   "source": [
    "# Find columns that contain NULL value\n",
    "col_null = list(col_count[col_count != 3072].index)\n",
    "col_null"
   ]
  },
  {
   "cell_type": "code",
   "execution_count": 10,
   "metadata": {},
   "outputs": [],
   "source": [
    "# drop columns\n",
    "df.drop(columns=[\"Percent_Severe_Housing_Cost_Burden\",\"Percent_Children_in_Poverty\",\"Teen_Birth_Rate\"], inplace=True)\n"
   ]
  },
  {
   "cell_type": "code",
   "execution_count": 11,
   "metadata": {},
   "outputs": [],
   "source": [
    "# Fill value columns\n",
    "df.fillna(value=0,inplace=True)"
   ]
  },
  {
   "cell_type": "code",
   "execution_count": 12,
   "metadata": {},
   "outputs": [
    {
     "data": {
      "text/plain": [
       "State_Name                                     3072\n",
       "County                                         3072\n",
       "Percent_Fair_or_Poor_Health                    3072\n",
       "Average_Number_of_Physically_Unhealthy_Days    3072\n",
       "Average_Number_of_Mentally_Unhealthy_Days      3072\n",
       "                                               ... \n",
       "High_school_only                               3072\n",
       "College_or_associates                          3072\n",
       "Bachelor_degree_or_higher                      3072\n",
       "Unreported_education                           3072\n",
       "Level                                          3072\n",
       "Length: 64, dtype: int64"
      ]
     },
     "execution_count": 12,
     "metadata": {},
     "output_type": "execute_result"
    }
   ],
   "source": [
    "col_count = df.count()\n",
    "col_count"
   ]
  },
  {
   "cell_type": "code",
   "execution_count": 13,
   "metadata": {},
   "outputs": [],
   "source": [
    "# Find columns with percent\n",
    "#percent_cols = [ col for col in df.columns if col.startswith( 'Percent_' ) ]\n",
    "# Convert back to number\n",
    "#value_cols = df[percent_cols].multiply(df[\"Population\"]//100, axis=\"index\")\n",
    "# assign new values\n",
    "#df[percent_cols] = value_cols\n",
    "#df.head()"
   ]
  },
  {
   "cell_type": "code",
   "execution_count": 14,
   "metadata": {},
   "outputs": [
    {
     "name": "stdout",
     "output_type": "stream",
     "text": [
      "[1 1 1 ... 2 2 3]\n"
     ]
    },
    {
     "data": {
      "text/html": [
       "<div>\n",
       "<style scoped>\n",
       "    .dataframe tbody tr th:only-of-type {\n",
       "        vertical-align: middle;\n",
       "    }\n",
       "\n",
       "    .dataframe tbody tr th {\n",
       "        vertical-align: top;\n",
       "    }\n",
       "\n",
       "    .dataframe thead th {\n",
       "        text-align: right;\n",
       "    }\n",
       "</style>\n",
       "<table border=\"1\" class=\"dataframe\">\n",
       "  <thead>\n",
       "    <tr style=\"text-align: right;\">\n",
       "      <th></th>\n",
       "      <th>Percent_Fair_or_Poor_Health</th>\n",
       "      <th>Average_Number_of_Physically_Unhealthy_Days</th>\n",
       "      <th>Average_Number_of_Mentally_Unhealthy_Days</th>\n",
       "      <th>Percent_Smokers</th>\n",
       "      <th>Percent_Adults_with_Obesity</th>\n",
       "      <th>Food_Environment_Index</th>\n",
       "      <th>Percent_Physically_Inactive</th>\n",
       "      <th>Percent_With_Access_to_Exercise_Opportunities</th>\n",
       "      <th>Percent_Excessive_Drinking</th>\n",
       "      <th>Percent_Uninsured</th>\n",
       "      <th>...</th>\n",
       "      <th>Female_30-59</th>\n",
       "      <th>Female_Over_60</th>\n",
       "      <th>Uninsured</th>\n",
       "      <th>Unreported_Insurance</th>\n",
       "      <th>Poverty</th>\n",
       "      <th>Less_than_high_school</th>\n",
       "      <th>High_school_only</th>\n",
       "      <th>College_or_associates</th>\n",
       "      <th>Bachelor_degree_or_higher</th>\n",
       "      <th>Unreported_education</th>\n",
       "    </tr>\n",
       "  </thead>\n",
       "  <tbody>\n",
       "    <tr>\n",
       "      <th>0</th>\n",
       "      <td>17</td>\n",
       "      <td>3.4</td>\n",
       "      <td>2.8</td>\n",
       "      <td>17</td>\n",
       "      <td>51</td>\n",
       "      <td>5.3</td>\n",
       "      <td>30</td>\n",
       "      <td>100</td>\n",
       "      <td>17</td>\n",
       "      <td>28</td>\n",
       "      <td>...</td>\n",
       "      <td>636</td>\n",
       "      <td>224</td>\n",
       "      <td>818.0</td>\n",
       "      <td>321</td>\n",
       "      <td>544.0</td>\n",
       "      <td>358</td>\n",
       "      <td>1061</td>\n",
       "      <td>882</td>\n",
       "      <td>336</td>\n",
       "      <td>878</td>\n",
       "    </tr>\n",
       "    <tr>\n",
       "      <th>1</th>\n",
       "      <td>15</td>\n",
       "      <td>3.0</td>\n",
       "      <td>2.5</td>\n",
       "      <td>15</td>\n",
       "      <td>44</td>\n",
       "      <td>7.6</td>\n",
       "      <td>30</td>\n",
       "      <td>100</td>\n",
       "      <td>19</td>\n",
       "      <td>20</td>\n",
       "      <td>...</td>\n",
       "      <td>995</td>\n",
       "      <td>298</td>\n",
       "      <td>907.0</td>\n",
       "      <td>579</td>\n",
       "      <td>550.0</td>\n",
       "      <td>459</td>\n",
       "      <td>1664</td>\n",
       "      <td>1309</td>\n",
       "      <td>675</td>\n",
       "      <td>1616</td>\n",
       "    </tr>\n",
       "    <tr>\n",
       "      <th>2</th>\n",
       "      <td>15</td>\n",
       "      <td>3.5</td>\n",
       "      <td>3.2</td>\n",
       "      <td>15</td>\n",
       "      <td>32</td>\n",
       "      <td>8.0</td>\n",
       "      <td>18</td>\n",
       "      <td>100</td>\n",
       "      <td>21</td>\n",
       "      <td>13</td>\n",
       "      <td>...</td>\n",
       "      <td>57528</td>\n",
       "      <td>25646</td>\n",
       "      <td>30742.0</td>\n",
       "      <td>37266</td>\n",
       "      <td>27075.0</td>\n",
       "      <td>11867</td>\n",
       "      <td>45753</td>\n",
       "      <td>66655</td>\n",
       "      <td>67719</td>\n",
       "      <td>99544</td>\n",
       "    </tr>\n",
       "    <tr>\n",
       "      <th>3</th>\n",
       "      <td>24</td>\n",
       "      <td>5.4</td>\n",
       "      <td>4.6</td>\n",
       "      <td>30</td>\n",
       "      <td>31</td>\n",
       "      <td>2.9</td>\n",
       "      <td>31</td>\n",
       "      <td>100</td>\n",
       "      <td>22</td>\n",
       "      <td>20</td>\n",
       "      <td>...</td>\n",
       "      <td>2830</td>\n",
       "      <td>1108</td>\n",
       "      <td>2971.0</td>\n",
       "      <td>1661</td>\n",
       "      <td>5869.0</td>\n",
       "      <td>1798</td>\n",
       "      <td>4371</td>\n",
       "      <td>2314</td>\n",
       "      <td>1194</td>\n",
       "      <td>8539</td>\n",
       "    </tr>\n",
       "    <tr>\n",
       "      <th>4</th>\n",
       "      <td>15</td>\n",
       "      <td>3.7</td>\n",
       "      <td>3.6</td>\n",
       "      <td>18</td>\n",
       "      <td>42</td>\n",
       "      <td>6.9</td>\n",
       "      <td>29</td>\n",
       "      <td>100</td>\n",
       "      <td>21</td>\n",
       "      <td>17</td>\n",
       "      <td>...</td>\n",
       "      <td>172</td>\n",
       "      <td>88</td>\n",
       "      <td>119.0</td>\n",
       "      <td>143</td>\n",
       "      <td>96.0</td>\n",
       "      <td>36</td>\n",
       "      <td>225</td>\n",
       "      <td>240</td>\n",
       "      <td>144</td>\n",
       "      <td>232</td>\n",
       "    </tr>\n",
       "  </tbody>\n",
       "</table>\n",
       "<p>5 rows × 59 columns</p>\n",
       "</div>"
      ],
      "text/plain": [
       "   Percent_Fair_or_Poor_Health  Average_Number_of_Physically_Unhealthy_Days  \\\n",
       "0                           17                                          3.4   \n",
       "1                           15                                          3.0   \n",
       "2                           15                                          3.5   \n",
       "3                           24                                          5.4   \n",
       "4                           15                                          3.7   \n",
       "\n",
       "   Average_Number_of_Mentally_Unhealthy_Days  Percent_Smokers  \\\n",
       "0                                        2.8               17   \n",
       "1                                        2.5               15   \n",
       "2                                        3.2               15   \n",
       "3                                        4.6               30   \n",
       "4                                        3.6               18   \n",
       "\n",
       "   Percent_Adults_with_Obesity  Food_Environment_Index  \\\n",
       "0                           51                     5.3   \n",
       "1                           44                     7.6   \n",
       "2                           32                     8.0   \n",
       "3                           31                     2.9   \n",
       "4                           42                     6.9   \n",
       "\n",
       "   Percent_Physically_Inactive  Percent_With_Access_to_Exercise_Opportunities  \\\n",
       "0                           30                                            100   \n",
       "1                           30                                            100   \n",
       "2                           18                                            100   \n",
       "3                           31                                            100   \n",
       "4                           29                                            100   \n",
       "\n",
       "   Percent_Excessive_Drinking  Percent_Uninsured  ...  Female_30-59  \\\n",
       "0                          17                 28  ...           636   \n",
       "1                          19                 20  ...           995   \n",
       "2                          21                 13  ...         57528   \n",
       "3                          22                 20  ...          2830   \n",
       "4                          21                 17  ...           172   \n",
       "\n",
       "   Female_Over_60  Uninsured  Unreported_Insurance  Poverty  \\\n",
       "0             224      818.0                   321    544.0   \n",
       "1             298      907.0                   579    550.0   \n",
       "2           25646    30742.0                 37266  27075.0   \n",
       "3            1108     2971.0                  1661   5869.0   \n",
       "4              88      119.0                   143     96.0   \n",
       "\n",
       "   Less_than_high_school  High_school_only  College_or_associates  \\\n",
       "0                    358              1061                    882   \n",
       "1                    459              1664                   1309   \n",
       "2                  11867             45753                  66655   \n",
       "3                   1798              4371                   2314   \n",
       "4                     36               225                    240   \n",
       "\n",
       "   Bachelor_degree_or_higher  Unreported_education  \n",
       "0                        336                   878  \n",
       "1                        675                  1616  \n",
       "2                      67719                 99544  \n",
       "3                       1194                  8539  \n",
       "4                        144                   232  \n",
       "\n",
       "[5 rows x 59 columns]"
      ]
     },
     "execution_count": 14,
     "metadata": {},
     "output_type": "execute_result"
    }
   ],
   "source": [
    "# Drop column list\n",
    "drop_cols = [\"Level\",\"State_Name\",\"County\", \"Presence_of_Water_Violation\", \"Insured\", \"Unreported_Insurance\"]\n",
    "# Target\n",
    "y = df[\"Level\"].values\n",
    "print(y)\n",
    "# Create our features\n",
    "X = df.drop(columns= drop_cols)\n",
    "X.head()"
   ]
  },
  {
   "cell_type": "code",
   "execution_count": 15,
   "metadata": {},
   "outputs": [],
   "source": [
    "# Create X_train, X_test, y_train, y_test\n",
    "X_train, X_test, y_train, y_test = train_test_split(X, y, test_size=0.7, random_state=78, stratify=y)"
   ]
  },
  {
   "cell_type": "code",
   "execution_count": 16,
   "metadata": {},
   "outputs": [],
   "source": [
    "# Creating a StandardScaler instance.\n",
    "scaler = StandardScaler()\n",
    "# Fitting the Standard Scaler with the training data.\n",
    "X_scaler = scaler.fit(X_train)\n",
    "\n",
    "# Scaling the data.\n",
    "X_train_scaled = X_scaler.transform(X_train)\n",
    "\n",
    "X_test_scaled = X_scaler.transform(X_test)"
   ]
  },
  {
   "cell_type": "markdown",
   "metadata": {},
   "source": [
    "# Logistic Regression"
   ]
  },
  {
   "cell_type": "code",
   "execution_count": 17,
   "metadata": {},
   "outputs": [
    {
     "data": {
      "text/plain": [
       "LogisticRegression(C=1.0, class_weight=None, dual=False, fit_intercept=True,\n",
       "                   intercept_scaling=1, l1_ratio=None, max_iter=100,\n",
       "                   multi_class='auto', n_jobs=None, penalty='l2',\n",
       "                   random_state=78, solver='lbfgs', tol=0.0001, verbose=0,\n",
       "                   warm_start=False)"
      ]
     },
     "execution_count": 17,
     "metadata": {},
     "output_type": "execute_result"
    }
   ],
   "source": [
    "# Train the Logistic Regression model using the resampled data\n",
    "from sklearn.linear_model import LogisticRegression\n",
    "\n",
    "lr_model = LogisticRegression(solver='lbfgs', random_state=78)\n",
    "lr_model.fit(X_train_scaled, y_train)"
   ]
  },
  {
   "cell_type": "code",
   "execution_count": 18,
   "metadata": {},
   "outputs": [
    {
     "data": {
      "text/plain": [
       "0.5481171548117155"
      ]
     },
     "execution_count": 18,
     "metadata": {},
     "output_type": "execute_result"
    }
   ],
   "source": [
    "# Run the test with model\n",
    "y_pred = lr_model.predict(X_test_scaled)\n",
    "# Find accuracy\n",
    "accuracy_score(y_test, y_pred)"
   ]
  },
  {
   "cell_type": "code",
   "execution_count": 19,
   "metadata": {},
   "outputs": [
    {
     "data": {
      "text/html": [
       "<div>\n",
       "<style scoped>\n",
       "    .dataframe tbody tr th:only-of-type {\n",
       "        vertical-align: middle;\n",
       "    }\n",
       "\n",
       "    .dataframe tbody tr th {\n",
       "        vertical-align: top;\n",
       "    }\n",
       "\n",
       "    .dataframe thead th {\n",
       "        text-align: right;\n",
       "    }\n",
       "</style>\n",
       "<table border=\"1\" class=\"dataframe\">\n",
       "  <thead>\n",
       "    <tr style=\"text-align: right;\">\n",
       "      <th></th>\n",
       "      <th>Predicted 1</th>\n",
       "      <th>Predicted 2</th>\n",
       "      <th>Predicted 3</th>\n",
       "      <th>Predicted 4</th>\n",
       "    </tr>\n",
       "  </thead>\n",
       "  <tbody>\n",
       "    <tr>\n",
       "      <th>Actual 1</th>\n",
       "      <td>286</td>\n",
       "      <td>191</td>\n",
       "      <td>18</td>\n",
       "      <td>10</td>\n",
       "    </tr>\n",
       "    <tr>\n",
       "      <th>Actual 2</th>\n",
       "      <td>138</td>\n",
       "      <td>361</td>\n",
       "      <td>106</td>\n",
       "      <td>64</td>\n",
       "    </tr>\n",
       "    <tr>\n",
       "      <th>Actual 3</th>\n",
       "      <td>19</td>\n",
       "      <td>132</td>\n",
       "      <td>141</td>\n",
       "      <td>146</td>\n",
       "    </tr>\n",
       "    <tr>\n",
       "      <th>Actual 4</th>\n",
       "      <td>12</td>\n",
       "      <td>54</td>\n",
       "      <td>82</td>\n",
       "      <td>391</td>\n",
       "    </tr>\n",
       "  </tbody>\n",
       "</table>\n",
       "</div>"
      ],
      "text/plain": [
       "          Predicted 1  Predicted 2  Predicted 3  Predicted 4\n",
       "Actual 1          286          191           18           10\n",
       "Actual 2          138          361          106           64\n",
       "Actual 3           19          132          141          146\n",
       "Actual 4           12           54           82          391"
      ]
     },
     "execution_count": 19,
     "metadata": {},
     "output_type": "execute_result"
    }
   ],
   "source": [
    "cm = confusion_matrix(y_test, y_pred)\n",
    "\n",
    "# Create a DataFrame from the confusion matrix.\n",
    "cm_df = pd.DataFrame(\n",
    "    cm, index=[\"Actual 1\", \"Actual 2\", \"Actual 3\", \"Actual 4\"], columns=[\"Predicted 1\", \"Predicted 2\", \"Predicted 3\", \"Predicted 4\"])\n",
    "\n",
    "cm_df"
   ]
  },
  {
   "cell_type": "code",
   "execution_count": 20,
   "metadata": {},
   "outputs": [
    {
     "name": "stdout",
     "output_type": "stream",
     "text": [
      "Classification Report\n",
      "              precision    recall  f1-score   support\n",
      "\n",
      "           1       0.63      0.57      0.60       505\n",
      "           2       0.49      0.54      0.51       669\n",
      "           3       0.41      0.32      0.36       438\n",
      "           4       0.64      0.73      0.68       539\n",
      "\n",
      "    accuracy                           0.55      2151\n",
      "   macro avg       0.54      0.54      0.54      2151\n",
      "weighted avg       0.54      0.55      0.54      2151\n",
      "\n"
     ]
    }
   ],
   "source": [
    "print(\"Classification Report\")\n",
    "print(classification_report(y_test, y_pred))"
   ]
  },
  {
   "cell_type": "markdown",
   "metadata": {},
   "source": [
    "# KNeighbors"
   ]
  },
  {
   "cell_type": "code",
   "execution_count": 21,
   "metadata": {},
   "outputs": [],
   "source": [
    "from sklearn.neighbors import KNeighborsClassifier\n",
    "kn_model = KNeighborsClassifier(n_neighbors=25)"
   ]
  },
  {
   "cell_type": "code",
   "execution_count": 22,
   "metadata": {},
   "outputs": [],
   "source": [
    "kn_model = kn_model.fit(X_train_scaled, y_train)"
   ]
  },
  {
   "cell_type": "code",
   "execution_count": 23,
   "metadata": {},
   "outputs": [
    {
     "data": {
      "text/plain": [
       "0.5406787540678754"
      ]
     },
     "execution_count": 23,
     "metadata": {},
     "output_type": "execute_result"
    }
   ],
   "source": [
    "# Run the test with model\n",
    "y_pred = kn_model.predict(X_test_scaled)\n",
    "# Find accuracy\n",
    "accuracy_score(y_test, y_pred)"
   ]
  },
  {
   "cell_type": "code",
   "execution_count": 24,
   "metadata": {},
   "outputs": [
    {
     "data": {
      "text/html": [
       "<div>\n",
       "<style scoped>\n",
       "    .dataframe tbody tr th:only-of-type {\n",
       "        vertical-align: middle;\n",
       "    }\n",
       "\n",
       "    .dataframe tbody tr th {\n",
       "        vertical-align: top;\n",
       "    }\n",
       "\n",
       "    .dataframe thead th {\n",
       "        text-align: right;\n",
       "    }\n",
       "</style>\n",
       "<table border=\"1\" class=\"dataframe\">\n",
       "  <thead>\n",
       "    <tr style=\"text-align: right;\">\n",
       "      <th></th>\n",
       "      <th>Predicted 1</th>\n",
       "      <th>Predicted 2</th>\n",
       "      <th>Predicted 3</th>\n",
       "      <th>Predicted 4</th>\n",
       "    </tr>\n",
       "  </thead>\n",
       "  <tbody>\n",
       "    <tr>\n",
       "      <th>Actual 1</th>\n",
       "      <td>267</td>\n",
       "      <td>207</td>\n",
       "      <td>16</td>\n",
       "      <td>15</td>\n",
       "    </tr>\n",
       "    <tr>\n",
       "      <th>Actual 2</th>\n",
       "      <td>134</td>\n",
       "      <td>356</td>\n",
       "      <td>111</td>\n",
       "      <td>68</td>\n",
       "    </tr>\n",
       "    <tr>\n",
       "      <th>Actual 3</th>\n",
       "      <td>25</td>\n",
       "      <td>119</td>\n",
       "      <td>147</td>\n",
       "      <td>147</td>\n",
       "    </tr>\n",
       "    <tr>\n",
       "      <th>Actual 4</th>\n",
       "      <td>9</td>\n",
       "      <td>42</td>\n",
       "      <td>95</td>\n",
       "      <td>393</td>\n",
       "    </tr>\n",
       "  </tbody>\n",
       "</table>\n",
       "</div>"
      ],
      "text/plain": [
       "          Predicted 1  Predicted 2  Predicted 3  Predicted 4\n",
       "Actual 1          267          207           16           15\n",
       "Actual 2          134          356          111           68\n",
       "Actual 3           25          119          147          147\n",
       "Actual 4            9           42           95          393"
      ]
     },
     "execution_count": 24,
     "metadata": {},
     "output_type": "execute_result"
    }
   ],
   "source": [
    "cm = confusion_matrix(y_test, y_pred)\n",
    "\n",
    "# Create a DataFrame from the confusion matrix.\n",
    "cm_df = pd.DataFrame(\n",
    "    cm, index=[\"Actual 1\", \"Actual 2\", \"Actual 3\", \"Actual 4\"], columns=[\"Predicted 1\", \"Predicted 2\", \"Predicted 3\", \"Predicted 4\"])\n",
    "\n",
    "cm_df"
   ]
  },
  {
   "cell_type": "code",
   "execution_count": 25,
   "metadata": {},
   "outputs": [
    {
     "name": "stdout",
     "output_type": "stream",
     "text": [
      "Classification Report\n",
      "              precision    recall  f1-score   support\n",
      "\n",
      "           1       0.61      0.53      0.57       505\n",
      "           2       0.49      0.53      0.51       669\n",
      "           3       0.40      0.34      0.36       438\n",
      "           4       0.63      0.73      0.68       539\n",
      "\n",
      "    accuracy                           0.54      2151\n",
      "   macro avg       0.53      0.53      0.53      2151\n",
      "weighted avg       0.54      0.54      0.54      2151\n",
      "\n"
     ]
    }
   ],
   "source": [
    "print(\"Classification Report\")\n",
    "print(classification_report(y_test, y_pred))"
   ]
  },
  {
   "cell_type": "markdown",
   "metadata": {},
   "source": [
    "# Decision Tree"
   ]
  },
  {
   "cell_type": "code",
   "execution_count": 26,
   "metadata": {},
   "outputs": [],
   "source": [
    "from sklearn.tree import DecisionTreeClassifier\n",
    "# Create a model Decision Tree\n",
    "dt_model =  DecisionTreeClassifier(random_state=78) "
   ]
  },
  {
   "cell_type": "code",
   "execution_count": 27,
   "metadata": {},
   "outputs": [],
   "source": [
    "dt_model = dt_model.fit(X_train_scaled, y_train)"
   ]
  },
  {
   "cell_type": "code",
   "execution_count": 28,
   "metadata": {},
   "outputs": [
    {
     "data": {
      "text/plain": [
       "0.46350534635053464"
      ]
     },
     "execution_count": 28,
     "metadata": {},
     "output_type": "execute_result"
    }
   ],
   "source": [
    "# Run the test with model\n",
    "y_pred = dt_model.predict(X_test_scaled)\n",
    "# Find accuracy\n",
    "accuracy_score(y_test, y_pred)"
   ]
  },
  {
   "cell_type": "code",
   "execution_count": 29,
   "metadata": {},
   "outputs": [
    {
     "data": {
      "text/html": [
       "<div>\n",
       "<style scoped>\n",
       "    .dataframe tbody tr th:only-of-type {\n",
       "        vertical-align: middle;\n",
       "    }\n",
       "\n",
       "    .dataframe tbody tr th {\n",
       "        vertical-align: top;\n",
       "    }\n",
       "\n",
       "    .dataframe thead th {\n",
       "        text-align: right;\n",
       "    }\n",
       "</style>\n",
       "<table border=\"1\" class=\"dataframe\">\n",
       "  <thead>\n",
       "    <tr style=\"text-align: right;\">\n",
       "      <th></th>\n",
       "      <th>Predicted 1</th>\n",
       "      <th>Predicted 2</th>\n",
       "      <th>Predicted 3</th>\n",
       "      <th>Predicted 4</th>\n",
       "    </tr>\n",
       "  </thead>\n",
       "  <tbody>\n",
       "    <tr>\n",
       "      <th>Actual 1</th>\n",
       "      <td>260</td>\n",
       "      <td>160</td>\n",
       "      <td>55</td>\n",
       "      <td>30</td>\n",
       "    </tr>\n",
       "    <tr>\n",
       "      <th>Actual 2</th>\n",
       "      <td>168</td>\n",
       "      <td>281</td>\n",
       "      <td>136</td>\n",
       "      <td>84</td>\n",
       "    </tr>\n",
       "    <tr>\n",
       "      <th>Actual 3</th>\n",
       "      <td>37</td>\n",
       "      <td>135</td>\n",
       "      <td>129</td>\n",
       "      <td>137</td>\n",
       "    </tr>\n",
       "    <tr>\n",
       "      <th>Actual 4</th>\n",
       "      <td>31</td>\n",
       "      <td>65</td>\n",
       "      <td>116</td>\n",
       "      <td>327</td>\n",
       "    </tr>\n",
       "  </tbody>\n",
       "</table>\n",
       "</div>"
      ],
      "text/plain": [
       "          Predicted 1  Predicted 2  Predicted 3  Predicted 4\n",
       "Actual 1          260          160           55           30\n",
       "Actual 2          168          281          136           84\n",
       "Actual 3           37          135          129          137\n",
       "Actual 4           31           65          116          327"
      ]
     },
     "execution_count": 29,
     "metadata": {},
     "output_type": "execute_result"
    }
   ],
   "source": [
    "cm = confusion_matrix(y_test, y_pred)\n",
    "\n",
    "# Create a DataFrame from the confusion matrix.\n",
    "cm_df = pd.DataFrame(\n",
    "    cm, index=[\"Actual 1\", \"Actual 2\", \"Actual 3\", \"Actual 4\"], columns=[\"Predicted 1\", \"Predicted 2\", \"Predicted 3\", \"Predicted 4\"])\n",
    "\n",
    "cm_df"
   ]
  },
  {
   "cell_type": "code",
   "execution_count": 30,
   "metadata": {},
   "outputs": [
    {
     "name": "stdout",
     "output_type": "stream",
     "text": [
      "Classification Report\n",
      "              precision    recall  f1-score   support\n",
      "\n",
      "           1       0.52      0.51      0.52       505\n",
      "           2       0.44      0.42      0.43       669\n",
      "           3       0.30      0.29      0.30       438\n",
      "           4       0.57      0.61      0.59       539\n",
      "\n",
      "    accuracy                           0.46      2151\n",
      "   macro avg       0.46      0.46      0.46      2151\n",
      "weighted avg       0.46      0.46      0.46      2151\n",
      "\n"
     ]
    }
   ],
   "source": [
    "print(\"Classification Report\")\n",
    "print(classification_report(y_test, y_pred))"
   ]
  },
  {
   "cell_type": "code",
   "execution_count": 31,
   "metadata": {
    "scrolled": true
   },
   "outputs": [
    {
     "data": {
      "text/plain": [
       "[(0.12553599340711918, 'Percent_Smokers'),\n",
       " (0.06332640990391407, 'Median_Household_Income'),\n",
       " (0.050868625986736166, 'Population_Hispanic'),\n",
       " (0.047330437169794654, 'Violent_Crime_Rate'),\n",
       " (0.03711730341904912, 'Percent_Excessive_Drinking'),\n",
       " (0.03471725256007704, 'Percent_Some_College'),\n",
       " (0.03218387156378802, 'Percent_Physically_Inactive'),\n",
       " (0.029969274121726962, 'Percent_Drive_Alone_to_Work'),\n",
       " (0.02855387497386203, 'Polution_Average_Daily_PM2.5'),\n",
       " (0.02791707821516418, 'Social_Association_Rate'),\n",
       " (0.027483592160910897, 'Percent_With_Access_to_Exercise_Opportunities'),\n",
       " (0.025822414210828246, 'Percent_Insufficient_Sleep'),\n",
       " (0.02330350017276009, 'Household_Income_White'),\n",
       " (0.02312087317415478, 'Average_Number_of_Mentally_Unhealthy_Days'),\n",
       " (0.021000513168895243, 'Dentist_Rate'),\n",
       " (0.019730239592115697, 'Preventable_Hospitalization_Rate'),\n",
       " (0.019488897598548657, 'Percent_Unemployed'),\n",
       " (0.018856910842594825, 'Household_Income_Asian'),\n",
       " (0.017904407505505426, 'Primary_Care_Physicians_Rate'),\n",
       " (0.01651149542975712, 'Percent_Adults_with_Diabetes'),\n",
       " (0.015529263789240398, 'College_or_associates'),\n",
       " (0.015372745256220741, 'Food_Environment_Index'),\n",
       " (0.0151083380743356, 'Percent_Uninsured'),\n",
       " (0.0149740389429031, 'Percent_Long_Commute'),\n",
       " (0.014682615064669871, 'Percent_Adults_with_Obesity'),\n",
       " (0.01368708297246107, 'Population_NHPI'),\n",
       " (0.013210930898328714, 'Population_Asian'),\n",
       " (0.012912614517819877, 'Population_AIAN'),\n",
       " (0.012378185911289133, 'Percent_Homeowners'),\n",
       " (0.01216146814458136, 'Poverty'),\n",
       " (0.01214003579831112, 'Average_Number_of_Physically_Unhealthy_Days'),\n",
       " (0.011836212251777473, 'High_School_Graduation_Rate'),\n",
       " (0.01168448445538262, 'Percent_Vaccinated'),\n",
       " (0.010516765051141585, 'Percent_Single_Parent_Households'),\n",
       " (0.01048487747381692, 'Household_Income_Hispanic'),\n",
       " (0.010324968017223227, 'Population_Black'),\n",
       " (0.00937016244335302, 'Mental_Health_Provider_Rate'),\n",
       " (0.008561892143468157, 'Female_Over_60'),\n",
       " (0.008013744308543196, 'Unreported_education'),\n",
       " (0.007671735996011486, 'Percent_Fair_or_Poor_Health'),\n",
       " (0.007138154487428124, 'Household_Income_AIAN'),\n",
       " (0.00634894600222495, 'Less_than_high_school'),\n",
       " (0.0052082345275253055, 'Pop_Between_30-59'),\n",
       " (0.005158429194956262, 'Population'),\n",
       " (0.005108347358112027, 'Pop_Over_60'),\n",
       " (0.00484297866418413, 'Pop_Under_30'),\n",
       " (0.004503685834090604, 'Percent_Limited_Access_to_Healthy_Foods'),\n",
       " (0.004400697507637633, 'High_school_only'),\n",
       " (0.004378583449810309, 'Female_30-59'),\n",
       " (0.00418947012770077, 'Household_Income_Black'),\n",
       " (0.004135328813709736, 'Percent_Severe_Housing_Problems'),\n",
       " (0.003700945534958713, 'Male_Under_30'),\n",
       " (0.0034055649054080188, 'Female_Under_30'),\n",
       " (0.0024666873625637012, 'Uninsured'),\n",
       " (0.0021892917249051545, 'Bachelor_degree_or_higher'),\n",
       " (0.0014595278166034363, 'Male_30-59'),\n",
       " (0.0, 'Unreported_Insurance'),\n",
       " (0.0, 'Population_NHW'),\n",
       " (0.0, 'Male_Over_60')]"
      ]
     },
     "execution_count": 31,
     "metadata": {},
     "output_type": "execute_result"
    }
   ],
   "source": [
    "importances = dt_model.feature_importances_\n",
    "sorted(zip(importances, X.columns), reverse=True)"
   ]
  },
  {
   "cell_type": "markdown",
   "metadata": {},
   "source": [
    "# Random Forest"
   ]
  },
  {
   "cell_type": "code",
   "execution_count": 32,
   "metadata": {},
   "outputs": [],
   "source": [
    "from sklearn.ensemble import RandomForestClassifier\n",
    "# Create a random forest classifier.\n",
    "rf_model = RandomForestClassifier(n_estimators=256, random_state=78, max_depth= 256) "
   ]
  },
  {
   "cell_type": "code",
   "execution_count": 33,
   "metadata": {},
   "outputs": [],
   "source": [
    "rf_model = rf_model.fit(X_train_scaled, y_train)"
   ]
  },
  {
   "cell_type": "code",
   "execution_count": 34,
   "metadata": {},
   "outputs": [
    {
     "data": {
      "text/plain": [
       "0.5671780567178056"
      ]
     },
     "execution_count": 34,
     "metadata": {},
     "output_type": "execute_result"
    }
   ],
   "source": [
    "# Run the test with model\n",
    "y_pred = rf_model.predict(X_test_scaled)\n",
    "# Find accuracy\n",
    "accuracy_score(y_test, y_pred)"
   ]
  },
  {
   "cell_type": "code",
   "execution_count": 35,
   "metadata": {
    "scrolled": true
   },
   "outputs": [
    {
     "data": {
      "text/html": [
       "<div>\n",
       "<style scoped>\n",
       "    .dataframe tbody tr th:only-of-type {\n",
       "        vertical-align: middle;\n",
       "    }\n",
       "\n",
       "    .dataframe tbody tr th {\n",
       "        vertical-align: top;\n",
       "    }\n",
       "\n",
       "    .dataframe thead th {\n",
       "        text-align: right;\n",
       "    }\n",
       "</style>\n",
       "<table border=\"1\" class=\"dataframe\">\n",
       "  <thead>\n",
       "    <tr style=\"text-align: right;\">\n",
       "      <th></th>\n",
       "      <th>Predicted 1</th>\n",
       "      <th>Predicted 2</th>\n",
       "      <th>Predicted 3</th>\n",
       "      <th>Predicted 4</th>\n",
       "    </tr>\n",
       "  </thead>\n",
       "  <tbody>\n",
       "    <tr>\n",
       "      <th>Actual 1</th>\n",
       "      <td>275</td>\n",
       "      <td>215</td>\n",
       "      <td>4</td>\n",
       "      <td>11</td>\n",
       "    </tr>\n",
       "    <tr>\n",
       "      <th>Actual 2</th>\n",
       "      <td>118</td>\n",
       "      <td>420</td>\n",
       "      <td>78</td>\n",
       "      <td>53</td>\n",
       "    </tr>\n",
       "    <tr>\n",
       "      <th>Actual 3</th>\n",
       "      <td>13</td>\n",
       "      <td>151</td>\n",
       "      <td>121</td>\n",
       "      <td>153</td>\n",
       "    </tr>\n",
       "    <tr>\n",
       "      <th>Actual 4</th>\n",
       "      <td>8</td>\n",
       "      <td>57</td>\n",
       "      <td>70</td>\n",
       "      <td>404</td>\n",
       "    </tr>\n",
       "  </tbody>\n",
       "</table>\n",
       "</div>"
      ],
      "text/plain": [
       "          Predicted 1  Predicted 2  Predicted 3  Predicted 4\n",
       "Actual 1          275          215            4           11\n",
       "Actual 2          118          420           78           53\n",
       "Actual 3           13          151          121          153\n",
       "Actual 4            8           57           70          404"
      ]
     },
     "execution_count": 35,
     "metadata": {},
     "output_type": "execute_result"
    }
   ],
   "source": [
    "cm = confusion_matrix(y_test, y_pred)\n",
    "\n",
    "# Create a DataFrame from the confusion matrix.\n",
    "cm_df = pd.DataFrame(\n",
    "    cm, index=[\"Actual 1\", \"Actual 2\", \"Actual 3\", \"Actual 4\"], columns=[\"Predicted 1\", \"Predicted 2\", \"Predicted 3\", \"Predicted 4\"])\n",
    "\n",
    "cm_df"
   ]
  },
  {
   "cell_type": "code",
   "execution_count": 36,
   "metadata": {},
   "outputs": [
    {
     "name": "stdout",
     "output_type": "stream",
     "text": [
      "Classification Report\n",
      "              precision    recall  f1-score   support\n",
      "\n",
      "           1       0.66      0.54      0.60       505\n",
      "           2       0.50      0.63      0.56       669\n",
      "           3       0.44      0.28      0.34       438\n",
      "           4       0.65      0.75      0.70       539\n",
      "\n",
      "    accuracy                           0.57      2151\n",
      "   macro avg       0.56      0.55      0.55      2151\n",
      "weighted avg       0.56      0.57      0.56      2151\n",
      "\n"
     ]
    }
   ],
   "source": [
    "print(\"Classification Report\")\n",
    "print(classification_report(y_test, y_pred))"
   ]
  },
  {
   "cell_type": "code",
   "execution_count": 37,
   "metadata": {},
   "outputs": [
    {
     "data": {
      "text/plain": [
       "[(0.047440964486028525, 'Median_Household_Income'),\n",
       " (0.03662709607295324, 'Percent_Smokers'),\n",
       " (0.03535033512457003, 'Percent_Physically_Inactive'),\n",
       " (0.032826721565950054, 'Average_Number_of_Physically_Unhealthy_Days'),\n",
       " (0.031362192228632554, 'Household_Income_White'),\n",
       " (0.03071258878433489, 'Average_Number_of_Mentally_Unhealthy_Days'),\n",
       " (0.030470241010100246, 'Polution_Average_Daily_PM2.5'),\n",
       " (0.030456764522666307, 'Percent_Fair_or_Poor_Health'),\n",
       " (0.02597506851397855, 'Preventable_Hospitalization_Rate'),\n",
       " (0.02313984040726755, 'Population_Hispanic'),\n",
       " (0.02107582260203885, 'Percent_Some_College'),\n",
       " (0.01977219086489466, 'Percent_With_Access_to_Exercise_Opportunities'),\n",
       " (0.01938000301353332, 'Percent_Insufficient_Sleep'),\n",
       " (0.018146722884301338, 'Percent_Unemployed'),\n",
       " (0.017892299996631365, 'Percent_Drive_Alone_to_Work'),\n",
       " (0.01771454466876277, 'Percent_Adults_with_Diabetes'),\n",
       " (0.01732615525902488, 'Percent_Excessive_Drinking'),\n",
       " (0.01714054454019118, 'Social_Association_Rate'),\n",
       " (0.016991554735768293, 'Population_Asian'),\n",
       " (0.016691353192708477, 'Percent_Single_Parent_Households'),\n",
       " (0.01653307517938481, 'Population_AIAN'),\n",
       " (0.016184068551970937, 'Violent_Crime_Rate'),\n",
       " (0.01614637074816455, 'Percent_Vaccinated'),\n",
       " (0.016123100327953926, 'Household_Income_Hispanic'),\n",
       " (0.015935274150982167, 'Bachelor_degree_or_higher'),\n",
       " (0.015888534180139517, 'Percent_Adults_with_Obesity'),\n",
       " (0.015806976422098346, 'Food_Environment_Index'),\n",
       " (0.015330864706160892, 'High_School_Graduation_Rate'),\n",
       " (0.01522117818636587, 'Dentist_Rate'),\n",
       " (0.014799719771548038, 'Population_NHPI'),\n",
       " (0.014766615656522547, 'Percent_Long_Commute'),\n",
       " (0.014439183968730182, 'Mental_Health_Provider_Rate'),\n",
       " (0.013938855758450362, 'Percent_Homeowners'),\n",
       " (0.0136203703918508, 'Primary_Care_Physicians_Rate'),\n",
       " (0.013054425346721682, 'Percent_Limited_Access_to_Healthy_Foods'),\n",
       " (0.012870940063842424, 'Population_Black'),\n",
       " (0.012758953395564893, 'Population_NHW'),\n",
       " (0.012580727554733028, 'Uninsured'),\n",
       " (0.012408329766460788, 'Percent_Uninsured'),\n",
       " (0.012387421174792097, 'Percent_Severe_Housing_Problems'),\n",
       " (0.012375843053056994, 'Less_than_high_school'),\n",
       " (0.012344295831591015, 'Unreported_Insurance'),\n",
       " (0.012331424381245333, 'Unreported_education'),\n",
       " (0.01214391009949508, 'Poverty'),\n",
       " (0.012019150636432423, 'College_or_associates'),\n",
       " (0.011654121686820913, 'Household_Income_Black'),\n",
       " (0.011103524969249177, 'Pop_Under_30'),\n",
       " (0.010916867252968025, 'Male_Over_60'),\n",
       " (0.010618161076024606, 'Female_Over_60'),\n",
       " (0.010538744239518926, 'High_school_only'),\n",
       " (0.010534391746346686, 'Pop_Over_60'),\n",
       " (0.010284498623766538, 'Population'),\n",
       " (0.010200656634426895, 'Male_Under_30'),\n",
       " (0.009766370270551281, 'Female_Under_30'),\n",
       " (0.009482052025769376, 'Pop_Between_30-59'),\n",
       " (0.009440350883157235, 'Male_30-59'),\n",
       " (0.009434710436894922, 'Female_30-59'),\n",
       " (0.009174149776611204, 'Household_Income_AIAN'),\n",
       " (0.00834878659929836, 'Household_Income_Asian')]"
      ]
     },
     "execution_count": 37,
     "metadata": {},
     "output_type": "execute_result"
    }
   ],
   "source": [
    "importances = rf_model.feature_importances_\n",
    "sorted(zip(importances, X.columns), reverse=True)"
   ]
  },
  {
   "cell_type": "markdown",
   "metadata": {},
   "source": [
    "# Extra Trees"
   ]
  },
  {
   "cell_type": "code",
   "execution_count": 38,
   "metadata": {},
   "outputs": [],
   "source": [
    "from sklearn.ensemble import ExtraTreesClassifier\n",
    "# Create a extra Trees classifier.\n",
    "et_model = ExtraTreesClassifier(n_estimators=256, random_state=78) "
   ]
  },
  {
   "cell_type": "code",
   "execution_count": 39,
   "metadata": {},
   "outputs": [],
   "source": [
    "et_model = et_model.fit(X_train_scaled, y_train)"
   ]
  },
  {
   "cell_type": "code",
   "execution_count": 40,
   "metadata": {},
   "outputs": [
    {
     "data": {
      "text/plain": [
       "0.5653184565318456"
      ]
     },
     "execution_count": 40,
     "metadata": {},
     "output_type": "execute_result"
    }
   ],
   "source": [
    "# Run the test with model\n",
    "y_pred = et_model.predict(X_test_scaled)\n",
    "# Find accuracy\n",
    "accuracy_score(y_test, y_pred)"
   ]
  },
  {
   "cell_type": "code",
   "execution_count": 41,
   "metadata": {},
   "outputs": [
    {
     "data": {
      "text/html": [
       "<div>\n",
       "<style scoped>\n",
       "    .dataframe tbody tr th:only-of-type {\n",
       "        vertical-align: middle;\n",
       "    }\n",
       "\n",
       "    .dataframe tbody tr th {\n",
       "        vertical-align: top;\n",
       "    }\n",
       "\n",
       "    .dataframe thead th {\n",
       "        text-align: right;\n",
       "    }\n",
       "</style>\n",
       "<table border=\"1\" class=\"dataframe\">\n",
       "  <thead>\n",
       "    <tr style=\"text-align: right;\">\n",
       "      <th></th>\n",
       "      <th>Predicted 1</th>\n",
       "      <th>Predicted 2</th>\n",
       "      <th>Predicted 3</th>\n",
       "      <th>Predicted 4</th>\n",
       "    </tr>\n",
       "  </thead>\n",
       "  <tbody>\n",
       "    <tr>\n",
       "      <th>Actual 1</th>\n",
       "      <td>270</td>\n",
       "      <td>217</td>\n",
       "      <td>5</td>\n",
       "      <td>13</td>\n",
       "    </tr>\n",
       "    <tr>\n",
       "      <th>Actual 2</th>\n",
       "      <td>118</td>\n",
       "      <td>412</td>\n",
       "      <td>75</td>\n",
       "      <td>64</td>\n",
       "    </tr>\n",
       "    <tr>\n",
       "      <th>Actual 3</th>\n",
       "      <td>16</td>\n",
       "      <td>136</td>\n",
       "      <td>126</td>\n",
       "      <td>160</td>\n",
       "    </tr>\n",
       "    <tr>\n",
       "      <th>Actual 4</th>\n",
       "      <td>6</td>\n",
       "      <td>57</td>\n",
       "      <td>68</td>\n",
       "      <td>408</td>\n",
       "    </tr>\n",
       "  </tbody>\n",
       "</table>\n",
       "</div>"
      ],
      "text/plain": [
       "          Predicted 1  Predicted 2  Predicted 3  Predicted 4\n",
       "Actual 1          270          217            5           13\n",
       "Actual 2          118          412           75           64\n",
       "Actual 3           16          136          126          160\n",
       "Actual 4            6           57           68          408"
      ]
     },
     "execution_count": 41,
     "metadata": {},
     "output_type": "execute_result"
    }
   ],
   "source": [
    "cm = confusion_matrix(y_test, y_pred)\n",
    "\n",
    "# Create a DataFrame from the confusion matrix.\n",
    "cm_df = pd.DataFrame(\n",
    "    cm, index=[\"Actual 1\", \"Actual 2\", \"Actual 3\", \"Actual 4\"], columns=[\"Predicted 1\", \"Predicted 2\", \"Predicted 3\", \"Predicted 4\"])\n",
    "\n",
    "cm_df"
   ]
  },
  {
   "cell_type": "code",
   "execution_count": 42,
   "metadata": {},
   "outputs": [
    {
     "name": "stdout",
     "output_type": "stream",
     "text": [
      "Classification Report\n",
      "              precision    recall  f1-score   support\n",
      "\n",
      "           1       0.66      0.53      0.59       505\n",
      "           2       0.50      0.62      0.55       669\n",
      "           3       0.46      0.29      0.35       438\n",
      "           4       0.63      0.76      0.69       539\n",
      "\n",
      "    accuracy                           0.57      2151\n",
      "   macro avg       0.56      0.55      0.55      2151\n",
      "weighted avg       0.56      0.57      0.56      2151\n",
      "\n"
     ]
    }
   ],
   "source": [
    "print(\"Classification Report\")\n",
    "print(classification_report(y_test, y_pred))"
   ]
  },
  {
   "cell_type": "code",
   "execution_count": 43,
   "metadata": {},
   "outputs": [
    {
     "data": {
      "text/plain": [
       "[(0.0346336335900122, 'Average_Number_of_Physically_Unhealthy_Days'),\n",
       " (0.03463076259408714, 'Average_Number_of_Mentally_Unhealthy_Days'),\n",
       " (0.03408861145432397, 'Percent_Physically_Inactive'),\n",
       " (0.031897032487277814, 'Percent_Fair_or_Poor_Health'),\n",
       " (0.03175765763159668, 'Median_Household_Income'),\n",
       " (0.031658509288754536, 'Percent_Smokers'),\n",
       " (0.025298956371648307, 'Percent_Insufficient_Sleep'),\n",
       " (0.023442029432160883, 'Polution_Average_Daily_PM2.5'),\n",
       " (0.022171693173418543, 'Percent_Some_College'),\n",
       " (0.021922393668829483, 'Household_Income_White'),\n",
       " (0.02150467118399844, 'Percent_Excessive_Drinking'),\n",
       " (0.021456711761935855, 'Percent_Adults_with_Diabetes'),\n",
       " (0.021047263817185115, 'Preventable_Hospitalization_Rate'),\n",
       " (0.020691733200641365, 'Percent_With_Access_to_Exercise_Opportunities'),\n",
       " (0.018896529319789256, 'Percent_Adults_with_Obesity'),\n",
       " (0.017030759723726873, 'Food_Environment_Index'),\n",
       " (0.01691493105225199, 'Percent_Drive_Alone_to_Work'),\n",
       " (0.016869517010090065, 'Percent_Unemployed'),\n",
       " (0.016862088489725625, 'Percent_Single_Parent_Households'),\n",
       " (0.016710155998215955, 'Population_Hispanic'),\n",
       " (0.016700927860879393, 'Household_Income_Hispanic'),\n",
       " (0.01627908800617231, 'Percent_Long_Commute'),\n",
       " (0.015854170764005016, 'Percent_Vaccinated'),\n",
       " (0.015456091450843193, 'High_School_Graduation_Rate'),\n",
       " (0.015385368058701459, 'Percent_Severe_Housing_Problems'),\n",
       " (0.015203670317613119, 'Social_Association_Rate'),\n",
       " (0.015106525169409152, 'Percent_Uninsured'),\n",
       " (0.015010930320094719, 'Dentist_Rate'),\n",
       " (0.014972259110540153, 'Violent_Crime_Rate'),\n",
       " (0.014782451969652128, 'Primary_Care_Physicians_Rate'),\n",
       " (0.014368546417149136, 'Population_AIAN'),\n",
       " (0.01435001246479031, 'Percent_Limited_Access_to_Healthy_Foods'),\n",
       " (0.01427685878900247, 'Percent_Homeowners'),\n",
       " (0.014191097004949867, 'Mental_Health_Provider_Rate'),\n",
       " (0.014175049709470712, 'Household_Income_Black'),\n",
       " (0.013928329254487714, 'Population_NHPI'),\n",
       " (0.013567547337146399, 'Bachelor_degree_or_higher'),\n",
       " (0.013135367372546926, 'Unreported_Insurance'),\n",
       " (0.013030935285440503, 'Household_Income_Asian'),\n",
       " (0.012933994794760062, 'Population_Asian'),\n",
       " (0.012903488075015592, 'Household_Income_AIAN'),\n",
       " (0.012645938348222687, 'Pop_Over_60'),\n",
       " (0.012591456140618055, 'Population_Black'),\n",
       " (0.012538805699479167, 'Unreported_education'),\n",
       " (0.012430106453069878, 'Population_NHW'),\n",
       " (0.01242827003099525, 'College_or_associates'),\n",
       " (0.012393703350123745, 'Female_Over_60'),\n",
       " (0.012390122351460706, 'Less_than_high_school'),\n",
       " (0.01227681340015933, 'Male_Over_60'),\n",
       " (0.011962525180758297, 'Population'),\n",
       " (0.011924028867694956, 'Uninsured'),\n",
       " (0.011835082774879139, 'Male_Under_30'),\n",
       " (0.011811322750981536, 'Female_30-59'),\n",
       " (0.011737226421979946, 'Poverty'),\n",
       " (0.0117153899164328, 'Female_Under_30'),\n",
       " (0.011518229184429386, 'High_school_only'),\n",
       " (0.011361717845086544, 'Pop_Under_30'),\n",
       " (0.011018965917479827, 'Male_30-59'),\n",
       " (0.01032194458380835, 'Pop_Between_30-59')]"
      ]
     },
     "execution_count": 43,
     "metadata": {},
     "output_type": "execute_result"
    }
   ],
   "source": [
    "importances = et_model.feature_importances_\n",
    "sorted(zip(importances, X.columns), reverse=True)"
   ]
  },
  {
   "cell_type": "markdown",
   "metadata": {},
   "source": [
    "# Ada Boost"
   ]
  },
  {
   "cell_type": "code",
   "execution_count": 44,
   "metadata": {},
   "outputs": [],
   "source": [
    "from sklearn.ensemble import AdaBoostClassifier\n",
    "\n",
    "ab_model = AdaBoostClassifier(n_estimators=256)"
   ]
  },
  {
   "cell_type": "code",
   "execution_count": 45,
   "metadata": {},
   "outputs": [],
   "source": [
    "ab_model = ab_model.fit(X_train_scaled, y_train)"
   ]
  },
  {
   "cell_type": "code",
   "execution_count": 46,
   "metadata": {},
   "outputs": [
    {
     "data": {
      "text/plain": [
       "0.5346350534635054"
      ]
     },
     "execution_count": 46,
     "metadata": {},
     "output_type": "execute_result"
    }
   ],
   "source": [
    "# Run the test with model\n",
    "y_pred = ab_model.predict(X_test_scaled)\n",
    "# Find accuracy\n",
    "accuracy_score(y_test, y_pred)"
   ]
  },
  {
   "cell_type": "code",
   "execution_count": 47,
   "metadata": {},
   "outputs": [
    {
     "data": {
      "text/html": [
       "<div>\n",
       "<style scoped>\n",
       "    .dataframe tbody tr th:only-of-type {\n",
       "        vertical-align: middle;\n",
       "    }\n",
       "\n",
       "    .dataframe tbody tr th {\n",
       "        vertical-align: top;\n",
       "    }\n",
       "\n",
       "    .dataframe thead th {\n",
       "        text-align: right;\n",
       "    }\n",
       "</style>\n",
       "<table border=\"1\" class=\"dataframe\">\n",
       "  <thead>\n",
       "    <tr style=\"text-align: right;\">\n",
       "      <th></th>\n",
       "      <th>Predicted 1</th>\n",
       "      <th>Predicted 2</th>\n",
       "      <th>Predicted 3</th>\n",
       "      <th>Predicted 4</th>\n",
       "    </tr>\n",
       "  </thead>\n",
       "  <tbody>\n",
       "    <tr>\n",
       "      <th>Actual 1</th>\n",
       "      <td>317</td>\n",
       "      <td>164</td>\n",
       "      <td>15</td>\n",
       "      <td>9</td>\n",
       "    </tr>\n",
       "    <tr>\n",
       "      <th>Actual 2</th>\n",
       "      <td>174</td>\n",
       "      <td>318</td>\n",
       "      <td>108</td>\n",
       "      <td>69</td>\n",
       "    </tr>\n",
       "    <tr>\n",
       "      <th>Actual 3</th>\n",
       "      <td>20</td>\n",
       "      <td>124</td>\n",
       "      <td>127</td>\n",
       "      <td>167</td>\n",
       "    </tr>\n",
       "    <tr>\n",
       "      <th>Actual 4</th>\n",
       "      <td>11</td>\n",
       "      <td>58</td>\n",
       "      <td>82</td>\n",
       "      <td>388</td>\n",
       "    </tr>\n",
       "  </tbody>\n",
       "</table>\n",
       "</div>"
      ],
      "text/plain": [
       "          Predicted 1  Predicted 2  Predicted 3  Predicted 4\n",
       "Actual 1          317          164           15            9\n",
       "Actual 2          174          318          108           69\n",
       "Actual 3           20          124          127          167\n",
       "Actual 4           11           58           82          388"
      ]
     },
     "execution_count": 47,
     "metadata": {},
     "output_type": "execute_result"
    }
   ],
   "source": [
    "cm = confusion_matrix(y_test, y_pred)\n",
    "\n",
    "# Create a DataFrame from the confusion matrix.\n",
    "cm_df = pd.DataFrame(\n",
    "    cm, index=[\"Actual 1\", \"Actual 2\", \"Actual 3\", \"Actual 4\"], columns=[\"Predicted 1\", \"Predicted 2\", \"Predicted 3\", \"Predicted 4\"])\n",
    "\n",
    "cm_df"
   ]
  },
  {
   "cell_type": "code",
   "execution_count": 48,
   "metadata": {},
   "outputs": [
    {
     "name": "stdout",
     "output_type": "stream",
     "text": [
      "Classification Report\n",
      "              precision    recall  f1-score   support\n",
      "\n",
      "           1       0.61      0.63      0.62       505\n",
      "           2       0.48      0.48      0.48       669\n",
      "           3       0.38      0.29      0.33       438\n",
      "           4       0.61      0.72      0.66       539\n",
      "\n",
      "    accuracy                           0.53      2151\n",
      "   macro avg       0.52      0.53      0.52      2151\n",
      "weighted avg       0.52      0.53      0.53      2151\n",
      "\n"
     ]
    }
   ],
   "source": [
    "print(\"Classification Report\")\n",
    "print(classification_report(y_test, y_pred))"
   ]
  },
  {
   "cell_type": "markdown",
   "metadata": {},
   "source": [
    "# Gradient Boosting"
   ]
  },
  {
   "cell_type": "code",
   "execution_count": 49,
   "metadata": {},
   "outputs": [],
   "source": [
    "from sklearn.ensemble import GradientBoostingClassifier\n",
    "\n",
    "gb_model = GradientBoostingClassifier(n_estimators=100, random_state=78)"
   ]
  },
  {
   "cell_type": "code",
   "execution_count": 50,
   "metadata": {},
   "outputs": [],
   "source": [
    "gb_model = gb_model.fit(X_train_scaled, y_train)"
   ]
  },
  {
   "cell_type": "code",
   "execution_count": 51,
   "metadata": {},
   "outputs": [
    {
     "data": {
      "text/plain": [
       "0.5592747559274756"
      ]
     },
     "execution_count": 51,
     "metadata": {},
     "output_type": "execute_result"
    }
   ],
   "source": [
    "# Run the test with model\n",
    "y_pred = gb_model.predict(X_test_scaled)\n",
    "# Find accuracy\n",
    "accuracy_score(y_test, y_pred)"
   ]
  },
  {
   "cell_type": "code",
   "execution_count": 52,
   "metadata": {},
   "outputs": [
    {
     "data": {
      "text/html": [
       "<div>\n",
       "<style scoped>\n",
       "    .dataframe tbody tr th:only-of-type {\n",
       "        vertical-align: middle;\n",
       "    }\n",
       "\n",
       "    .dataframe tbody tr th {\n",
       "        vertical-align: top;\n",
       "    }\n",
       "\n",
       "    .dataframe thead th {\n",
       "        text-align: right;\n",
       "    }\n",
       "</style>\n",
       "<table border=\"1\" class=\"dataframe\">\n",
       "  <thead>\n",
       "    <tr style=\"text-align: right;\">\n",
       "      <th></th>\n",
       "      <th>Predicted 1</th>\n",
       "      <th>Predicted 2</th>\n",
       "      <th>Predicted 3</th>\n",
       "      <th>Predicted 4</th>\n",
       "    </tr>\n",
       "  </thead>\n",
       "  <tbody>\n",
       "    <tr>\n",
       "      <th>Actual 1</th>\n",
       "      <td>296</td>\n",
       "      <td>171</td>\n",
       "      <td>28</td>\n",
       "      <td>10</td>\n",
       "    </tr>\n",
       "    <tr>\n",
       "      <th>Actual 2</th>\n",
       "      <td>142</td>\n",
       "      <td>371</td>\n",
       "      <td>110</td>\n",
       "      <td>46</td>\n",
       "    </tr>\n",
       "    <tr>\n",
       "      <th>Actual 3</th>\n",
       "      <td>21</td>\n",
       "      <td>136</td>\n",
       "      <td>147</td>\n",
       "      <td>134</td>\n",
       "    </tr>\n",
       "    <tr>\n",
       "      <th>Actual 4</th>\n",
       "      <td>11</td>\n",
       "      <td>51</td>\n",
       "      <td>88</td>\n",
       "      <td>389</td>\n",
       "    </tr>\n",
       "  </tbody>\n",
       "</table>\n",
       "</div>"
      ],
      "text/plain": [
       "          Predicted 1  Predicted 2  Predicted 3  Predicted 4\n",
       "Actual 1          296          171           28           10\n",
       "Actual 2          142          371          110           46\n",
       "Actual 3           21          136          147          134\n",
       "Actual 4           11           51           88          389"
      ]
     },
     "execution_count": 52,
     "metadata": {},
     "output_type": "execute_result"
    }
   ],
   "source": [
    "cm = confusion_matrix(y_test, y_pred)\n",
    "\n",
    "# Create a DataFrame from the confusion matrix.\n",
    "cm_df = pd.DataFrame(\n",
    "    cm, index=[\"Actual 1\", \"Actual 2\", \"Actual 3\", \"Actual 4\"], columns=[\"Predicted 1\", \"Predicted 2\", \"Predicted 3\", \"Predicted 4\"])\n",
    "\n",
    "cm_df"
   ]
  },
  {
   "cell_type": "code",
   "execution_count": 53,
   "metadata": {},
   "outputs": [
    {
     "name": "stdout",
     "output_type": "stream",
     "text": [
      "Classification Report\n",
      "              precision    recall  f1-score   support\n",
      "\n",
      "           1       0.63      0.59      0.61       505\n",
      "           2       0.51      0.55      0.53       669\n",
      "           3       0.39      0.34      0.36       438\n",
      "           4       0.67      0.72      0.70       539\n",
      "\n",
      "    accuracy                           0.56      2151\n",
      "   macro avg       0.55      0.55      0.55      2151\n",
      "weighted avg       0.55      0.56      0.56      2151\n",
      "\n"
     ]
    }
   ],
   "source": [
    "print(\"Classification Report\")\n",
    "print(classification_report(y_test, y_pred))"
   ]
  },
  {
   "cell_type": "markdown",
   "metadata": {},
   "source": [
    "# Deep Learning"
   ]
  },
  {
   "cell_type": "code",
   "execution_count": 54,
   "metadata": {},
   "outputs": [
    {
     "name": "stdout",
     "output_type": "stream",
     "text": [
      "Model: \"sequential\"\n",
      "_________________________________________________________________\n",
      "Layer (type)                 Output Shape              Param #   \n",
      "=================================================================\n",
      "dense (Dense)                (None, 1888)              113280    \n",
      "_________________________________________________________________\n",
      "dense_1 (Dense)              (None, 944)               1783216   \n",
      "_________________________________________________________________\n",
      "dense_2 (Dense)              (None, 472)               446040    \n",
      "_________________________________________________________________\n",
      "dense_3 (Dense)              (None, 236)               111628    \n",
      "_________________________________________________________________\n",
      "dense_4 (Dense)              (None, 1)                 237       \n",
      "=================================================================\n",
      "Total params: 2,454,401\n",
      "Trainable params: 2,454,401\n",
      "Non-trainable params: 0\n",
      "_________________________________________________________________\n"
     ]
    }
   ],
   "source": [
    "import tensorflow as tf\n",
    "# Define the model - deep neural net\n",
    "number_input_features = len(X_train_scaled[0])\n",
    "hidden_nodes_layer1 = number_input_features*32\n",
    "hidden_nodes_layer2 = number_input_features*16\n",
    "hidden_nodes_layer3 = number_input_features*8\n",
    "hidden_nodes_layer4 = number_input_features*4\n",
    "\n",
    "\n",
    "nn = tf.keras.models.Sequential()\n",
    "\n",
    "# First hidden layer\n",
    "nn.add(tf.keras.layers.Dense(units=hidden_nodes_layer1, input_dim=number_input_features, activation=\"relu\"))\n",
    "\n",
    "# Second hidden layer\n",
    "nn.add(tf.keras.layers.Dense(units=hidden_nodes_layer2, activation=\"relu\"))\n",
    "\n",
    "# Third hidden layer\n",
    "nn.add(tf.keras.layers.Dense(units=hidden_nodes_layer3, activation=\"relu\"))\n",
    "\n",
    "# fouth hidden layer\n",
    "nn.add(tf.keras.layers.Dense(units=hidden_nodes_layer4, activation=\"relu\"))\n",
    "\n",
    "# Output layer\n",
    "nn.add(tf.keras.layers.Dense(units=1, activation=\"relu\"))\n",
    "\n",
    "# Check the structure of the model\n",
    "nn.summary()"
   ]
  },
  {
   "cell_type": "code",
   "execution_count": 55,
   "metadata": {},
   "outputs": [],
   "source": [
    "# Compile the model\n",
    "nn.compile(loss=\"binary_crossentropy\", optimizer=\"adam\", metrics=[\"accuracy\"])"
   ]
  },
  {
   "cell_type": "code",
   "execution_count": 56,
   "metadata": {
    "scrolled": true
   },
   "outputs": [
    {
     "name": "stdout",
     "output_type": "stream",
     "text": [
      "Train on 921 samples\n",
      "Epoch 1/100\n",
      "921/921 [==============================] - 2s 2ms/sample - loss: -20.5122 - accuracy: 0.2269\n",
      "Epoch 2/100\n",
      "921/921 [==============================] - 1s 758us/sample - loss: -22.4020 - accuracy: 0.2356\n",
      "Epoch 3/100\n",
      "921/921 [==============================] - 1s 869us/sample - loss: -22.4020 - accuracy: 0.2356\n",
      "Epoch 4/100\n",
      "921/921 [==============================] - 1s 747us/sample - loss: -22.4020 - accuracy: 0.2356\n",
      "Epoch 5/100\n",
      "921/921 [==============================] - 1s 708us/sample - loss: -22.4020 - accuracy: 0.2356\n",
      "Epoch 6/100\n",
      "921/921 [==============================] - 1s 720us/sample - loss: -22.4020 - accuracy: 0.2356\n",
      "Epoch 7/100\n",
      "921/921 [==============================] - 1s 747us/sample - loss: -22.4020 - accuracy: 0.2356\n",
      "Epoch 8/100\n",
      "921/921 [==============================] - 1s 801us/sample - loss: -22.4020 - accuracy: 0.2356\n",
      "Epoch 9/100\n",
      "921/921 [==============================] - 1s 729us/sample - loss: -22.4020 - accuracy: 0.2356\n",
      "Epoch 10/100\n",
      "921/921 [==============================] - 1s 815us/sample - loss: -22.4020 - accuracy: 0.2356\n",
      "Epoch 11/100\n",
      "921/921 [==============================] - 1s 765us/sample - loss: -22.4020 - accuracy: 0.2356\n",
      "Epoch 12/100\n",
      "921/921 [==============================] - 1s 883us/sample - loss: -22.4020 - accuracy: 0.2356\n",
      "Epoch 13/100\n",
      "921/921 [==============================] - 1s 685us/sample - loss: -22.4020 - accuracy: 0.2356\n",
      "Epoch 14/100\n",
      "921/921 [==============================] - 1s 688us/sample - loss: -22.4020 - accuracy: 0.2356\n",
      "Epoch 15/100\n",
      "921/921 [==============================] - 1s 683us/sample - loss: -22.4020 - accuracy: 0.2356\n",
      "Epoch 16/100\n",
      "921/921 [==============================] - 1s 680us/sample - loss: -22.4020 - accuracy: 0.2356\n",
      "Epoch 17/100\n",
      "921/921 [==============================] - 1s 690us/sample - loss: -22.4020 - accuracy: 0.2356\n",
      "Epoch 18/100\n",
      "921/921 [==============================] - 1s 729us/sample - loss: -22.4020 - accuracy: 0.2356\n",
      "Epoch 19/100\n",
      "921/921 [==============================] - 1s 765us/sample - loss: -22.4020 - accuracy: 0.2356\n",
      "Epoch 20/100\n",
      "921/921 [==============================] - 1s 779us/sample - loss: -22.4020 - accuracy: 0.2356\n",
      "Epoch 21/100\n",
      "921/921 [==============================] - 1s 743us/sample - loss: -22.4020 - accuracy: 0.2356\n",
      "Epoch 22/100\n",
      "921/921 [==============================] - 1s 713us/sample - loss: -22.4020 - accuracy: 0.2356\n",
      "Epoch 23/100\n",
      "921/921 [==============================] - 1s 705us/sample - loss: -22.4020 - accuracy: 0.2356\n",
      "Epoch 24/100\n",
      "921/921 [==============================] - 1s 714us/sample - loss: -22.4020 - accuracy: 0.2356\n",
      "Epoch 25/100\n",
      "921/921 [==============================] - 1s 868us/sample - loss: -22.4020 - accuracy: 0.2356\n",
      "Epoch 26/100\n",
      "921/921 [==============================] - 1s 779us/sample - loss: -22.4020 - accuracy: 0.2356\n",
      "Epoch 27/100\n",
      "921/921 [==============================] - 1s 681us/sample - loss: -22.4020 - accuracy: 0.2356\n",
      "Epoch 28/100\n",
      "921/921 [==============================] - ETA: 0s - loss: -22.5806 - accuracy: 0.23 - 1s 709us/sample - loss: -22.4020 - accuracy: 0.2356\n",
      "Epoch 29/100\n",
      "921/921 [==============================] - 1s 745us/sample - loss: -22.4020 - accuracy: 0.2356\n",
      "Epoch 30/100\n",
      "921/921 [==============================] - 1s 830us/sample - loss: -22.4020 - accuracy: 0.2356\n",
      "Epoch 31/100\n",
      "921/921 [==============================] - 1s 836us/sample - loss: -22.4020 - accuracy: 0.2356\n",
      "Epoch 32/100\n",
      "921/921 [==============================] - 1s 759us/sample - loss: -22.4020 - accuracy: 0.2356\n",
      "Epoch 33/100\n",
      "921/921 [==============================] - 1s 702us/sample - loss: -22.4020 - accuracy: 0.2356\n",
      "Epoch 34/100\n",
      "921/921 [==============================] - 1s 758us/sample - loss: -22.4020 - accuracy: 0.2356\n",
      "Epoch 35/100\n",
      "921/921 [==============================] - 1s 693us/sample - loss: -22.4020 - accuracy: 0.2356\n",
      "Epoch 36/100\n",
      "921/921 [==============================] - 1s 780us/sample - loss: -22.4020 - accuracy: 0.2356\n",
      "Epoch 37/100\n",
      "921/921 [==============================] - 1s 840us/sample - loss: -22.4020 - accuracy: 0.2356\n",
      "Epoch 38/100\n",
      "921/921 [==============================] - 1s 784us/sample - loss: -22.4020 - accuracy: 0.2356\n",
      "Epoch 39/100\n",
      "921/921 [==============================] - 1s 789us/sample - loss: -22.4020 - accuracy: 0.2356\n",
      "Epoch 40/100\n",
      "921/921 [==============================] - 1s 761us/sample - loss: -22.4020 - accuracy: 0.2356\n",
      "Epoch 41/100\n",
      "921/921 [==============================] - 1s 721us/sample - loss: -22.4020 - accuracy: 0.2356\n",
      "Epoch 42/100\n",
      "921/921 [==============================] - 1s 791us/sample - loss: -22.4020 - accuracy: 0.2356\n",
      "Epoch 43/100\n",
      "921/921 [==============================] - 1s 884us/sample - loss: -22.4020 - accuracy: 0.2356\n",
      "Epoch 44/100\n",
      "921/921 [==============================] - 1s 720us/sample - loss: -22.4020 - accuracy: 0.2356 - loss: -23.7078 \n",
      "Epoch 45/100\n",
      "921/921 [==============================] - 1s 716us/sample - loss: -22.4020 - accuracy: 0.2356\n",
      "Epoch 46/100\n",
      "921/921 [==============================] - 1s 737us/sample - loss: -22.4020 - accuracy: 0.2356\n",
      "Epoch 47/100\n",
      "921/921 [==============================] - 1s 685us/sample - loss: -22.4020 - accuracy: 0.2356\n",
      "Epoch 48/100\n",
      "921/921 [==============================] - 1s 717us/sample - loss: -22.4020 - accuracy: 0.2356\n",
      "Epoch 49/100\n",
      "921/921 [==============================] - 1s 690us/sample - loss: -22.4020 - accuracy: 0.2356\n",
      "Epoch 50/100\n",
      "921/921 [==============================] - 1s 704us/sample - loss: -22.4020 - accuracy: 0.2356\n",
      "Epoch 51/100\n",
      "921/921 [==============================] - 1s 836us/sample - loss: -22.4020 - accuracy: 0.2356\n",
      "Epoch 52/100\n",
      "921/921 [==============================] - 1s 783us/sample - loss: -22.4020 - accuracy: 0.2356\n",
      "Epoch 53/100\n",
      "921/921 [==============================] - 1s 782us/sample - loss: -22.4020 - accuracy: 0.2356\n",
      "Epoch 54/100\n",
      "921/921 [==============================] - 1s 809us/sample - loss: -22.4020 - accuracy: 0.2356\n",
      "Epoch 55/100\n",
      "921/921 [==============================] - 1s 748us/sample - loss: -22.4020 - accuracy: 0.2356\n",
      "Epoch 56/100\n",
      "921/921 [==============================] - 1s 675us/sample - loss: -22.4020 - accuracy: 0.2356\n",
      "Epoch 57/100\n",
      "921/921 [==============================] - 1s 701us/sample - loss: -22.4020 - accuracy: 0.2356\n",
      "Epoch 58/100\n",
      "921/921 [==============================] - 1s 733us/sample - loss: -22.4020 - accuracy: 0.2356\n",
      "Epoch 59/100\n",
      "921/921 [==============================] - 1s 740us/sample - loss: -22.4020 - accuracy: 0.2356\n",
      "Epoch 60/100\n",
      "921/921 [==============================] - 1s 694us/sample - loss: -22.4020 - accuracy: 0.2356\n",
      "Epoch 61/100\n",
      "921/921 [==============================] - 1s 671us/sample - loss: -22.4020 - accuracy: 0.2356\n",
      "Epoch 62/100\n",
      "921/921 [==============================] - 1s 678us/sample - loss: -22.4020 - accuracy: 0.2356\n",
      "Epoch 63/100\n",
      "921/921 [==============================] - 1s 669us/sample - loss: -22.4020 - accuracy: 0.2356\n",
      "Epoch 64/100\n",
      "921/921 [==============================] - 1s 710us/sample - loss: -22.4020 - accuracy: 0.2356\n",
      "Epoch 65/100\n",
      "921/921 [==============================] - 1s 646us/sample - loss: -22.4020 - accuracy: 0.2356\n",
      "Epoch 66/100\n",
      "921/921 [==============================] - 1s 657us/sample - loss: -22.4020 - accuracy: 0.2356\n",
      "Epoch 67/100\n",
      "921/921 [==============================] - 1s 655us/sample - loss: -22.4020 - accuracy: 0.2356\n",
      "Epoch 68/100\n",
      "921/921 [==============================] - 1s 644us/sample - loss: -22.4020 - accuracy: 0.2356\n",
      "Epoch 69/100\n",
      "921/921 [==============================] - 1s 674us/sample - loss: -22.4020 - accuracy: 0.2356\n",
      "Epoch 70/100\n",
      "921/921 [==============================] - 1s 746us/sample - loss: -22.4020 - accuracy: 0.2356\n",
      "Epoch 71/100\n",
      "921/921 [==============================] - 1s 802us/sample - loss: -22.4020 - accuracy: 0.2356\n",
      "Epoch 72/100\n",
      "921/921 [==============================] - 1s 785us/sample - loss: -22.4020 - accuracy: 0.2356\n",
      "Epoch 73/100\n",
      "921/921 [==============================] - 1s 768us/sample - loss: -22.4020 - accuracy: 0.2356\n",
      "Epoch 74/100\n",
      "921/921 [==============================] - 1s 819us/sample - loss: -22.4020 - accuracy: 0.2356\n",
      "Epoch 75/100\n",
      "921/921 [==============================] - 1s 759us/sample - loss: -22.4020 - accuracy: 0.2356\n",
      "Epoch 76/100\n"
     ]
    },
    {
     "name": "stdout",
     "output_type": "stream",
     "text": [
      "921/921 [==============================] - 1s 760us/sample - loss: -22.4020 - accuracy: 0.2356 - loss: -21.6031 - accuracy: 0.24 - ETA: 0s - loss: -22.1352 - accuracy\n",
      "Epoch 77/100\n",
      "921/921 [==============================] - 1s 685us/sample - loss: -22.4020 - accuracy: 0.2356\n",
      "Epoch 78/100\n",
      "921/921 [==============================] - 1s 671us/sample - loss: -22.4020 - accuracy: 0.2356\n",
      "Epoch 79/100\n",
      "921/921 [==============================] - 1s 669us/sample - loss: -22.4020 - accuracy: 0.2356\n",
      "Epoch 80/100\n",
      "921/921 [==============================] - 1s 636us/sample - loss: -22.4020 - accuracy: 0.2356\n",
      "Epoch 81/100\n",
      "921/921 [==============================] - 1s 655us/sample - loss: -22.4020 - accuracy: 0.2356\n",
      "Epoch 82/100\n",
      "921/921 [==============================] - 1s 636us/sample - loss: -22.4020 - accuracy: 0.2356\n",
      "Epoch 83/100\n",
      "921/921 [==============================] - 1s 648us/sample - loss: -22.4020 - accuracy: 0.2356\n",
      "Epoch 84/100\n",
      "921/921 [==============================] - 1s 634us/sample - loss: -22.4020 - accuracy: 0.2356\n",
      "Epoch 85/100\n",
      "921/921 [==============================] - 1s 636us/sample - loss: -22.4020 - accuracy: 0.2356\n",
      "Epoch 86/100\n",
      "921/921 [==============================] - 1s 633us/sample - loss: -22.4020 - accuracy: 0.2356\n",
      "Epoch 87/100\n",
      "921/921 [==============================] - 1s 638us/sample - loss: -22.4020 - accuracy: 0.2356\n",
      "Epoch 88/100\n",
      "921/921 [==============================] - 1s 715us/sample - loss: -22.4020 - accuracy: 0.2356 - loss: -22.4314 - accuracy: 0.23\n",
      "Epoch 89/100\n",
      "921/921 [==============================] - 1s 737us/sample - loss: -22.4020 - accuracy: 0.2356\n",
      "Epoch 90/100\n",
      "921/921 [==============================] - 1s 708us/sample - loss: -22.4020 - accuracy: 0.2356\n",
      "Epoch 91/100\n",
      "921/921 [==============================] - 1s 718us/sample - loss: -22.4020 - accuracy: 0.2356\n",
      "Epoch 92/100\n",
      "921/921 [==============================] - 1s 744us/sample - loss: -22.4020 - accuracy: 0.2356\n",
      "Epoch 93/100\n",
      "921/921 [==============================] - 1s 744us/sample - loss: -22.4020 - accuracy: 0.2356\n",
      "Epoch 94/100\n",
      "921/921 [==============================] - 1s 756us/sample - loss: -22.4020 - accuracy: 0.2356\n",
      "Epoch 95/100\n",
      "921/921 [==============================] - 1s 718us/sample - loss: -22.4020 - accuracy: 0.2356\n",
      "Epoch 96/100\n",
      "921/921 [==============================] - 1s 798us/sample - loss: -22.4020 - accuracy: 0.2356 - loss: -21.7619 - \n",
      "Epoch 97/100\n",
      "921/921 [==============================] - 1s 706us/sample - loss: -22.4020 - accuracy: 0.2356\n",
      "Epoch 98/100\n",
      "921/921 [==============================] - 1s 755us/sample - loss: -22.4020 - accuracy: 0.2356\n",
      "Epoch 99/100\n",
      "921/921 [==============================] - 1s 670us/sample - loss: -22.4020 - accuracy: 0.2356\n",
      "Epoch 100/100\n",
      "921/921 [==============================] - 1s 630us/sample - loss: -22.4020 - accuracy: 0.2356\n"
     ]
    }
   ],
   "source": [
    "# Train the model\n",
    "fit_model = nn.fit(X_train_scaled,y_train,epochs=100)"
   ]
  },
  {
   "cell_type": "code",
   "execution_count": 57,
   "metadata": {},
   "outputs": [
    {
     "name": "stdout",
     "output_type": "stream",
     "text": [
      "2151/2151 - 0s - loss: -2.2417e+01 - accuracy: 0.2348\n",
      "Loss: -22.416593139307935, Accuracy: 0.23477452993392944\n"
     ]
    }
   ],
   "source": [
    "# Evaluate the model using the test data\n",
    "model_loss, model_accuracy = nn.evaluate(X_test_scaled,y_test,verbose=2)\n",
    "print(f\"Loss: {model_loss}, Accuracy: {model_accuracy}\")"
   ]
  }
 ],
 "metadata": {
  "kernelspec": {
   "display_name": "mlenv",
   "language": "python",
   "name": "mlenv"
  },
  "language_info": {
   "codemirror_mode": {
    "name": "ipython",
    "version": 3
   },
   "file_extension": ".py",
   "mimetype": "text/x-python",
   "name": "python",
   "nbconvert_exporter": "python",
   "pygments_lexer": "ipython3",
   "version": "3.7.7"
  }
 },
 "nbformat": 4,
 "nbformat_minor": 4
}
