{
 "cells": [
  {
   "cell_type": "code",
   "execution_count": 20,
   "metadata": {},
   "outputs": [],
   "source": [
    "import warnings\n",
    "warnings.filterwarnings('ignore')"
   ]
  },
  {
   "cell_type": "code",
   "execution_count": 21,
   "metadata": {},
   "outputs": [],
   "source": [
    "#load all dependencies\n",
    "import pandas as pd\n",
    "import numpy as np\n",
    "import sqlite3\n",
    "import matplotlib.pyplot as plt\n",
    "\n",
    "\n",
    "from sklearn.preprocessing import StandardScaler\n",
    "from sklearn.model_selection import train_test_split\n",
    "from sklearn.metrics import confusion_matrix, accuracy_score, classification_report"
   ]
  },
  {
   "cell_type": "code",
   "execution_count": 22,
   "metadata": {},
   "outputs": [],
   "source": [
    "#connect to database\n",
    "path = \"model/db/HeartDiseaseByCounty.db\"\n",
    "cnx = sqlite3.connect(path)"
   ]
  },
  {
   "cell_type": "code",
   "execution_count": 23,
   "metadata": {
    "scrolled": true
   },
   "outputs": [
    {
     "data": {
      "text/html": [
       "<div>\n",
       "<style scoped>\n",
       "    .dataframe tbody tr th:only-of-type {\n",
       "        vertical-align: middle;\n",
       "    }\n",
       "\n",
       "    .dataframe tbody tr th {\n",
       "        vertical-align: top;\n",
       "    }\n",
       "\n",
       "    .dataframe thead th {\n",
       "        text-align: right;\n",
       "    }\n",
       "</style>\n",
       "<table border=\"1\" class=\"dataframe\">\n",
       "  <thead>\n",
       "    <tr style=\"text-align: right;\">\n",
       "      <th></th>\n",
       "      <th>State_Name</th>\n",
       "      <th>County</th>\n",
       "      <th>Percent_Fair_or_Poor_Health</th>\n",
       "      <th>Average_Number_of_Physically_Unhealthy_Days</th>\n",
       "      <th>Average_Number_of_Mentally_Unhealthy_Days</th>\n",
       "      <th>Percent_Smokers</th>\n",
       "      <th>Percent_Adults_with_Obesity</th>\n",
       "      <th>Food_Environment_Index</th>\n",
       "      <th>Percent_Physically_Inactive</th>\n",
       "      <th>Percent_With_Access_to_Exercise_Opportunities</th>\n",
       "      <th>...</th>\n",
       "      <th>Insured</th>\n",
       "      <th>Unreported_Insurance</th>\n",
       "      <th>Poverty</th>\n",
       "      <th>Less_than_high_school</th>\n",
       "      <th>High_school_only</th>\n",
       "      <th>College_or_associates</th>\n",
       "      <th>Bachelor_degree_or_higher</th>\n",
       "      <th>Unreported_education</th>\n",
       "      <th>Largest_sector</th>\n",
       "      <th>Level</th>\n",
       "    </tr>\n",
       "  </thead>\n",
       "  <tbody>\n",
       "    <tr>\n",
       "      <th>0</th>\n",
       "      <td>Alaska</td>\n",
       "      <td>Aleutians East</td>\n",
       "      <td>17</td>\n",
       "      <td>3.4</td>\n",
       "      <td>2.8</td>\n",
       "      <td>17</td>\n",
       "      <td>51</td>\n",
       "      <td>5.3</td>\n",
       "      <td>30</td>\n",
       "      <td>100</td>\n",
       "      <td>...</td>\n",
       "      <td>2376.0</td>\n",
       "      <td>321</td>\n",
       "      <td>544.0</td>\n",
       "      <td>358</td>\n",
       "      <td>1061</td>\n",
       "      <td>882</td>\n",
       "      <td>336</td>\n",
       "      <td>878</td>\n",
       "      <td>Manufacturing</td>\n",
       "      <td>1</td>\n",
       "    </tr>\n",
       "    <tr>\n",
       "      <th>1</th>\n",
       "      <td>Alaska</td>\n",
       "      <td>Aleutians West</td>\n",
       "      <td>15</td>\n",
       "      <td>3.0</td>\n",
       "      <td>2.5</td>\n",
       "      <td>15</td>\n",
       "      <td>44</td>\n",
       "      <td>7.6</td>\n",
       "      <td>30</td>\n",
       "      <td>100</td>\n",
       "      <td>...</td>\n",
       "      <td>4237.0</td>\n",
       "      <td>579</td>\n",
       "      <td>550.0</td>\n",
       "      <td>459</td>\n",
       "      <td>1664</td>\n",
       "      <td>1309</td>\n",
       "      <td>675</td>\n",
       "      <td>1616</td>\n",
       "      <td>Manufacturing</td>\n",
       "      <td>1</td>\n",
       "    </tr>\n",
       "    <tr>\n",
       "      <th>2</th>\n",
       "      <td>Alaska</td>\n",
       "      <td>Anchorage</td>\n",
       "      <td>15</td>\n",
       "      <td>3.5</td>\n",
       "      <td>3.2</td>\n",
       "      <td>15</td>\n",
       "      <td>32</td>\n",
       "      <td>8.0</td>\n",
       "      <td>18</td>\n",
       "      <td>100</td>\n",
       "      <td>...</td>\n",
       "      <td>223530.0</td>\n",
       "      <td>37266</td>\n",
       "      <td>27075.0</td>\n",
       "      <td>11867</td>\n",
       "      <td>45753</td>\n",
       "      <td>66655</td>\n",
       "      <td>67719</td>\n",
       "      <td>99544</td>\n",
       "      <td>Educational services, and health care and soci...</td>\n",
       "      <td>1</td>\n",
       "    </tr>\n",
       "    <tr>\n",
       "      <th>3</th>\n",
       "      <td>Alaska</td>\n",
       "      <td>Bethel</td>\n",
       "      <td>24</td>\n",
       "      <td>5.4</td>\n",
       "      <td>4.6</td>\n",
       "      <td>30</td>\n",
       "      <td>31</td>\n",
       "      <td>2.9</td>\n",
       "      <td>31</td>\n",
       "      <td>100</td>\n",
       "      <td>...</td>\n",
       "      <td>13584.0</td>\n",
       "      <td>1661</td>\n",
       "      <td>5869.0</td>\n",
       "      <td>1798</td>\n",
       "      <td>4371</td>\n",
       "      <td>2314</td>\n",
       "      <td>1194</td>\n",
       "      <td>8539</td>\n",
       "      <td>Educational services, and health care and soci...</td>\n",
       "      <td>2</td>\n",
       "    </tr>\n",
       "    <tr>\n",
       "      <th>4</th>\n",
       "      <td>Alaska</td>\n",
       "      <td>Bristol Bay</td>\n",
       "      <td>15</td>\n",
       "      <td>3.7</td>\n",
       "      <td>3.6</td>\n",
       "      <td>18</td>\n",
       "      <td>42</td>\n",
       "      <td>6.9</td>\n",
       "      <td>29</td>\n",
       "      <td>100</td>\n",
       "      <td>...</td>\n",
       "      <td>615.0</td>\n",
       "      <td>143</td>\n",
       "      <td>96.0</td>\n",
       "      <td>36</td>\n",
       "      <td>225</td>\n",
       "      <td>240</td>\n",
       "      <td>144</td>\n",
       "      <td>232</td>\n",
       "      <td>Public administration</td>\n",
       "      <td>1</td>\n",
       "    </tr>\n",
       "  </tbody>\n",
       "</table>\n",
       "<p>5 rows × 69 columns</p>\n",
       "</div>"
      ],
      "text/plain": [
       "  State_Name          County  Percent_Fair_or_Poor_Health  \\\n",
       "0     Alaska  Aleutians East                           17   \n",
       "1     Alaska  Aleutians West                           15   \n",
       "2     Alaska       Anchorage                           15   \n",
       "3     Alaska          Bethel                           24   \n",
       "4     Alaska     Bristol Bay                           15   \n",
       "\n",
       "   Average_Number_of_Physically_Unhealthy_Days  \\\n",
       "0                                          3.4   \n",
       "1                                          3.0   \n",
       "2                                          3.5   \n",
       "3                                          5.4   \n",
       "4                                          3.7   \n",
       "\n",
       "   Average_Number_of_Mentally_Unhealthy_Days  Percent_Smokers  \\\n",
       "0                                        2.8               17   \n",
       "1                                        2.5               15   \n",
       "2                                        3.2               15   \n",
       "3                                        4.6               30   \n",
       "4                                        3.6               18   \n",
       "\n",
       "   Percent_Adults_with_Obesity  Food_Environment_Index  \\\n",
       "0                           51                     5.3   \n",
       "1                           44                     7.6   \n",
       "2                           32                     8.0   \n",
       "3                           31                     2.9   \n",
       "4                           42                     6.9   \n",
       "\n",
       "   Percent_Physically_Inactive  Percent_With_Access_to_Exercise_Opportunities  \\\n",
       "0                           30                                            100   \n",
       "1                           30                                            100   \n",
       "2                           18                                            100   \n",
       "3                           31                                            100   \n",
       "4                           29                                            100   \n",
       "\n",
       "   ...   Insured  Unreported_Insurance  Poverty  Less_than_high_school  \\\n",
       "0  ...    2376.0                   321    544.0                    358   \n",
       "1  ...    4237.0                   579    550.0                    459   \n",
       "2  ...  223530.0                 37266  27075.0                  11867   \n",
       "3  ...   13584.0                  1661   5869.0                   1798   \n",
       "4  ...     615.0                   143     96.0                     36   \n",
       "\n",
       "   High_school_only  College_or_associates  Bachelor_degree_or_higher  \\\n",
       "0              1061                    882                        336   \n",
       "1              1664                   1309                        675   \n",
       "2             45753                  66655                      67719   \n",
       "3              4371                   2314                       1194   \n",
       "4               225                    240                        144   \n",
       "\n",
       "   Unreported_education                                     Largest_sector  \\\n",
       "0                   878                                      Manufacturing   \n",
       "1                  1616                                      Manufacturing   \n",
       "2                 99544  Educational services, and health care and soci...   \n",
       "3                  8539  Educational services, and health care and soci...   \n",
       "4                   232                              Public administration   \n",
       "\n",
       "   Level  \n",
       "0      1  \n",
       "1      1  \n",
       "2      1  \n",
       "3      2  \n",
       "4      1  \n",
       "\n",
       "[5 rows x 69 columns]"
      ]
     },
     "execution_count": 23,
     "metadata": {},
     "output_type": "execute_result"
    }
   ],
   "source": [
    "#Read dataframe from SQL query\n",
    "df = pd.read_sql_query(\"SELECT f.*, t.Level FROM \\\n",
    "                        Features_State_Counties f \\\n",
    "                        JOIN State s ON f.State_Name = s.Name \\\n",
    "                        JOIN Heart_Disease_Mortality_State_Counties as t ON f.County = t.County AND s.Code = t.State_Code\" \\\n",
    "                       , cnx)\n",
    "df.head()"
   ]
  },
  {
   "cell_type": "code",
   "execution_count": 24,
   "metadata": {},
   "outputs": [
    {
     "data": {
      "text/html": [
       "<div>\n",
       "<style scoped>\n",
       "    .dataframe tbody tr th:only-of-type {\n",
       "        vertical-align: middle;\n",
       "    }\n",
       "\n",
       "    .dataframe tbody tr th {\n",
       "        vertical-align: top;\n",
       "    }\n",
       "\n",
       "    .dataframe thead th {\n",
       "        text-align: right;\n",
       "    }\n",
       "</style>\n",
       "<table border=\"1\" class=\"dataframe\">\n",
       "  <thead>\n",
       "    <tr style=\"text-align: right;\">\n",
       "      <th></th>\n",
       "      <th>Percent_Fair_or_Poor_Health</th>\n",
       "      <th>Average_Number_of_Physically_Unhealthy_Days</th>\n",
       "      <th>Average_Number_of_Mentally_Unhealthy_Days</th>\n",
       "      <th>Percent_Smokers</th>\n",
       "      <th>Percent_Adults_with_Obesity</th>\n",
       "      <th>Food_Environment_Index</th>\n",
       "      <th>Percent_Physically_Inactive</th>\n",
       "      <th>Percent_With_Access_to_Exercise_Opportunities</th>\n",
       "      <th>Percent_Excessive_Drinking</th>\n",
       "      <th>Percent_Uninsured</th>\n",
       "      <th>...</th>\n",
       "      <th>Uninsured</th>\n",
       "      <th>Insured</th>\n",
       "      <th>Unreported_Insurance</th>\n",
       "      <th>Poverty</th>\n",
       "      <th>Less_than_high_school</th>\n",
       "      <th>High_school_only</th>\n",
       "      <th>College_or_associates</th>\n",
       "      <th>Bachelor_degree_or_higher</th>\n",
       "      <th>Unreported_education</th>\n",
       "      <th>Level</th>\n",
       "    </tr>\n",
       "  </thead>\n",
       "  <tbody>\n",
       "    <tr>\n",
       "      <th>count</th>\n",
       "      <td>3072.000000</td>\n",
       "      <td>3072.000000</td>\n",
       "      <td>3072.000000</td>\n",
       "      <td>3072.000000</td>\n",
       "      <td>3072.000000</td>\n",
       "      <td>3072.000000</td>\n",
       "      <td>3072.000000</td>\n",
       "      <td>3072.000000</td>\n",
       "      <td>3072.000000</td>\n",
       "      <td>3072.000000</td>\n",
       "      <td>...</td>\n",
       "      <td>3071.000000</td>\n",
       "      <td>3.071000e+03</td>\n",
       "      <td>3.072000e+03</td>\n",
       "      <td>3.071000e+03</td>\n",
       "      <td>3.072000e+03</td>\n",
       "      <td>3.072000e+03</td>\n",
       "      <td>3.072000e+03</td>\n",
       "      <td>3.072000e+03</td>\n",
       "      <td>3.072000e+03</td>\n",
       "      <td>3072.000000</td>\n",
       "    </tr>\n",
       "    <tr>\n",
       "      <th>mean</th>\n",
       "      <td>17.832357</td>\n",
       "      <td>3.972363</td>\n",
       "      <td>4.149642</td>\n",
       "      <td>17.361979</td>\n",
       "      <td>32.817708</td>\n",
       "      <td>7.424577</td>\n",
       "      <td>27.353516</td>\n",
       "      <td>62.892578</td>\n",
       "      <td>17.485677</td>\n",
       "      <td>11.504232</td>\n",
       "      <td>...</td>\n",
       "      <td>8977.153696</td>\n",
       "      <td>7.683507e+04</td>\n",
       "      <td>1.892521e+04</td>\n",
       "      <td>1.330867e+04</td>\n",
       "      <td>8.599790e+03</td>\n",
       "      <td>1.891054e+04</td>\n",
       "      <td>2.031700e+04</td>\n",
       "      <td>2.208112e+04</td>\n",
       "      <td>3.480105e+04</td>\n",
       "      <td>2.469727</td>\n",
       "    </tr>\n",
       "    <tr>\n",
       "      <th>std</th>\n",
       "      <td>4.704372</td>\n",
       "      <td>0.696459</td>\n",
       "      <td>0.592199</td>\n",
       "      <td>3.548037</td>\n",
       "      <td>5.430713</td>\n",
       "      <td>1.270692</td>\n",
       "      <td>5.692320</td>\n",
       "      <td>23.424658</td>\n",
       "      <td>3.176629</td>\n",
       "      <td>5.190727</td>\n",
       "      <td>...</td>\n",
       "      <td>35474.297222</td>\n",
       "      <td>2.526495e+05</td>\n",
       "      <td>5.313433e+04</td>\n",
       "      <td>4.601938e+04</td>\n",
       "      <td>3.762167e+04</td>\n",
       "      <td>5.130057e+04</td>\n",
       "      <td>6.145624e+04</td>\n",
       "      <td>8.044333e+04</td>\n",
       "      <td>1.125637e+05</td>\n",
       "      <td>1.104914</td>\n",
       "    </tr>\n",
       "    <tr>\n",
       "      <th>min</th>\n",
       "      <td>8.000000</td>\n",
       "      <td>2.400000</td>\n",
       "      <td>2.500000</td>\n",
       "      <td>6.000000</td>\n",
       "      <td>12.000000</td>\n",
       "      <td>0.000000</td>\n",
       "      <td>10.000000</td>\n",
       "      <td>0.000000</td>\n",
       "      <td>8.000000</td>\n",
       "      <td>0.000000</td>\n",
       "      <td>...</td>\n",
       "      <td>23.000000</td>\n",
       "      <td>1.190000e+02</td>\n",
       "      <td>1.000000e+01</td>\n",
       "      <td>5.000000e+00</td>\n",
       "      <td>4.000000e+00</td>\n",
       "      <td>1.500000e+01</td>\n",
       "      <td>2.400000e+01</td>\n",
       "      <td>0.000000e+00</td>\n",
       "      <td>1.900000e+01</td>\n",
       "      <td>1.000000</td>\n",
       "    </tr>\n",
       "    <tr>\n",
       "      <th>25%</th>\n",
       "      <td>14.000000</td>\n",
       "      <td>3.500000</td>\n",
       "      <td>3.700000</td>\n",
       "      <td>15.000000</td>\n",
       "      <td>29.000000</td>\n",
       "      <td>6.900000</td>\n",
       "      <td>24.000000</td>\n",
       "      <td>49.000000</td>\n",
       "      <td>15.000000</td>\n",
       "      <td>7.000000</td>\n",
       "      <td>...</td>\n",
       "      <td>876.500000</td>\n",
       "      <td>7.245000e+03</td>\n",
       "      <td>2.538500e+03</td>\n",
       "      <td>1.565500e+03</td>\n",
       "      <td>9.677500e+02</td>\n",
       "      <td>2.745750e+03</td>\n",
       "      <td>2.277250e+03</td>\n",
       "      <td>1.194750e+03</td>\n",
       "      <td>3.283500e+03</td>\n",
       "      <td>2.000000</td>\n",
       "    </tr>\n",
       "    <tr>\n",
       "      <th>50%</th>\n",
       "      <td>17.000000</td>\n",
       "      <td>3.900000</td>\n",
       "      <td>4.200000</td>\n",
       "      <td>17.000000</td>\n",
       "      <td>33.000000</td>\n",
       "      <td>7.700000</td>\n",
       "      <td>27.000000</td>\n",
       "      <td>66.000000</td>\n",
       "      <td>18.000000</td>\n",
       "      <td>11.000000</td>\n",
       "      <td>...</td>\n",
       "      <td>2140.000000</td>\n",
       "      <td>1.743800e+04</td>\n",
       "      <td>5.767000e+03</td>\n",
       "      <td>3.724000e+03</td>\n",
       "      <td>2.464500e+03</td>\n",
       "      <td>6.334000e+03</td>\n",
       "      <td>5.325500e+03</td>\n",
       "      <td>3.162500e+03</td>\n",
       "      <td>7.950500e+03</td>\n",
       "      <td>2.000000</td>\n",
       "    </tr>\n",
       "    <tr>\n",
       "      <th>75%</th>\n",
       "      <td>21.000000</td>\n",
       "      <td>4.400000</td>\n",
       "      <td>4.600000</td>\n",
       "      <td>20.000000</td>\n",
       "      <td>36.000000</td>\n",
       "      <td>8.200000</td>\n",
       "      <td>31.000000</td>\n",
       "      <td>80.000000</td>\n",
       "      <td>20.000000</td>\n",
       "      <td>15.000000</td>\n",
       "      <td>...</td>\n",
       "      <td>5675.500000</td>\n",
       "      <td>4.730000e+04</td>\n",
       "      <td>1.444550e+04</td>\n",
       "      <td>9.175500e+03</td>\n",
       "      <td>5.667500e+03</td>\n",
       "      <td>1.511100e+04</td>\n",
       "      <td>1.442075e+04</td>\n",
       "      <td>1.049675e+04</td>\n",
       "      <td>2.250150e+04</td>\n",
       "      <td>4.000000</td>\n",
       "    </tr>\n",
       "    <tr>\n",
       "      <th>max</th>\n",
       "      <td>41.000000</td>\n",
       "      <td>6.500000</td>\n",
       "      <td>6.300000</td>\n",
       "      <td>41.000000</td>\n",
       "      <td>58.000000</td>\n",
       "      <td>10.000000</td>\n",
       "      <td>50.000000</td>\n",
       "      <td>100.000000</td>\n",
       "      <td>29.000000</td>\n",
       "      <td>34.000000</td>\n",
       "      <td>...</td>\n",
       "      <td>935213.000000</td>\n",
       "      <td>7.703359e+06</td>\n",
       "      <td>1.527541e+06</td>\n",
       "      <td>1.409155e+06</td>\n",
       "      <td>1.460718e+06</td>\n",
       "      <td>1.416482e+06</td>\n",
       "      <td>1.790808e+06</td>\n",
       "      <td>2.177481e+06</td>\n",
       "      <td>3.260029e+06</td>\n",
       "      <td>4.000000</td>\n",
       "    </tr>\n",
       "  </tbody>\n",
       "</table>\n",
       "<p>8 rows × 66 columns</p>\n",
       "</div>"
      ],
      "text/plain": [
       "       Percent_Fair_or_Poor_Health  \\\n",
       "count                  3072.000000   \n",
       "mean                     17.832357   \n",
       "std                       4.704372   \n",
       "min                       8.000000   \n",
       "25%                      14.000000   \n",
       "50%                      17.000000   \n",
       "75%                      21.000000   \n",
       "max                      41.000000   \n",
       "\n",
       "       Average_Number_of_Physically_Unhealthy_Days  \\\n",
       "count                                  3072.000000   \n",
       "mean                                      3.972363   \n",
       "std                                       0.696459   \n",
       "min                                       2.400000   \n",
       "25%                                       3.500000   \n",
       "50%                                       3.900000   \n",
       "75%                                       4.400000   \n",
       "max                                       6.500000   \n",
       "\n",
       "       Average_Number_of_Mentally_Unhealthy_Days  Percent_Smokers  \\\n",
       "count                                3072.000000      3072.000000   \n",
       "mean                                    4.149642        17.361979   \n",
       "std                                     0.592199         3.548037   \n",
       "min                                     2.500000         6.000000   \n",
       "25%                                     3.700000        15.000000   \n",
       "50%                                     4.200000        17.000000   \n",
       "75%                                     4.600000        20.000000   \n",
       "max                                     6.300000        41.000000   \n",
       "\n",
       "       Percent_Adults_with_Obesity  Food_Environment_Index  \\\n",
       "count                  3072.000000             3072.000000   \n",
       "mean                     32.817708                7.424577   \n",
       "std                       5.430713                1.270692   \n",
       "min                      12.000000                0.000000   \n",
       "25%                      29.000000                6.900000   \n",
       "50%                      33.000000                7.700000   \n",
       "75%                      36.000000                8.200000   \n",
       "max                      58.000000               10.000000   \n",
       "\n",
       "       Percent_Physically_Inactive  \\\n",
       "count                  3072.000000   \n",
       "mean                     27.353516   \n",
       "std                       5.692320   \n",
       "min                      10.000000   \n",
       "25%                      24.000000   \n",
       "50%                      27.000000   \n",
       "75%                      31.000000   \n",
       "max                      50.000000   \n",
       "\n",
       "       Percent_With_Access_to_Exercise_Opportunities  \\\n",
       "count                                    3072.000000   \n",
       "mean                                       62.892578   \n",
       "std                                        23.424658   \n",
       "min                                         0.000000   \n",
       "25%                                        49.000000   \n",
       "50%                                        66.000000   \n",
       "75%                                        80.000000   \n",
       "max                                       100.000000   \n",
       "\n",
       "       Percent_Excessive_Drinking  Percent_Uninsured  ...      Uninsured  \\\n",
       "count                 3072.000000        3072.000000  ...    3071.000000   \n",
       "mean                    17.485677          11.504232  ...    8977.153696   \n",
       "std                      3.176629           5.190727  ...   35474.297222   \n",
       "min                      8.000000           0.000000  ...      23.000000   \n",
       "25%                     15.000000           7.000000  ...     876.500000   \n",
       "50%                     18.000000          11.000000  ...    2140.000000   \n",
       "75%                     20.000000          15.000000  ...    5675.500000   \n",
       "max                     29.000000          34.000000  ...  935213.000000   \n",
       "\n",
       "            Insured  Unreported_Insurance       Poverty  \\\n",
       "count  3.071000e+03          3.072000e+03  3.071000e+03   \n",
       "mean   7.683507e+04          1.892521e+04  1.330867e+04   \n",
       "std    2.526495e+05          5.313433e+04  4.601938e+04   \n",
       "min    1.190000e+02          1.000000e+01  5.000000e+00   \n",
       "25%    7.245000e+03          2.538500e+03  1.565500e+03   \n",
       "50%    1.743800e+04          5.767000e+03  3.724000e+03   \n",
       "75%    4.730000e+04          1.444550e+04  9.175500e+03   \n",
       "max    7.703359e+06          1.527541e+06  1.409155e+06   \n",
       "\n",
       "       Less_than_high_school  High_school_only  College_or_associates  \\\n",
       "count           3.072000e+03      3.072000e+03           3.072000e+03   \n",
       "mean            8.599790e+03      1.891054e+04           2.031700e+04   \n",
       "std             3.762167e+04      5.130057e+04           6.145624e+04   \n",
       "min             4.000000e+00      1.500000e+01           2.400000e+01   \n",
       "25%             9.677500e+02      2.745750e+03           2.277250e+03   \n",
       "50%             2.464500e+03      6.334000e+03           5.325500e+03   \n",
       "75%             5.667500e+03      1.511100e+04           1.442075e+04   \n",
       "max             1.460718e+06      1.416482e+06           1.790808e+06   \n",
       "\n",
       "       Bachelor_degree_or_higher  Unreported_education        Level  \n",
       "count               3.072000e+03          3.072000e+03  3072.000000  \n",
       "mean                2.208112e+04          3.480105e+04     2.469727  \n",
       "std                 8.044333e+04          1.125637e+05     1.104914  \n",
       "min                 0.000000e+00          1.900000e+01     1.000000  \n",
       "25%                 1.194750e+03          3.283500e+03     2.000000  \n",
       "50%                 3.162500e+03          7.950500e+03     2.000000  \n",
       "75%                 1.049675e+04          2.250150e+04     4.000000  \n",
       "max                 2.177481e+06          3.260029e+06     4.000000  \n",
       "\n",
       "[8 rows x 66 columns]"
      ]
     },
     "execution_count": 24,
     "metadata": {},
     "output_type": "execute_result"
    }
   ],
   "source": [
    "# View statistics dataframe columns\n",
    "df.describe()"
   ]
  },
  {
   "cell_type": "code",
   "execution_count": 25,
   "metadata": {},
   "outputs": [
    {
     "data": {
      "text/plain": [
       "{'whiskers': [<matplotlib.lines.Line2D at 0x1a1c654c90>,\n",
       "  <matplotlib.lines.Line2D at 0x1a1b5e5e50>],\n",
       " 'caps': [<matplotlib.lines.Line2D at 0x1a1c654b50>,\n",
       "  <matplotlib.lines.Line2D at 0x1a1b602890>],\n",
       " 'boxes': [<matplotlib.lines.Line2D at 0x1a1c654c50>],\n",
       " 'medians': [<matplotlib.lines.Line2D at 0x1a1b602dd0>],\n",
       " 'fliers': [<matplotlib.lines.Line2D at 0x1a1b5e5ed0>],\n",
       " 'means': []}"
      ]
     },
     "execution_count": 25,
     "metadata": {},
     "output_type": "execute_result"
    },
    {
     "data": {
      "image/png": "[encoded data removed]",
      "text/plain": [
       "<Figure size 432x288 with 1 Axes>"
      ]
     },
     "metadata": {
      "needs_background": "light"
     },
     "output_type": "display_data"
    }
   ],
   "source": [
    "# This feature has so many outliers\n",
    "\n",
    "series = df[\"Average_Traffic_Volume_per_Meter_of_Major_Roadways\"]\n",
    "plt.boxplot(series) "
   ]
  },
  {
   "cell_type": "code",
   "execution_count": 26,
   "metadata": {},
   "outputs": [],
   "source": [
    "#let drop the column\n",
    "df.drop(columns=[\"Average_Traffic_Volume_per_Meter_of_Major_Roadways\"], inplace=True)"
   ]
  },
  {
   "cell_type": "code",
   "execution_count": 27,
   "metadata": {},
   "outputs": [
    {
     "data": {
      "text/plain": [
       "State_Name                                     3072\n",
       "County                                         3072\n",
       "Percent_Fair_or_Poor_Health                    3072\n",
       "Average_Number_of_Physically_Unhealthy_Days    3072\n",
       "Average_Number_of_Mentally_Unhealthy_Days      3072\n",
       "                                               ... \n",
       "College_or_associates                          3072\n",
       "Bachelor_degree_or_higher                      3072\n",
       "Unreported_education                           3072\n",
       "Largest_sector                                 3072\n",
       "Level                                          3072\n",
       "Length: 68, dtype: int64"
      ]
     },
     "execution_count": 27,
     "metadata": {},
     "output_type": "execute_result"
    }
   ],
   "source": [
    "col_count = df.count()\n",
    "col_count"
   ]
  },
  {
   "cell_type": "code",
   "execution_count": 28,
   "metadata": {},
   "outputs": [
    {
     "data": {
      "text/plain": [
       "['Household_Income_AIAN',\n",
       " 'Household_Income_Asian',\n",
       " 'Household_Income_Black',\n",
       " 'Household_Income_Hispanic',\n",
       " 'Household_Income_White',\n",
       " 'Percent_Severe_Housing_Cost_Burden',\n",
       " 'Percent_Children_in_Poverty',\n",
       " 'Teen_Birth_Rate',\n",
       " 'Uninsured',\n",
       " 'Insured',\n",
       " 'Poverty']"
      ]
     },
     "execution_count": 28,
     "metadata": {},
     "output_type": "execute_result"
    }
   ],
   "source": [
    "# Find columns that contain NULL value\n",
    "col_null = list(col_count[col_count != 3072].index)\n",
    "col_null"
   ]
  },
  {
   "cell_type": "code",
   "execution_count": 29,
   "metadata": {},
   "outputs": [],
   "source": [
    "# drop columns\n",
    "df.drop(columns=[\"Percent_Severe_Housing_Cost_Burden\",\"Percent_Children_in_Poverty\",\"Teen_Birth_Rate\"], inplace=True)\n"
   ]
  },
  {
   "cell_type": "code",
   "execution_count": 30,
   "metadata": {},
   "outputs": [],
   "source": [
    "# Fill value columns\n",
    "df.fillna(value=0,inplace=True)"
   ]
  },
  {
   "cell_type": "code",
   "execution_count": 31,
   "metadata": {},
   "outputs": [
    {
     "data": {
      "text/plain": [
       "State_Name                                     3072\n",
       "County                                         3072\n",
       "Percent_Fair_or_Poor_Health                    3072\n",
       "Average_Number_of_Physically_Unhealthy_Days    3072\n",
       "Average_Number_of_Mentally_Unhealthy_Days      3072\n",
       "                                               ... \n",
       "College_or_associates                          3072\n",
       "Bachelor_degree_or_higher                      3072\n",
       "Unreported_education                           3072\n",
       "Largest_sector                                 3072\n",
       "Level                                          3072\n",
       "Length: 65, dtype: int64"
      ]
     },
     "execution_count": 31,
     "metadata": {},
     "output_type": "execute_result"
    }
   ],
   "source": [
    "col_count = df.count()\n",
    "col_count"
   ]
  },
  {
   "cell_type": "code",
   "execution_count": 32,
   "metadata": {},
   "outputs": [],
   "source": [
    "# Find columns with percent\n",
    "#percent_cols = [ col for col in df.columns if col.startswith( 'Percent_' ) ]\n",
    "# Convert back to number\n",
    "#value_cols = df[percent_cols].multiply(df[\"Population\"]//100, axis=\"index\")\n",
    "# assign new values\n",
    "#df[percent_cols] = value_cols\n",
    "#df.head()"
   ]
  },
  {
   "cell_type": "code",
   "execution_count": 36,
   "metadata": {
    "scrolled": true
   },
   "outputs": [
    {
     "name": "stdout",
     "output_type": "stream",
     "text": [
      "[1 1 1 ... 2 2 3]\n"
     ]
    },
    {
     "data": {
      "text/html": [
       "<div>\n",
       "<style scoped>\n",
       "    .dataframe tbody tr th:only-of-type {\n",
       "        vertical-align: middle;\n",
       "    }\n",
       "\n",
       "    .dataframe tbody tr th {\n",
       "        vertical-align: top;\n",
       "    }\n",
       "\n",
       "    .dataframe thead th {\n",
       "        text-align: right;\n",
       "    }\n",
       "</style>\n",
       "<table border=\"1\" class=\"dataframe\">\n",
       "  <thead>\n",
       "    <tr style=\"text-align: right;\">\n",
       "      <th></th>\n",
       "      <th>Percent_Fair_or_Poor_Health</th>\n",
       "      <th>Average_Number_of_Physically_Unhealthy_Days</th>\n",
       "      <th>Average_Number_of_Mentally_Unhealthy_Days</th>\n",
       "      <th>Percent_Smokers</th>\n",
       "      <th>Percent_Adults_with_Obesity</th>\n",
       "      <th>Food_Environment_Index</th>\n",
       "      <th>Percent_Physically_Inactive</th>\n",
       "      <th>Percent_With_Access_to_Exercise_Opportunities</th>\n",
       "      <th>Percent_Excessive_Drinking</th>\n",
       "      <th>Percent_Uninsured</th>\n",
       "      <th>...</th>\n",
       "      <th>Female_Under_30</th>\n",
       "      <th>Female_30-59</th>\n",
       "      <th>Female_Over_60</th>\n",
       "      <th>Uninsured</th>\n",
       "      <th>Poverty</th>\n",
       "      <th>Less_than_high_school</th>\n",
       "      <th>High_school_only</th>\n",
       "      <th>College_or_associates</th>\n",
       "      <th>Bachelor_degree_or_higher</th>\n",
       "      <th>Unreported_education</th>\n",
       "    </tr>\n",
       "  </thead>\n",
       "  <tbody>\n",
       "    <tr>\n",
       "      <th>0</th>\n",
       "      <td>17</td>\n",
       "      <td>3.4</td>\n",
       "      <td>2.8</td>\n",
       "      <td>17</td>\n",
       "      <td>51</td>\n",
       "      <td>5.3</td>\n",
       "      <td>30</td>\n",
       "      <td>100</td>\n",
       "      <td>17</td>\n",
       "      <td>28</td>\n",
       "      <td>...</td>\n",
       "      <td>281</td>\n",
       "      <td>636</td>\n",
       "      <td>224</td>\n",
       "      <td>818.0</td>\n",
       "      <td>544.0</td>\n",
       "      <td>358</td>\n",
       "      <td>1061</td>\n",
       "      <td>882</td>\n",
       "      <td>336</td>\n",
       "      <td>878</td>\n",
       "    </tr>\n",
       "    <tr>\n",
       "      <th>1</th>\n",
       "      <td>15</td>\n",
       "      <td>3.0</td>\n",
       "      <td>2.5</td>\n",
       "      <td>15</td>\n",
       "      <td>44</td>\n",
       "      <td>7.6</td>\n",
       "      <td>30</td>\n",
       "      <td>100</td>\n",
       "      <td>19</td>\n",
       "      <td>20</td>\n",
       "      <td>...</td>\n",
       "      <td>680</td>\n",
       "      <td>995</td>\n",
       "      <td>298</td>\n",
       "      <td>907.0</td>\n",
       "      <td>550.0</td>\n",
       "      <td>459</td>\n",
       "      <td>1664</td>\n",
       "      <td>1309</td>\n",
       "      <td>675</td>\n",
       "      <td>1616</td>\n",
       "    </tr>\n",
       "    <tr>\n",
       "      <th>2</th>\n",
       "      <td>15</td>\n",
       "      <td>3.5</td>\n",
       "      <td>3.2</td>\n",
       "      <td>15</td>\n",
       "      <td>32</td>\n",
       "      <td>8.0</td>\n",
       "      <td>18</td>\n",
       "      <td>100</td>\n",
       "      <td>21</td>\n",
       "      <td>13</td>\n",
       "      <td>...</td>\n",
       "      <td>59980</td>\n",
       "      <td>57528</td>\n",
       "      <td>25646</td>\n",
       "      <td>30742.0</td>\n",
       "      <td>27075.0</td>\n",
       "      <td>11867</td>\n",
       "      <td>45753</td>\n",
       "      <td>66655</td>\n",
       "      <td>67719</td>\n",
       "      <td>99544</td>\n",
       "    </tr>\n",
       "    <tr>\n",
       "      <th>3</th>\n",
       "      <td>24</td>\n",
       "      <td>5.4</td>\n",
       "      <td>4.6</td>\n",
       "      <td>30</td>\n",
       "      <td>31</td>\n",
       "      <td>2.9</td>\n",
       "      <td>31</td>\n",
       "      <td>100</td>\n",
       "      <td>22</td>\n",
       "      <td>20</td>\n",
       "      <td>...</td>\n",
       "      <td>4902</td>\n",
       "      <td>2830</td>\n",
       "      <td>1108</td>\n",
       "      <td>2971.0</td>\n",
       "      <td>5869.0</td>\n",
       "      <td>1798</td>\n",
       "      <td>4371</td>\n",
       "      <td>2314</td>\n",
       "      <td>1194</td>\n",
       "      <td>8539</td>\n",
       "    </tr>\n",
       "    <tr>\n",
       "      <th>4</th>\n",
       "      <td>15</td>\n",
       "      <td>3.7</td>\n",
       "      <td>3.6</td>\n",
       "      <td>18</td>\n",
       "      <td>42</td>\n",
       "      <td>6.9</td>\n",
       "      <td>29</td>\n",
       "      <td>100</td>\n",
       "      <td>21</td>\n",
       "      <td>17</td>\n",
       "      <td>...</td>\n",
       "      <td>149</td>\n",
       "      <td>172</td>\n",
       "      <td>88</td>\n",
       "      <td>119.0</td>\n",
       "      <td>96.0</td>\n",
       "      <td>36</td>\n",
       "      <td>225</td>\n",
       "      <td>240</td>\n",
       "      <td>144</td>\n",
       "      <td>232</td>\n",
       "    </tr>\n",
       "  </tbody>\n",
       "</table>\n",
       "<p>5 rows × 58 columns</p>\n",
       "</div>"
      ],
      "text/plain": [
       "   Percent_Fair_or_Poor_Health  Average_Number_of_Physically_Unhealthy_Days  \\\n",
       "0                           17                                          3.4   \n",
       "1                           15                                          3.0   \n",
       "2                           15                                          3.5   \n",
       "3                           24                                          5.4   \n",
       "4                           15                                          3.7   \n",
       "\n",
       "   Average_Number_of_Mentally_Unhealthy_Days  Percent_Smokers  \\\n",
       "0                                        2.8               17   \n",
       "1                                        2.5               15   \n",
       "2                                        3.2               15   \n",
       "3                                        4.6               30   \n",
       "4                                        3.6               18   \n",
       "\n",
       "   Percent_Adults_with_Obesity  Food_Environment_Index  \\\n",
       "0                           51                     5.3   \n",
       "1                           44                     7.6   \n",
       "2                           32                     8.0   \n",
       "3                           31                     2.9   \n",
       "4                           42                     6.9   \n",
       "\n",
       "   Percent_Physically_Inactive  Percent_With_Access_to_Exercise_Opportunities  \\\n",
       "0                           30                                            100   \n",
       "1                           30                                            100   \n",
       "2                           18                                            100   \n",
       "3                           31                                            100   \n",
       "4                           29                                            100   \n",
       "\n",
       "   Percent_Excessive_Drinking  Percent_Uninsured  ...  Female_Under_30  \\\n",
       "0                          17                 28  ...              281   \n",
       "1                          19                 20  ...              680   \n",
       "2                          21                 13  ...            59980   \n",
       "3                          22                 20  ...             4902   \n",
       "4                          21                 17  ...              149   \n",
       "\n",
       "   Female_30-59  Female_Over_60  Uninsured  Poverty  Less_than_high_school  \\\n",
       "0           636             224      818.0    544.0                    358   \n",
       "1           995             298      907.0    550.0                    459   \n",
       "2         57528           25646    30742.0  27075.0                  11867   \n",
       "3          2830            1108     2971.0   5869.0                   1798   \n",
       "4           172              88      119.0     96.0                     36   \n",
       "\n",
       "   High_school_only  College_or_associates  Bachelor_degree_or_higher  \\\n",
       "0              1061                    882                        336   \n",
       "1              1664                   1309                        675   \n",
       "2             45753                  66655                      67719   \n",
       "3              4371                   2314                       1194   \n",
       "4               225                    240                        144   \n",
       "\n",
       "   Unreported_education  \n",
       "0                   878  \n",
       "1                  1616  \n",
       "2                 99544  \n",
       "3                  8539  \n",
       "4                   232  \n",
       "\n",
       "[5 rows x 58 columns]"
      ]
     },
     "execution_count": 36,
     "metadata": {},
     "output_type": "execute_result"
    }
   ],
   "source": [
    "# Drop column list\n",
    "drop_cols = [\"Level\",\"State_Name\",\"County\", \"Presence_of_Water_Violation\", \"Insured\", \"Unreported_Insurance\", Largest_sector\"]\n",
    "# Target\n",
    "y = df[\"Level\"].values\n",
    "print(y)\n",
    "# Create our features\n",
    "X = df.drop(columns= drop_cols)\n",
    "X.head()"
   ]
  },
  {
   "cell_type": "code",
   "execution_count": 37,
   "metadata": {},
   "outputs": [],
   "source": [
    "# Create X_train, X_test, y_train, y_test\n",
    "X_train, X_test, y_train, y_test = train_test_split(X, y, test_size=0.7, random_state=78, stratify=y)"
   ]
  },
  {
   "cell_type": "code",
   "execution_count": 38,
   "metadata": {
    "scrolled": true
   },
   "outputs": [],
   "source": [
    "# Creating a StandardScaler instance.\n",
    "scaler = StandardScaler()\n",
    "# Fitting the Standard Scaler with the training data.\n",
    "X_scaler = scaler.fit(X_train)\n",
    "\n",
    "# Scaling the data.\n",
    "X_train_scaled = X_scaler.transform(X_train)\n",
    "\n",
    "X_test_scaled = X_scaler.transform(X_test)"
   ]
  },
  {
   "cell_type": "markdown",
   "metadata": {},
   "source": [
    "# Logistic Regression"
   ]
  },
  {
   "cell_type": "code",
   "execution_count": 39,
   "metadata": {},
   "outputs": [
    {
     "data": {
      "text/plain": [
       "LogisticRegression(C=1.0, class_weight=None, dual=False, fit_intercept=True,\n",
       "                   intercept_scaling=1, l1_ratio=None, max_iter=100,\n",
       "                   multi_class='auto', n_jobs=None, penalty='l2',\n",
       "                   random_state=78, solver='lbfgs', tol=0.0001, verbose=0,\n",
       "                   warm_start=False)"
      ]
     },
     "execution_count": 39,
     "metadata": {},
     "output_type": "execute_result"
    }
   ],
   "source": [
    "# Train the Logistic Regression model using the resampled data\n",
    "from sklearn.linear_model import LogisticRegression\n",
    "\n",
    "lr_model = LogisticRegression(solver='lbfgs', random_state=78)\n",
    "lr_model.fit(X_train_scaled, y_train)"
   ]
  },
  {
   "cell_type": "code",
   "execution_count": 40,
   "metadata": {},
   "outputs": [
    {
     "data": {
      "text/plain": [
       "0.5467224546722455"
      ]
     },
     "execution_count": 40,
     "metadata": {},
     "output_type": "execute_result"
    }
   ],
   "source": [
    "# Run the test with model\n",
    "y_pred = lr_model.predict(X_test_scaled)\n",
    "# Find accuracy\n",
    "accuracy_score(y_test, y_pred)"
   ]
  },
  {
   "cell_type": "code",
   "execution_count": 41,
   "metadata": {},
   "outputs": [
    {
     "data": {
      "text/html": [
       "<div>\n",
       "<style scoped>\n",
       "    .dataframe tbody tr th:only-of-type {\n",
       "        vertical-align: middle;\n",
       "    }\n",
       "\n",
       "    .dataframe tbody tr th {\n",
       "        vertical-align: top;\n",
       "    }\n",
       "\n",
       "    .dataframe thead th {\n",
       "        text-align: right;\n",
       "    }\n",
       "</style>\n",
       "<table border=\"1\" class=\"dataframe\">\n",
       "  <thead>\n",
       "    <tr style=\"text-align: right;\">\n",
       "      <th></th>\n",
       "      <th>Predicted 1</th>\n",
       "      <th>Predicted 2</th>\n",
       "      <th>Predicted 3</th>\n",
       "      <th>Predicted 4</th>\n",
       "    </tr>\n",
       "  </thead>\n",
       "  <tbody>\n",
       "    <tr>\n",
       "      <th>Actual 1</th>\n",
       "      <td>285</td>\n",
       "      <td>192</td>\n",
       "      <td>18</td>\n",
       "      <td>10</td>\n",
       "    </tr>\n",
       "    <tr>\n",
       "      <th>Actual 2</th>\n",
       "      <td>138</td>\n",
       "      <td>360</td>\n",
       "      <td>108</td>\n",
       "      <td>63</td>\n",
       "    </tr>\n",
       "    <tr>\n",
       "      <th>Actual 3</th>\n",
       "      <td>19</td>\n",
       "      <td>133</td>\n",
       "      <td>140</td>\n",
       "      <td>146</td>\n",
       "    </tr>\n",
       "    <tr>\n",
       "      <th>Actual 4</th>\n",
       "      <td>12</td>\n",
       "      <td>52</td>\n",
       "      <td>84</td>\n",
       "      <td>391</td>\n",
       "    </tr>\n",
       "  </tbody>\n",
       "</table>\n",
       "</div>"
      ],
      "text/plain": [
       "          Predicted 1  Predicted 2  Predicted 3  Predicted 4\n",
       "Actual 1          285          192           18           10\n",
       "Actual 2          138          360          108           63\n",
       "Actual 3           19          133          140          146\n",
       "Actual 4           12           52           84          391"
      ]
     },
     "execution_count": 41,
     "metadata": {},
     "output_type": "execute_result"
    }
   ],
   "source": [
    "cm = confusion_matrix(y_test, y_pred)\n",
    "\n",
    "# Create a DataFrame from the confusion matrix.\n",
    "cm_df = pd.DataFrame(\n",
    "    cm, index=[\"Actual 1\", \"Actual 2\", \"Actual 3\", \"Actual 4\"], columns=[\"Predicted 1\", \"Predicted 2\", \"Predicted 3\", \"Predicted 4\"])\n",
    "\n",
    "cm_df"
   ]
  },
  {
   "cell_type": "code",
   "execution_count": 42,
   "metadata": {},
   "outputs": [
    {
     "name": "stdout",
     "output_type": "stream",
     "text": [
      "Classification Report\n",
      "              precision    recall  f1-score   support\n",
      "\n",
      "           1       0.63      0.56      0.59       505\n",
      "           2       0.49      0.54      0.51       669\n",
      "           3       0.40      0.32      0.36       438\n",
      "           4       0.64      0.73      0.68       539\n",
      "\n",
      "    accuracy                           0.55      2151\n",
      "   macro avg       0.54      0.54      0.54      2151\n",
      "weighted avg       0.54      0.55      0.54      2151\n",
      "\n"
     ]
    }
   ],
   "source": [
    "print(\"Classification Report\")\n",
    "print(classification_report(y_test, y_pred))"
   ]
  },
  {
   "cell_type": "markdown",
   "metadata": {},
   "source": [
    "# KNeighbors"
   ]
  },
  {
   "cell_type": "code",
   "execution_count": 43,
   "metadata": {},
   "outputs": [],
   "source": [
    "from sklearn.neighbors import KNeighborsClassifier\n",
    "kn_model = KNeighborsClassifier(n_neighbors=25)"
   ]
  },
  {
   "cell_type": "code",
   "execution_count": 44,
   "metadata": {},
   "outputs": [],
   "source": [
    "kn_model = kn_model.fit(X_train_scaled, y_train)"
   ]
  },
  {
   "cell_type": "code",
   "execution_count": 45,
   "metadata": {},
   "outputs": [
    {
     "data": {
      "text/plain": [
       "0.5397489539748954"
      ]
     },
     "execution_count": 45,
     "metadata": {},
     "output_type": "execute_result"
    }
   ],
   "source": [
    "# Run the test with model\n",
    "y_pred = kn_model.predict(X_test_scaled)\n",
    "# Find accuracy\n",
    "accuracy_score(y_test, y_pred)"
   ]
  },
  {
   "cell_type": "code",
   "execution_count": 46,
   "metadata": {},
   "outputs": [
    {
     "data": {
      "text/html": [
       "<div>\n",
       "<style scoped>\n",
       "    .dataframe tbody tr th:only-of-type {\n",
       "        vertical-align: middle;\n",
       "    }\n",
       "\n",
       "    .dataframe tbody tr th {\n",
       "        vertical-align: top;\n",
       "    }\n",
       "\n",
       "    .dataframe thead th {\n",
       "        text-align: right;\n",
       "    }\n",
       "</style>\n",
       "<table border=\"1\" class=\"dataframe\">\n",
       "  <thead>\n",
       "    <tr style=\"text-align: right;\">\n",
       "      <th></th>\n",
       "      <th>Predicted 1</th>\n",
       "      <th>Predicted 2</th>\n",
       "      <th>Predicted 3</th>\n",
       "      <th>Predicted 4</th>\n",
       "    </tr>\n",
       "  </thead>\n",
       "  <tbody>\n",
       "    <tr>\n",
       "      <th>Actual 1</th>\n",
       "      <td>269</td>\n",
       "      <td>205</td>\n",
       "      <td>16</td>\n",
       "      <td>15</td>\n",
       "    </tr>\n",
       "    <tr>\n",
       "      <th>Actual 2</th>\n",
       "      <td>135</td>\n",
       "      <td>355</td>\n",
       "      <td>110</td>\n",
       "      <td>69</td>\n",
       "    </tr>\n",
       "    <tr>\n",
       "      <th>Actual 3</th>\n",
       "      <td>26</td>\n",
       "      <td>119</td>\n",
       "      <td>145</td>\n",
       "      <td>148</td>\n",
       "    </tr>\n",
       "    <tr>\n",
       "      <th>Actual 4</th>\n",
       "      <td>9</td>\n",
       "      <td>41</td>\n",
       "      <td>97</td>\n",
       "      <td>392</td>\n",
       "    </tr>\n",
       "  </tbody>\n",
       "</table>\n",
       "</div>"
      ],
      "text/plain": [
       "          Predicted 1  Predicted 2  Predicted 3  Predicted 4\n",
       "Actual 1          269          205           16           15\n",
       "Actual 2          135          355          110           69\n",
       "Actual 3           26          119          145          148\n",
       "Actual 4            9           41           97          392"
      ]
     },
     "execution_count": 46,
     "metadata": {},
     "output_type": "execute_result"
    }
   ],
   "source": [
    "cm = confusion_matrix(y_test, y_pred)\n",
    "\n",
    "# Create a DataFrame from the confusion matrix.\n",
    "cm_df = pd.DataFrame(\n",
    "    cm, index=[\"Actual 1\", \"Actual 2\", \"Actual 3\", \"Actual 4\"], columns=[\"Predicted 1\", \"Predicted 2\", \"Predicted 3\", \"Predicted 4\"])\n",
    "\n",
    "cm_df"
   ]
  },
  {
   "cell_type": "code",
   "execution_count": 47,
   "metadata": {},
   "outputs": [
    {
     "name": "stdout",
     "output_type": "stream",
     "text": [
      "Classification Report\n",
      "              precision    recall  f1-score   support\n",
      "\n",
      "           1       0.61      0.53      0.57       505\n",
      "           2       0.49      0.53      0.51       669\n",
      "           3       0.39      0.33      0.36       438\n",
      "           4       0.63      0.73      0.67       539\n",
      "\n",
      "    accuracy                           0.54      2151\n",
      "   macro avg       0.53      0.53      0.53      2151\n",
      "weighted avg       0.53      0.54      0.53      2151\n",
      "\n"
     ]
    }
   ],
   "source": [
    "print(\"Classification Report\")\n",
    "print(classification_report(y_test, y_pred))"
   ]
  },
  {
   "cell_type": "markdown",
   "metadata": {},
   "source": [
    "# Decision Tree"
   ]
  },
  {
   "cell_type": "code",
   "execution_count": 48,
   "metadata": {},
   "outputs": [],
   "source": [
    "from sklearn.tree import DecisionTreeClassifier\n",
    "# Create a model Decision Tree\n",
    "dt_model =  DecisionTreeClassifier(random_state=78) "
   ]
  },
  {
   "cell_type": "code",
   "execution_count": 49,
   "metadata": {},
   "outputs": [],
   "source": [
    "dt_model = dt_model.fit(X_train_scaled, y_train)"
   ]
  },
  {
   "cell_type": "code",
   "execution_count": 50,
   "metadata": {},
   "outputs": [
    {
     "data": {
      "text/plain": [
       "0.45420734542073454"
      ]
     },
     "execution_count": 50,
     "metadata": {},
     "output_type": "execute_result"
    }
   ],
   "source": [
    "# Run the test with model\n",
    "y_pred = dt_model.predict(X_test_scaled)\n",
    "# Find accuracy\n",
    "accuracy_score(y_test, y_pred)"
   ]
  },
  {
   "cell_type": "code",
   "execution_count": 51,
   "metadata": {},
   "outputs": [
    {
     "data": {
      "text/html": [
       "<div>\n",
       "<style scoped>\n",
       "    .dataframe tbody tr th:only-of-type {\n",
       "        vertical-align: middle;\n",
       "    }\n",
       "\n",
       "    .dataframe tbody tr th {\n",
       "        vertical-align: top;\n",
       "    }\n",
       "\n",
       "    .dataframe thead th {\n",
       "        text-align: right;\n",
       "    }\n",
       "</style>\n",
       "<table border=\"1\" class=\"dataframe\">\n",
       "  <thead>\n",
       "    <tr style=\"text-align: right;\">\n",
       "      <th></th>\n",
       "      <th>Predicted 1</th>\n",
       "      <th>Predicted 2</th>\n",
       "      <th>Predicted 3</th>\n",
       "      <th>Predicted 4</th>\n",
       "    </tr>\n",
       "  </thead>\n",
       "  <tbody>\n",
       "    <tr>\n",
       "      <th>Actual 1</th>\n",
       "      <td>257</td>\n",
       "      <td>170</td>\n",
       "      <td>54</td>\n",
       "      <td>24</td>\n",
       "    </tr>\n",
       "    <tr>\n",
       "      <th>Actual 2</th>\n",
       "      <td>171</td>\n",
       "      <td>274</td>\n",
       "      <td>133</td>\n",
       "      <td>91</td>\n",
       "    </tr>\n",
       "    <tr>\n",
       "      <th>Actual 3</th>\n",
       "      <td>37</td>\n",
       "      <td>131</td>\n",
       "      <td>129</td>\n",
       "      <td>141</td>\n",
       "    </tr>\n",
       "    <tr>\n",
       "      <th>Actual 4</th>\n",
       "      <td>33</td>\n",
       "      <td>75</td>\n",
       "      <td>114</td>\n",
       "      <td>317</td>\n",
       "    </tr>\n",
       "  </tbody>\n",
       "</table>\n",
       "</div>"
      ],
      "text/plain": [
       "          Predicted 1  Predicted 2  Predicted 3  Predicted 4\n",
       "Actual 1          257          170           54           24\n",
       "Actual 2          171          274          133           91\n",
       "Actual 3           37          131          129          141\n",
       "Actual 4           33           75          114          317"
      ]
     },
     "execution_count": 51,
     "metadata": {},
     "output_type": "execute_result"
    }
   ],
   "source": [
    "cm = confusion_matrix(y_test, y_pred)\n",
    "\n",
    "# Create a DataFrame from the confusion matrix.\n",
    "cm_df = pd.DataFrame(\n",
    "    cm, index=[\"Actual 1\", \"Actual 2\", \"Actual 3\", \"Actual 4\"], columns=[\"Predicted 1\", \"Predicted 2\", \"Predicted 3\", \"Predicted 4\"])\n",
    "\n",
    "cm_df"
   ]
  },
  {
   "cell_type": "code",
   "execution_count": 52,
   "metadata": {},
   "outputs": [
    {
     "name": "stdout",
     "output_type": "stream",
     "text": [
      "Classification Report\n",
      "              precision    recall  f1-score   support\n",
      "\n",
      "           1       0.52      0.51      0.51       505\n",
      "           2       0.42      0.41      0.42       669\n",
      "           3       0.30      0.29      0.30       438\n",
      "           4       0.55      0.59      0.57       539\n",
      "\n",
      "    accuracy                           0.45      2151\n",
      "   macro avg       0.45      0.45      0.45      2151\n",
      "weighted avg       0.45      0.45      0.45      2151\n",
      "\n"
     ]
    }
   ],
   "source": [
    "print(\"Classification Report\")\n",
    "print(classification_report(y_test, y_pred))"
   ]
  },
  {
   "cell_type": "code",
   "execution_count": 53,
   "metadata": {
    "scrolled": true
   },
   "outputs": [
    {
     "data": {
      "text/plain": [
       "[(0.12412179254134194, 'Percent_Smokers'),\n",
       " (0.061679763136464054, 'Median_Household_Income'),\n",
       " (0.04717467843402751, 'Violent_Crime_Rate'),\n",
       " (0.04715725525308743, 'Population_Hispanic'),\n",
       " (0.039765303886315356, 'Percent_Excessive_Drinking'),\n",
       " (0.0336884712832896, 'Percent_Vaccinated'),\n",
       " (0.032705454259858595, 'Percent_Physically_Inactive'),\n",
       " (0.02995641182496583, 'Percent_Some_College'),\n",
       " (0.02894308239162295, 'Polution_Average_Daily_PM2.5'),\n",
       " (0.028139219523274608, 'Household_Income_Asian'),\n",
       " (0.027683519742880205, 'Social_Association_Rate'),\n",
       " (0.025014724574944525, 'Percent_Insufficient_Sleep'),\n",
       " (0.024431603839913316, 'Population_Asian'),\n",
       " (0.022997694344519367, 'Household_Income_White'),\n",
       " (0.022812155402444446, 'Percent_With_Access_to_Exercise_Opportunities'),\n",
       " (0.022113097121013916, 'Percent_Drive_Alone_to_Work'),\n",
       " (0.02193183091853744, 'Dentist_Rate'),\n",
       " (0.020256456274595117, 'Average_Number_of_Mentally_Unhealthy_Days'),\n",
       " (0.01900238832634751, 'Percent_Unemployed'),\n",
       " (0.018916418922123916, 'Pop_Under_30'),\n",
       " (0.017354617425030465, 'High_School_Graduation_Rate'),\n",
       " (0.016635841082375594, 'Primary_Care_Physicians_Rate'),\n",
       " (0.015560556261910935, 'Population_Black'),\n",
       " (0.015320959479044886, 'Less_than_high_school'),\n",
       " (0.015243688518086444, 'Percent_Adults_with_Diabetes'),\n",
       " (0.014686941585643435, 'Preventable_Hospitalization_Rate'),\n",
       " (0.013259602839971246, 'Percent_Uninsured'),\n",
       " (0.01247608037890464, 'Male_30-59'),\n",
       " (0.012430914562621501, 'Household_Income_Hispanic'),\n",
       " (0.012336850912974314, 'Average_Number_of_Physically_Unhealthy_Days'),\n",
       " (0.01120983206511587, 'Population_AIAN'),\n",
       " (0.010835256505165503, 'Percent_Homeowners'),\n",
       " (0.01034143395860514, 'Household_Income_AIAN'),\n",
       " (0.010271466258435124, 'Percent_Single_Parent_Households'),\n",
       " (0.010139120545458794, 'Percent_Adults_with_Obesity'),\n",
       " (0.009096292480537298, 'Percent_Long_Commute'),\n",
       " (0.008489586799909988, 'Food_Environment_Index'),\n",
       " (0.007654341062412618, 'Unreported_education'),\n",
       " (0.007005733519696492, 'Poverty'),\n",
       " (0.006638429549688357, 'Percent_Severe_Housing_Problems'),\n",
       " (0.006198315246793436, 'Population_NHPI'),\n",
       " (0.0061101781018620275, 'Percent_Fair_or_Poor_Health'),\n",
       " (0.005872252267971719, 'Female_30-59'),\n",
       " (0.0058410950550894045, 'College_or_associates'),\n",
       " (0.005594856630313173, 'Percent_Limited_Access_to_Healthy_Foods'),\n",
       " (0.005557777455766491, 'Household_Income_Black'),\n",
       " (0.005108347358112027, 'Pop_Between_30-59'),\n",
       " (0.0044307094432604315, 'Male_Under_30'),\n",
       " (0.0041821666628968045, 'Uninsured'),\n",
       " (0.002992032024037044, 'Male_Over_60'),\n",
       " (0.002648000467266234, 'Female_Over_60'),\n",
       " (0.002604255515900249, 'Population_NHW'),\n",
       " (0.0025541736790560135, 'Bachelor_degree_or_higher'),\n",
       " (0.002454660418833051, 'High_school_only'),\n",
       " (0.0023723118796855846, 'Mental_Health_Provider_Rate'),\n",
       " (0.0, 'Population'),\n",
       " (0.0, 'Pop_Over_60'),\n",
       " (0.0, 'Female_Under_30')]"
      ]
     },
     "execution_count": 53,
     "metadata": {},
     "output_type": "execute_result"
    }
   ],
   "source": [
    "importances = dt_model.feature_importances_\n",
    "sorted(zip(importances, X.columns), reverse=True)"
   ]
  },
  {
   "cell_type": "markdown",
   "metadata": {},
   "source": [
    "# Random Forest"
   ]
  },
  {
   "cell_type": "code",
   "execution_count": 54,
   "metadata": {},
   "outputs": [],
   "source": [
    "from sklearn.ensemble import RandomForestClassifier\n",
    "# Create a random forest classifier.\n",
    "rf_model = RandomForestClassifier(n_estimators=256, random_state=78, max_depth= 256) "
   ]
  },
  {
   "cell_type": "code",
   "execution_count": 55,
   "metadata": {},
   "outputs": [],
   "source": [
    "rf_model = rf_model.fit(X_train_scaled, y_train)"
   ]
  },
  {
   "cell_type": "code",
   "execution_count": 56,
   "metadata": {},
   "outputs": [
    {
     "data": {
      "text/plain": [
       "0.5662482566248257"
      ]
     },
     "execution_count": 56,
     "metadata": {},
     "output_type": "execute_result"
    }
   ],
   "source": [
    "# Run the test with model\n",
    "y_pred = rf_model.predict(X_test_scaled)\n",
    "# Find accuracy\n",
    "accuracy_score(y_test, y_pred)"
   ]
  },
  {
   "cell_type": "code",
   "execution_count": 57,
   "metadata": {
    "scrolled": true
   },
   "outputs": [
    {
     "data": {
      "text/html": [
       "<div>\n",
       "<style scoped>\n",
       "    .dataframe tbody tr th:only-of-type {\n",
       "        vertical-align: middle;\n",
       "    }\n",
       "\n",
       "    .dataframe tbody tr th {\n",
       "        vertical-align: top;\n",
       "    }\n",
       "\n",
       "    .dataframe thead th {\n",
       "        text-align: right;\n",
       "    }\n",
       "</style>\n",
       "<table border=\"1\" class=\"dataframe\">\n",
       "  <thead>\n",
       "    <tr style=\"text-align: right;\">\n",
       "      <th></th>\n",
       "      <th>Predicted 1</th>\n",
       "      <th>Predicted 2</th>\n",
       "      <th>Predicted 3</th>\n",
       "      <th>Predicted 4</th>\n",
       "    </tr>\n",
       "  </thead>\n",
       "  <tbody>\n",
       "    <tr>\n",
       "      <th>Actual 1</th>\n",
       "      <td>275</td>\n",
       "      <td>209</td>\n",
       "      <td>10</td>\n",
       "      <td>11</td>\n",
       "    </tr>\n",
       "    <tr>\n",
       "      <th>Actual 2</th>\n",
       "      <td>123</td>\n",
       "      <td>412</td>\n",
       "      <td>82</td>\n",
       "      <td>52</td>\n",
       "    </tr>\n",
       "    <tr>\n",
       "      <th>Actual 3</th>\n",
       "      <td>15</td>\n",
       "      <td>145</td>\n",
       "      <td>135</td>\n",
       "      <td>143</td>\n",
       "    </tr>\n",
       "    <tr>\n",
       "      <th>Actual 4</th>\n",
       "      <td>8</td>\n",
       "      <td>56</td>\n",
       "      <td>79</td>\n",
       "      <td>396</td>\n",
       "    </tr>\n",
       "  </tbody>\n",
       "</table>\n",
       "</div>"
      ],
      "text/plain": [
       "          Predicted 1  Predicted 2  Predicted 3  Predicted 4\n",
       "Actual 1          275          209           10           11\n",
       "Actual 2          123          412           82           52\n",
       "Actual 3           15          145          135          143\n",
       "Actual 4            8           56           79          396"
      ]
     },
     "execution_count": 57,
     "metadata": {},
     "output_type": "execute_result"
    }
   ],
   "source": [
    "cm = confusion_matrix(y_test, y_pred)\n",
    "\n",
    "# Create a DataFrame from the confusion matrix.\n",
    "cm_df = pd.DataFrame(\n",
    "    cm, index=[\"Actual 1\", \"Actual 2\", \"Actual 3\", \"Actual 4\"], columns=[\"Predicted 1\", \"Predicted 2\", \"Predicted 3\", \"Predicted 4\"])\n",
    "\n",
    "cm_df"
   ]
  },
  {
   "cell_type": "code",
   "execution_count": 58,
   "metadata": {},
   "outputs": [
    {
     "name": "stdout",
     "output_type": "stream",
     "text": [
      "Classification Report\n",
      "              precision    recall  f1-score   support\n",
      "\n",
      "           1       0.65      0.54      0.59       505\n",
      "           2       0.50      0.62      0.55       669\n",
      "           3       0.44      0.31      0.36       438\n",
      "           4       0.66      0.73      0.69       539\n",
      "\n",
      "    accuracy                           0.57      2151\n",
      "   macro avg       0.56      0.55      0.55      2151\n",
      "weighted avg       0.56      0.57      0.56      2151\n",
      "\n"
     ]
    }
   ],
   "source": [
    "print(\"Classification Report\")\n",
    "print(classification_report(y_test, y_pred))"
   ]
  },
  {
   "cell_type": "code",
   "execution_count": 59,
   "metadata": {},
   "outputs": [
    {
     "data": {
      "text/plain": [
       "[(0.04515116202371457, 'Median_Household_Income'),\n",
       " (0.0420807769560677, 'Percent_Smokers'),\n",
       " (0.036646241669773684, 'Percent_Physically_Inactive'),\n",
       " (0.03315105552934303, 'Household_Income_White'),\n",
       " (0.03143717424931157, 'Average_Number_of_Mentally_Unhealthy_Days'),\n",
       " (0.030789786247172744, 'Percent_Fair_or_Poor_Health'),\n",
       " (0.030626210839101706, 'Average_Number_of_Physically_Unhealthy_Days'),\n",
       " (0.028446091824567074, 'Polution_Average_Daily_PM2.5'),\n",
       " (0.023856134387398916, 'Population_Hispanic'),\n",
       " (0.0235543885556313, 'Preventable_Hospitalization_Rate'),\n",
       " (0.022313436887331145, 'Percent_Some_College'),\n",
       " (0.019955081983232106, 'Percent_Insufficient_Sleep'),\n",
       " (0.019396063670648212, 'Percent_Excessive_Drinking'),\n",
       " (0.01923548359682229, 'Population_Asian'),\n",
       " (0.01920210127532191, 'Percent_With_Access_to_Exercise_Opportunities'),\n",
       " (0.018111976235808656, 'Percent_Drive_Alone_to_Work'),\n",
       " (0.018001786461450797, 'Social_Association_Rate'),\n",
       " (0.017673822793324703, 'Percent_Unemployed'),\n",
       " (0.017527096536387878, 'Food_Environment_Index'),\n",
       " (0.017404366655487002, 'Percent_Adults_with_Obesity'),\n",
       " (0.017217489903882666, 'Percent_Adults_with_Diabetes'),\n",
       " (0.017010216606586175, 'Percent_Single_Parent_Households'),\n",
       " (0.016931188421732503, 'Population_AIAN'),\n",
       " (0.016852112920462008, 'Household_Income_Hispanic'),\n",
       " (0.015638706159279515, 'Percent_Long_Commute'),\n",
       " (0.01559081291665646, 'Bachelor_degree_or_higher'),\n",
       " (0.01546430743343468, 'Violent_Crime_Rate'),\n",
       " (0.015356762794490325, 'Population_NHPI'),\n",
       " (0.015264666381420794, 'High_School_Graduation_Rate'),\n",
       " (0.014646893156035932, 'Dentist_Rate'),\n",
       " (0.014264429608552344, 'Mental_Health_Provider_Rate'),\n",
       " (0.01411605281014059, 'Population_Black'),\n",
       " (0.01411430432156, 'Primary_Care_Physicians_Rate'),\n",
       " (0.013946233085048415, 'Percent_Vaccinated'),\n",
       " (0.013142262754519119, 'Percent_Uninsured'),\n",
       " (0.013105388280150407, 'Percent_Homeowners'),\n",
       " (0.012887159252136682, 'Uninsured'),\n",
       " (0.012409307587938633, 'Poverty'),\n",
       " (0.012372640640787065, 'Percent_Severe_Housing_Problems'),\n",
       " (0.012222085455101879, 'Percent_Limited_Access_to_Healthy_Foods'),\n",
       " (0.012097766467695751, 'Unreported_education'),\n",
       " (0.012070788404928702, 'Household_Income_Black'),\n",
       " (0.012041619146087146, 'High_school_only'),\n",
       " (0.01182046026807113, 'Population_NHW'),\n",
       " (0.011456673615518331, 'Male_Over_60'),\n",
       " (0.011391615007581738, 'Less_than_high_school'),\n",
       " (0.011129101546552616, 'Female_Over_60'),\n",
       " (0.01110372155720137, 'College_or_associates'),\n",
       " (0.01109092887865793, 'Male_Under_30'),\n",
       " (0.01097591331318751, 'Pop_Over_60'),\n",
       " (0.010959833860181437, 'Population'),\n",
       " (0.010478855582897836, 'Pop_Between_30-59'),\n",
       " (0.01020976469212306, 'Pop_Under_30'),\n",
       " (0.009623004689292801, 'Female_Under_30'),\n",
       " (0.009560146329213847, 'Household_Income_Asian'),\n",
       " (0.009198487811528398, 'Male_30-59'),\n",
       " (0.009137418730133504, 'Female_30-59'),\n",
       " (0.008540641231333843, 'Household_Income_AIAN')]"
      ]
     },
     "execution_count": 59,
     "metadata": {},
     "output_type": "execute_result"
    }
   ],
   "source": [
    "importances = rf_model.feature_importances_\n",
    "sorted(zip(importances, X.columns), reverse=True)"
   ]
  },
  {
   "cell_type": "markdown",
   "metadata": {},
   "source": [
    "# Extra Trees"
   ]
  },
  {
   "cell_type": "code",
   "execution_count": 60,
   "metadata": {},
   "outputs": [],
   "source": [
    "from sklearn.ensemble import ExtraTreesClassifier\n",
    "# Create a extra Trees classifier.\n",
    "et_model = ExtraTreesClassifier(n_estimators=256, random_state=78) "
   ]
  },
  {
   "cell_type": "code",
   "execution_count": 61,
   "metadata": {},
   "outputs": [],
   "source": [
    "et_model = et_model.fit(X_train_scaled, y_train)"
   ]
  },
  {
   "cell_type": "code",
   "execution_count": 62,
   "metadata": {},
   "outputs": [
    {
     "data": {
      "text/plain": [
       "0.5620641562064156"
      ]
     },
     "execution_count": 62,
     "metadata": {},
     "output_type": "execute_result"
    }
   ],
   "source": [
    "# Run the test with model\n",
    "y_pred = et_model.predict(X_test_scaled)\n",
    "# Find accuracy\n",
    "accuracy_score(y_test, y_pred)"
   ]
  },
  {
   "cell_type": "code",
   "execution_count": 63,
   "metadata": {},
   "outputs": [
    {
     "data": {
      "text/html": [
       "<div>\n",
       "<style scoped>\n",
       "    .dataframe tbody tr th:only-of-type {\n",
       "        vertical-align: middle;\n",
       "    }\n",
       "\n",
       "    .dataframe tbody tr th {\n",
       "        vertical-align: top;\n",
       "    }\n",
       "\n",
       "    .dataframe thead th {\n",
       "        text-align: right;\n",
       "    }\n",
       "</style>\n",
       "<table border=\"1\" class=\"dataframe\">\n",
       "  <thead>\n",
       "    <tr style=\"text-align: right;\">\n",
       "      <th></th>\n",
       "      <th>Predicted 1</th>\n",
       "      <th>Predicted 2</th>\n",
       "      <th>Predicted 3</th>\n",
       "      <th>Predicted 4</th>\n",
       "    </tr>\n",
       "  </thead>\n",
       "  <tbody>\n",
       "    <tr>\n",
       "      <th>Actual 1</th>\n",
       "      <td>273</td>\n",
       "      <td>210</td>\n",
       "      <td>7</td>\n",
       "      <td>15</td>\n",
       "    </tr>\n",
       "    <tr>\n",
       "      <th>Actual 2</th>\n",
       "      <td>122</td>\n",
       "      <td>406</td>\n",
       "      <td>77</td>\n",
       "      <td>64</td>\n",
       "    </tr>\n",
       "    <tr>\n",
       "      <th>Actual 3</th>\n",
       "      <td>16</td>\n",
       "      <td>142</td>\n",
       "      <td>121</td>\n",
       "      <td>159</td>\n",
       "    </tr>\n",
       "    <tr>\n",
       "      <th>Actual 4</th>\n",
       "      <td>6</td>\n",
       "      <td>55</td>\n",
       "      <td>69</td>\n",
       "      <td>409</td>\n",
       "    </tr>\n",
       "  </tbody>\n",
       "</table>\n",
       "</div>"
      ],
      "text/plain": [
       "          Predicted 1  Predicted 2  Predicted 3  Predicted 4\n",
       "Actual 1          273          210            7           15\n",
       "Actual 2          122          406           77           64\n",
       "Actual 3           16          142          121          159\n",
       "Actual 4            6           55           69          409"
      ]
     },
     "execution_count": 63,
     "metadata": {},
     "output_type": "execute_result"
    }
   ],
   "source": [
    "cm = confusion_matrix(y_test, y_pred)\n",
    "\n",
    "# Create a DataFrame from the confusion matrix.\n",
    "cm_df = pd.DataFrame(\n",
    "    cm, index=[\"Actual 1\", \"Actual 2\", \"Actual 3\", \"Actual 4\"], columns=[\"Predicted 1\", \"Predicted 2\", \"Predicted 3\", \"Predicted 4\"])\n",
    "\n",
    "cm_df"
   ]
  },
  {
   "cell_type": "code",
   "execution_count": 64,
   "metadata": {},
   "outputs": [
    {
     "name": "stdout",
     "output_type": "stream",
     "text": [
      "Classification Report\n",
      "              precision    recall  f1-score   support\n",
      "\n",
      "           1       0.65      0.54      0.59       505\n",
      "           2       0.50      0.61      0.55       669\n",
      "           3       0.44      0.28      0.34       438\n",
      "           4       0.63      0.76      0.69       539\n",
      "\n",
      "    accuracy                           0.56      2151\n",
      "   macro avg       0.56      0.55      0.54      2151\n",
      "weighted avg       0.56      0.56      0.55      2151\n",
      "\n"
     ]
    }
   ],
   "source": [
    "print(\"Classification Report\")\n",
    "print(classification_report(y_test, y_pred))"
   ]
  },
  {
   "cell_type": "code",
   "execution_count": 65,
   "metadata": {},
   "outputs": [
    {
     "data": {
      "text/plain": [
       "[(0.036580485151461964, 'Percent_Physically_Inactive'),\n",
       " (0.036576818246203825, 'Average_Number_of_Mentally_Unhealthy_Days'),\n",
       " (0.0356780666461975, 'Average_Number_of_Physically_Unhealthy_Days'),\n",
       " (0.032452225600916575, 'Median_Household_Income'),\n",
       " (0.03217726003758859, 'Percent_Smokers'),\n",
       " (0.03138233323413628, 'Percent_Fair_or_Poor_Health'),\n",
       " (0.024751089504324475, 'Polution_Average_Daily_PM2.5'),\n",
       " (0.02392583863580734, 'Percent_Some_College'),\n",
       " (0.023398710046086863, 'Percent_Excessive_Drinking'),\n",
       " (0.022789301588367054, 'Percent_Insufficient_Sleep'),\n",
       " (0.022298921210539436, 'Household_Income_White'),\n",
       " (0.022296537858836615, 'Percent_Adults_with_Diabetes'),\n",
       " (0.02045381662483038, 'Preventable_Hospitalization_Rate'),\n",
       " (0.0193209879972787, 'Percent_With_Access_to_Exercise_Opportunities'),\n",
       " (0.018795873989416588, 'Percent_Adults_with_Obesity'),\n",
       " (0.01743166954815973, 'Food_Environment_Index'),\n",
       " (0.017183448375661423, 'Percent_Unemployed'),\n",
       " (0.01715738731291692, 'Percent_Drive_Alone_to_Work'),\n",
       " (0.016834297371629038, 'Population_Hispanic'),\n",
       " (0.016794521302518763, 'Percent_Single_Parent_Households'),\n",
       " (0.01636878645737434, 'Household_Income_Hispanic'),\n",
       " (0.016255014420046485, 'Percent_Severe_Housing_Problems'),\n",
       " (0.01606790885820878, 'Percent_Long_Commute'),\n",
       " (0.015940713401594333, 'Social_Association_Rate'),\n",
       " (0.01580580018357497, 'Percent_Vaccinated'),\n",
       " (0.015618900842045012, 'Violent_Crime_Rate'),\n",
       " (0.015364603626075404, 'Percent_Uninsured'),\n",
       " (0.0152684057674769, 'High_School_Graduation_Rate'),\n",
       " (0.01521933734270151, 'Dentist_Rate'),\n",
       " (0.01507629804762256, 'Percent_Homeowners'),\n",
       " (0.014648382602417118, 'Percent_Limited_Access_to_Healthy_Foods'),\n",
       " (0.014437453302951316, 'Population_AIAN'),\n",
       " (0.014249573396049908, 'Mental_Health_Provider_Rate'),\n",
       " (0.013931372287500719, 'Bachelor_degree_or_higher'),\n",
       " (0.013820331697508577, 'Household_Income_Black'),\n",
       " (0.01380183554409619, 'Population_Asian'),\n",
       " (0.013732643782312705, 'College_or_associates'),\n",
       " (0.01357994024730625, 'Primary_Care_Physicians_Rate'),\n",
       " (0.013470490207286466, 'Population_NHPI'),\n",
       " (0.01322581904464596, 'Household_Income_Asian'),\n",
       " (0.012727790407792152, 'Household_Income_AIAN'),\n",
       " (0.01272395627480624, 'Unreported_education'),\n",
       " (0.012668829006323004, 'Pop_Over_60'),\n",
       " (0.012666605389492215, 'Uninsured'),\n",
       " (0.012643088563654448, 'Population_NHW'),\n",
       " (0.012607189138074983, 'Population_Black'),\n",
       " (0.01220356752756481, 'Male_Over_60'),\n",
       " (0.012103643542987506, 'Population'),\n",
       " (0.011973408370612296, 'High_school_only'),\n",
       " (0.011883311442986197, 'Male_30-59'),\n",
       " (0.011840500954674232, 'Less_than_high_school'),\n",
       " (0.011809865046001974, 'Male_Under_30'),\n",
       " (0.01159631540840779, 'Female_Over_60'),\n",
       " (0.011465556240286579, 'Female_30-59'),\n",
       " (0.011344042928686312, 'Poverty'),\n",
       " (0.011312312036130966, 'Female_Under_30'),\n",
       " (0.0112947911295162, 'Pop_Under_30'),\n",
       " (0.01097202525032856, 'Pop_Between_30-59')]"
      ]
     },
     "execution_count": 65,
     "metadata": {},
     "output_type": "execute_result"
    }
   ],
   "source": [
    "importances = et_model.feature_importances_\n",
    "sorted(zip(importances, X.columns), reverse=True)"
   ]
  },
  {
   "cell_type": "markdown",
   "metadata": {},
   "source": [
    "# Ada Boost"
   ]
  },
  {
   "cell_type": "code",
   "execution_count": 66,
   "metadata": {},
   "outputs": [],
   "source": [
    "from sklearn.ensemble import AdaBoostClassifier\n",
    "\n",
    "ab_model = AdaBoostClassifier(n_estimators=256)"
   ]
  },
  {
   "cell_type": "code",
   "execution_count": 67,
   "metadata": {},
   "outputs": [],
   "source": [
    "ab_model = ab_model.fit(X_train_scaled, y_train)"
   ]
  },
  {
   "cell_type": "code",
   "execution_count": 68,
   "metadata": {},
   "outputs": [
    {
     "data": {
      "text/plain": [
       "0.5346350534635054"
      ]
     },
     "execution_count": 68,
     "metadata": {},
     "output_type": "execute_result"
    }
   ],
   "source": [
    "# Run the test with model\n",
    "y_pred = ab_model.predict(X_test_scaled)\n",
    "# Find accuracy\n",
    "accuracy_score(y_test, y_pred)"
   ]
  },
  {
   "cell_type": "code",
   "execution_count": 69,
   "metadata": {},
   "outputs": [
    {
     "data": {
      "text/html": [
       "<div>\n",
       "<style scoped>\n",
       "    .dataframe tbody tr th:only-of-type {\n",
       "        vertical-align: middle;\n",
       "    }\n",
       "\n",
       "    .dataframe tbody tr th {\n",
       "        vertical-align: top;\n",
       "    }\n",
       "\n",
       "    .dataframe thead th {\n",
       "        text-align: right;\n",
       "    }\n",
       "</style>\n",
       "<table border=\"1\" class=\"dataframe\">\n",
       "  <thead>\n",
       "    <tr style=\"text-align: right;\">\n",
       "      <th></th>\n",
       "      <th>Predicted 1</th>\n",
       "      <th>Predicted 2</th>\n",
       "      <th>Predicted 3</th>\n",
       "      <th>Predicted 4</th>\n",
       "    </tr>\n",
       "  </thead>\n",
       "  <tbody>\n",
       "    <tr>\n",
       "      <th>Actual 1</th>\n",
       "      <td>317</td>\n",
       "      <td>164</td>\n",
       "      <td>15</td>\n",
       "      <td>9</td>\n",
       "    </tr>\n",
       "    <tr>\n",
       "      <th>Actual 2</th>\n",
       "      <td>174</td>\n",
       "      <td>318</td>\n",
       "      <td>108</td>\n",
       "      <td>69</td>\n",
       "    </tr>\n",
       "    <tr>\n",
       "      <th>Actual 3</th>\n",
       "      <td>20</td>\n",
       "      <td>124</td>\n",
       "      <td>127</td>\n",
       "      <td>167</td>\n",
       "    </tr>\n",
       "    <tr>\n",
       "      <th>Actual 4</th>\n",
       "      <td>11</td>\n",
       "      <td>58</td>\n",
       "      <td>82</td>\n",
       "      <td>388</td>\n",
       "    </tr>\n",
       "  </tbody>\n",
       "</table>\n",
       "</div>"
      ],
      "text/plain": [
       "          Predicted 1  Predicted 2  Predicted 3  Predicted 4\n",
       "Actual 1          317          164           15            9\n",
       "Actual 2          174          318          108           69\n",
       "Actual 3           20          124          127          167\n",
       "Actual 4           11           58           82          388"
      ]
     },
     "execution_count": 69,
     "metadata": {},
     "output_type": "execute_result"
    }
   ],
   "source": [
    "cm = confusion_matrix(y_test, y_pred)\n",
    "\n",
    "# Create a DataFrame from the confusion matrix.\n",
    "cm_df = pd.DataFrame(\n",
    "    cm, index=[\"Actual 1\", \"Actual 2\", \"Actual 3\", \"Actual 4\"], columns=[\"Predicted 1\", \"Predicted 2\", \"Predicted 3\", \"Predicted 4\"])\n",
    "\n",
    "cm_df"
   ]
  },
  {
   "cell_type": "code",
   "execution_count": 70,
   "metadata": {},
   "outputs": [
    {
     "name": "stdout",
     "output_type": "stream",
     "text": [
      "Classification Report\n",
      "              precision    recall  f1-score   support\n",
      "\n",
      "           1       0.61      0.63      0.62       505\n",
      "           2       0.48      0.48      0.48       669\n",
      "           3       0.38      0.29      0.33       438\n",
      "           4       0.61      0.72      0.66       539\n",
      "\n",
      "    accuracy                           0.53      2151\n",
      "   macro avg       0.52      0.53      0.52      2151\n",
      "weighted avg       0.52      0.53      0.53      2151\n",
      "\n"
     ]
    }
   ],
   "source": [
    "print(\"Classification Report\")\n",
    "print(classification_report(y_test, y_pred))"
   ]
  },
  {
   "cell_type": "markdown",
   "metadata": {},
   "source": [
    "# Gradient Boosting"
   ]
  },
  {
   "cell_type": "code",
   "execution_count": 71,
   "metadata": {},
   "outputs": [],
   "source": [
    "from sklearn.ensemble import GradientBoostingClassifier\n",
    "\n",
    "gb_model = GradientBoostingClassifier(n_estimators=100, random_state=78)"
   ]
  },
  {
   "cell_type": "code",
   "execution_count": 72,
   "metadata": {},
   "outputs": [],
   "source": [
    "gb_model = gb_model.fit(X_train_scaled, y_train)"
   ]
  },
  {
   "cell_type": "code",
   "execution_count": 73,
   "metadata": {},
   "outputs": [
    {
     "data": {
      "text/plain": [
       "0.5564853556485355"
      ]
     },
     "execution_count": 73,
     "metadata": {},
     "output_type": "execute_result"
    }
   ],
   "source": [
    "# Run the test with model\n",
    "y_pred = gb_model.predict(X_test_scaled)\n",
    "# Find accuracy\n",
    "accuracy_score(y_test, y_pred)"
   ]
  },
  {
   "cell_type": "code",
   "execution_count": 74,
   "metadata": {},
   "outputs": [
    {
     "data": {
      "text/html": [
       "<div>\n",
       "<style scoped>\n",
       "    .dataframe tbody tr th:only-of-type {\n",
       "        vertical-align: middle;\n",
       "    }\n",
       "\n",
       "    .dataframe tbody tr th {\n",
       "        vertical-align: top;\n",
       "    }\n",
       "\n",
       "    .dataframe thead th {\n",
       "        text-align: right;\n",
       "    }\n",
       "</style>\n",
       "<table border=\"1\" class=\"dataframe\">\n",
       "  <thead>\n",
       "    <tr style=\"text-align: right;\">\n",
       "      <th></th>\n",
       "      <th>Predicted 1</th>\n",
       "      <th>Predicted 2</th>\n",
       "      <th>Predicted 3</th>\n",
       "      <th>Predicted 4</th>\n",
       "    </tr>\n",
       "  </thead>\n",
       "  <tbody>\n",
       "    <tr>\n",
       "      <th>Actual 1</th>\n",
       "      <td>295</td>\n",
       "      <td>177</td>\n",
       "      <td>22</td>\n",
       "      <td>11</td>\n",
       "    </tr>\n",
       "    <tr>\n",
       "      <th>Actual 2</th>\n",
       "      <td>149</td>\n",
       "      <td>365</td>\n",
       "      <td>107</td>\n",
       "      <td>48</td>\n",
       "    </tr>\n",
       "    <tr>\n",
       "      <th>Actual 3</th>\n",
       "      <td>19</td>\n",
       "      <td>132</td>\n",
       "      <td>155</td>\n",
       "      <td>132</td>\n",
       "    </tr>\n",
       "    <tr>\n",
       "      <th>Actual 4</th>\n",
       "      <td>13</td>\n",
       "      <td>50</td>\n",
       "      <td>94</td>\n",
       "      <td>382</td>\n",
       "    </tr>\n",
       "  </tbody>\n",
       "</table>\n",
       "</div>"
      ],
      "text/plain": [
       "          Predicted 1  Predicted 2  Predicted 3  Predicted 4\n",
       "Actual 1          295          177           22           11\n",
       "Actual 2          149          365          107           48\n",
       "Actual 3           19          132          155          132\n",
       "Actual 4           13           50           94          382"
      ]
     },
     "execution_count": 74,
     "metadata": {},
     "output_type": "execute_result"
    }
   ],
   "source": [
    "cm = confusion_matrix(y_test, y_pred)\n",
    "\n",
    "# Create a DataFrame from the confusion matrix.\n",
    "cm_df = pd.DataFrame(\n",
    "    cm, index=[\"Actual 1\", \"Actual 2\", \"Actual 3\", \"Actual 4\"], columns=[\"Predicted 1\", \"Predicted 2\", \"Predicted 3\", \"Predicted 4\"])\n",
    "\n",
    "cm_df"
   ]
  },
  {
   "cell_type": "code",
   "execution_count": 75,
   "metadata": {},
   "outputs": [
    {
     "name": "stdout",
     "output_type": "stream",
     "text": [
      "Classification Report\n",
      "              precision    recall  f1-score   support\n",
      "\n",
      "           1       0.62      0.58      0.60       505\n",
      "           2       0.50      0.55      0.52       669\n",
      "           3       0.41      0.35      0.38       438\n",
      "           4       0.67      0.71      0.69       539\n",
      "\n",
      "    accuracy                           0.56      2151\n",
      "   macro avg       0.55      0.55      0.55      2151\n",
      "weighted avg       0.55      0.56      0.55      2151\n",
      "\n"
     ]
    }
   ],
   "source": [
    "print(\"Classification Report\")\n",
    "print(classification_report(y_test, y_pred))"
   ]
  },
  {
   "cell_type": "markdown",
   "metadata": {},
   "source": [
    "# Deep Learning"
   ]
  },
  {
   "cell_type": "code",
   "execution_count": 76,
   "metadata": {},
   "outputs": [
    {
     "name": "stdout",
     "output_type": "stream",
     "text": [
      "Model: \"sequential\"\n",
      "_________________________________________________________________\n",
      "Layer (type)                 Output Shape              Param #   \n",
      "=================================================================\n",
      "dense (Dense)                (None, 1856)              109504    \n",
      "_________________________________________________________________\n",
      "dense_1 (Dense)              (None, 928)               1723296   \n",
      "_________________________________________________________________\n",
      "dense_2 (Dense)              (None, 464)               431056    \n",
      "_________________________________________________________________\n",
      "dense_3 (Dense)              (None, 232)               107880    \n",
      "_________________________________________________________________\n",
      "dense_4 (Dense)              (None, 1)                 233       \n",
      "=================================================================\n",
      "Total params: 2,371,969\n",
      "Trainable params: 2,371,969\n",
      "Non-trainable params: 0\n",
      "_________________________________________________________________\n"
     ]
    }
   ],
   "source": [
    "import tensorflow as tf\n",
    "# Define the model - deep neural net\n",
    "number_input_features = len(X_train_scaled[0])\n",
    "hidden_nodes_layer1 = number_input_features*32\n",
    "hidden_nodes_layer2 = number_input_features*16\n",
    "hidden_nodes_layer3 = number_input_features*8\n",
    "hidden_nodes_layer4 = number_input_features*4\n",
    "\n",
    "\n",
    "nn = tf.keras.models.Sequential()\n",
    "\n",
    "# First hidden layer\n",
    "nn.add(tf.keras.layers.Dense(units=hidden_nodes_layer1, input_dim=number_input_features, activation=\"relu\"))\n",
    "\n",
    "# Second hidden layer\n",
    "nn.add(tf.keras.layers.Dense(units=hidden_nodes_layer2, activation=\"relu\"))\n",
    "\n",
    "# Third hidden layer\n",
    "nn.add(tf.keras.layers.Dense(units=hidden_nodes_layer3, activation=\"relu\"))\n",
    "\n",
    "# fouth hidden layer\n",
    "nn.add(tf.keras.layers.Dense(units=hidden_nodes_layer4, activation=\"relu\"))\n",
    "\n",
    "# Output layer\n",
    "nn.add(tf.keras.layers.Dense(units=1, activation=\"relu\"))\n",
    "\n",
    "# Check the structure of the model\n",
    "nn.summary()"
   ]
  },
  {
   "cell_type": "code",
   "execution_count": 77,
   "metadata": {},
   "outputs": [],
   "source": [
    "# Compile the model\n",
    "nn.compile(loss=\"binary_crossentropy\", optimizer=\"adam\", metrics=[\"accuracy\"])"
   ]
  },
  {
   "cell_type": "code",
   "execution_count": 78,
   "metadata": {
    "scrolled": true
   },
   "outputs": [
    {
     "name": "stdout",
     "output_type": "stream",
     "text": [
      "Train on 921 samples\n",
      "Epoch 1/100\n",
      "921/921 [==============================] - 4s 4ms/sample - loss: -21.4013 - accuracy: 0.2302\n",
      "Epoch 2/100\n",
      "921/921 [==============================] - 2s 2ms/sample - loss: -22.5254 - accuracy: 0.2356\n",
      "Epoch 3/100\n",
      "921/921 [==============================] - 2s 2ms/sample - loss: -22.5254 - accuracy: 0.2356\n",
      "Epoch 4/100\n",
      "921/921 [==============================] - 2s 2ms/sample - loss: -22.5254 - accuracy: 0.2356\n",
      "Epoch 5/100\n",
      "921/921 [==============================] - 2s 2ms/sample - loss: -22.5254 - accuracy: 0.2356\n",
      "Epoch 6/100\n",
      "921/921 [==============================] - 2s 2ms/sample - loss: -22.5254 - accuracy: 0.2356\n",
      "Epoch 7/100\n",
      "921/921 [==============================] - 2s 2ms/sample - loss: -22.5254 - accuracy: 0.2356\n",
      "Epoch 8/100\n",
      "921/921 [==============================] - 2s 2ms/sample - loss: -22.5254 - accuracy: 0.2356\n",
      "Epoch 9/100\n",
      "921/921 [==============================] - 2s 2ms/sample - loss: -22.5254 - accuracy: 0.2356\n",
      "Epoch 10/100\n",
      "921/921 [==============================] - 2s 2ms/sample - loss: -22.5254 - accuracy: 0.2356\n",
      "Epoch 11/100\n",
      "921/921 [==============================] - 2s 2ms/sample - loss: -22.5254 - accuracy: 0.2356\n",
      "Epoch 12/100\n",
      "921/921 [==============================] - 2s 2ms/sample - loss: -22.5254 - accuracy: 0.2356\n",
      "Epoch 13/100\n",
      "921/921 [==============================] - 2s 2ms/sample - loss: -22.5254 - accuracy: 0.2356\n",
      "Epoch 14/100\n",
      "921/921 [==============================] - 2s 2ms/sample - loss: -22.5254 - accuracy: 0.2356\n",
      "Epoch 15/100\n",
      "921/921 [==============================] - 2s 2ms/sample - loss: -22.5254 - accuracy: 0.2356\n",
      "Epoch 16/100\n",
      "921/921 [==============================] - 2s 2ms/sample - loss: -22.5254 - accuracy: 0.2356\n",
      "Epoch 17/100\n",
      "921/921 [==============================] - 2s 2ms/sample - loss: -22.5254 - accuracy: 0.2356\n",
      "Epoch 18/100\n",
      "921/921 [==============================] - 2s 2ms/sample - loss: -22.5254 - accuracy: 0.2356\n",
      "Epoch 19/100\n",
      "921/921 [==============================] - 2s 2ms/sample - loss: -22.5254 - accuracy: 0.2356\n",
      "Epoch 20/100\n",
      "921/921 [==============================] - 2s 2ms/sample - loss: -22.5254 - accuracy: 0.2356\n",
      "Epoch 21/100\n",
      "921/921 [==============================] - 2s 2ms/sample - loss: -22.5254 - accuracy: 0.2356\n",
      "Epoch 22/100\n",
      "921/921 [==============================] - 2s 2ms/sample - loss: -22.5254 - accuracy: 0.2356\n",
      "Epoch 23/100\n",
      "921/921 [==============================] - 2s 2ms/sample - loss: -22.5254 - accuracy: 0.2356\n",
      "Epoch 24/100\n",
      "921/921 [==============================] - 2s 2ms/sample - loss: -22.5254 - accuracy: 0.2356\n",
      "Epoch 25/100\n",
      "921/921 [==============================] - 2s 2ms/sample - loss: -22.5254 - accuracy: 0.2356\n",
      "Epoch 26/100\n",
      "921/921 [==============================] - 2s 2ms/sample - loss: -22.5254 - accuracy: 0.2356\n",
      "Epoch 27/100\n",
      "921/921 [==============================] - 2s 2ms/sample - loss: -22.5254 - accuracy: 0.2356\n",
      "Epoch 28/100\n",
      "921/921 [==============================] - 2s 2ms/sample - loss: -22.5254 - accuracy: 0.2356\n",
      "Epoch 29/100\n",
      "921/921 [==============================] - ETA: 0s - loss: -22.5549 - accuracy: 0.23 - 2s 2ms/sample - loss: -22.5254 - accuracy: 0.2356\n",
      "Epoch 30/100\n",
      "921/921 [==============================] - 2s 2ms/sample - loss: -22.5254 - accuracy: 0.2356\n",
      "Epoch 31/100\n",
      "921/921 [==============================] - 2s 2ms/sample - loss: -22.5254 - accuracy: 0.2356\n",
      "Epoch 32/100\n",
      "921/921 [==============================] - 2s 2ms/sample - loss: -22.5254 - accuracy: 0.2356\n",
      "Epoch 33/100\n",
      "921/921 [==============================] - 2s 2ms/sample - loss: -22.5254 - accuracy: 0.2356\n",
      "Epoch 34/100\n",
      "921/921 [==============================] - 2s 2ms/sample - loss: -22.5254 - accuracy: 0.2356\n",
      "Epoch 35/100\n",
      "921/921 [==============================] - 2s 2ms/sample - loss: -22.5254 - accuracy: 0.2356\n",
      "Epoch 36/100\n",
      "921/921 [==============================] - 2s 2ms/sample - loss: -22.5254 - accuracy: 0.2356\n",
      "Epoch 37/100\n",
      "921/921 [==============================] - 2s 2ms/sample - loss: -22.5254 - accuracy: 0.2356\n",
      "Epoch 38/100\n",
      "921/921 [==============================] - 2s 3ms/sample - loss: -22.5254 - accuracy: 0.2356\n",
      "Epoch 39/100\n",
      "921/921 [==============================] - 2s 2ms/sample - loss: -22.5254 - accuracy: 0.2356\n",
      "Epoch 40/100\n",
      "921/921 [==============================] - 2s 2ms/sample - loss: -22.5254 - accuracy: 0.2356\n",
      "Epoch 41/100\n",
      "921/921 [==============================] - 2s 2ms/sample - loss: -22.5254 - accuracy: 0.2356\n",
      "Epoch 42/100\n",
      "921/921 [==============================] - 2s 2ms/sample - loss: -22.5254 - accuracy: 0.2356\n",
      "Epoch 43/100\n",
      "921/921 [==============================] - 2s 2ms/sample - loss: -22.5254 - accuracy: 0.2356\n",
      "Epoch 44/100\n",
      "921/921 [==============================] - 2s 2ms/sample - loss: -22.5254 - accuracy: 0.2356\n",
      "Epoch 45/100\n",
      "921/921 [==============================] - 2s 2ms/sample - loss: -22.5254 - accuracy: 0.2356\n",
      "Epoch 46/100\n",
      "921/921 [==============================] - 2s 2ms/sample - loss: -22.5254 - accuracy: 0.2356\n",
      "Epoch 47/100\n",
      "921/921 [==============================] - 2s 2ms/sample - loss: -22.5254 - accuracy: 0.2356\n",
      "Epoch 48/100\n",
      "921/921 [==============================] - 2s 2ms/sample - loss: -22.5254 - accuracy: 0.2356\n",
      "Epoch 49/100\n",
      "921/921 [==============================] - 2s 2ms/sample - loss: -22.5254 - accuracy: 0.2356\n",
      "Epoch 50/100\n",
      "921/921 [==============================] - 2s 2ms/sample - loss: -22.5254 - accuracy: 0.2356\n",
      "Epoch 51/100\n",
      "921/921 [==============================] - 2s 2ms/sample - loss: -22.5254 - accuracy: 0.2356\n",
      "Epoch 52/100\n",
      "921/921 [==============================] - 2s 2ms/sample - loss: -22.5254 - accuracy: 0.2356\n",
      "Epoch 53/100\n",
      "921/921 [==============================] - 2s 2ms/sample - loss: -22.5254 - accuracy: 0.2356\n",
      "Epoch 54/100\n",
      "921/921 [==============================] - 2s 2ms/sample - loss: -22.5254 - accuracy: 0.2356\n",
      "Epoch 55/100\n",
      "921/921 [==============================] - 2s 2ms/sample - loss: -22.5254 - accuracy: 0.2356\n",
      "Epoch 56/100\n",
      "921/921 [==============================] - 2s 2ms/sample - loss: -22.5254 - accuracy: 0.2356\n",
      "Epoch 57/100\n",
      "921/921 [==============================] - 2s 2ms/sample - loss: -22.5254 - accuracy: 0.2356\n",
      "Epoch 58/100\n",
      "921/921 [==============================] - 2s 2ms/sample - loss: -22.5254 - accuracy: 0.2356\n",
      "Epoch 59/100\n",
      "921/921 [==============================] - 2s 2ms/sample - loss: -22.5254 - accuracy: 0.23560s - loss: -22.3957 - accu\n",
      "Epoch 60/100\n",
      "921/921 [==============================] - 2s 2ms/sample - loss: -22.5254 - accuracy: 0.2356\n",
      "Epoch 61/100\n",
      "921/921 [==============================] - 2s 2ms/sample - loss: -22.5254 - accuracy: 0.2356\n",
      "Epoch 62/100\n",
      "921/921 [==============================] - 2s 2ms/sample - loss: -22.5254 - accuracy: 0.2356\n",
      "Epoch 63/100\n",
      "921/921 [==============================] - 2s 2ms/sample - loss: -22.5254 - accuracy: 0.2356\n",
      "Epoch 64/100\n",
      "921/921 [==============================] - 2s 2ms/sample - loss: -22.5254 - accuracy: 0.2356\n",
      "Epoch 65/100\n",
      "921/921 [==============================] - 2s 2ms/sample - loss: -22.5254 - accuracy: 0.2356\n",
      "Epoch 66/100\n",
      "921/921 [==============================] - 2s 2ms/sample - loss: -22.5254 - accuracy: 0.2356\n",
      "Epoch 67/100\n",
      "921/921 [==============================] - 2s 2ms/sample - loss: -22.5254 - accuracy: 0.2356\n",
      "Epoch 68/100\n",
      "921/921 [==============================] - 2s 2ms/sample - loss: -22.5254 - accuracy: 0.2356\n",
      "Epoch 69/100\n",
      "921/921 [==============================] - 2s 2ms/sample - loss: -22.5254 - accuracy: 0.2356\n",
      "Epoch 70/100\n",
      "921/921 [==============================] - 2s 2ms/sample - loss: -22.5254 - accuracy: 0.2356\n",
      "Epoch 71/100\n",
      "921/921 [==============================] - 2s 2ms/sample - loss: -22.5254 - accuracy: 0.2356\n",
      "Epoch 72/100\n",
      "921/921 [==============================] - 2s 2ms/sample - loss: -22.5254 - accuracy: 0.2356\n",
      "Epoch 73/100\n",
      "921/921 [==============================] - 2s 2ms/sample - loss: -22.5254 - accuracy: 0.2356\n",
      "Epoch 74/100\n",
      "921/921 [==============================] - 2s 2ms/sample - loss: -22.5254 - accuracy: 0.2356\n",
      "Epoch 75/100\n",
      "921/921 [==============================] - 2s 2ms/sample - loss: -22.5254 - accuracy: 0.2356\n",
      "Epoch 76/100\n",
      "921/921 [==============================] - 2s 2ms/sample - loss: -22.5254 - accuracy: 0.2356\n",
      "Epoch 77/100\n"
     ]
    },
    {
     "name": "stdout",
     "output_type": "stream",
     "text": [
      "921/921 [==============================] - 3s 3ms/sample - loss: -22.5254 - accuracy: 0.2356\n",
      "Epoch 78/100\n",
      "921/921 [==============================] - 2s 2ms/sample - loss: -22.5254 - accuracy: 0.2356\n",
      "Epoch 79/100\n",
      "921/921 [==============================] - 2s 2ms/sample - loss: -22.5254 - accuracy: 0.2356\n",
      "Epoch 80/100\n",
      "921/921 [==============================] - 2s 2ms/sample - loss: -22.5254 - accuracy: 0.2356\n",
      "Epoch 81/100\n",
      "921/921 [==============================] - 2s 2ms/sample - loss: -22.5254 - accuracy: 0.2356\n",
      "Epoch 82/100\n",
      "921/921 [==============================] - 2s 2ms/sample - loss: -22.5254 - accuracy: 0.2356\n",
      "Epoch 83/100\n",
      "921/921 [==============================] - 2s 2ms/sample - loss: -22.5254 - accuracy: 0.2356\n",
      "Epoch 84/100\n",
      "921/921 [==============================] - 2s 2ms/sample - loss: -22.5254 - accuracy: 0.2356\n",
      "Epoch 85/100\n",
      "921/921 [==============================] - 2s 2ms/sample - loss: -22.5254 - accuracy: 0.2356\n",
      "Epoch 86/100\n",
      "921/921 [==============================] - 2s 2ms/sample - loss: -22.5254 - accuracy: 0.2356\n",
      "Epoch 87/100\n",
      "921/921 [==============================] - 2s 2ms/sample - loss: -22.5254 - accuracy: 0.2356\n",
      "Epoch 88/100\n",
      "921/921 [==============================] - 2s 2ms/sample - loss: -22.5254 - accuracy: 0.2356\n",
      "Epoch 89/100\n",
      "921/921 [==============================] - 2s 2ms/sample - loss: -22.5254 - accuracy: 0.2356\n",
      "Epoch 90/100\n",
      "921/921 [==============================] - 2s 2ms/sample - loss: -22.5254 - accuracy: 0.2356\n",
      "Epoch 91/100\n",
      "921/921 [==============================] - 2s 2ms/sample - loss: -22.5254 - accuracy: 0.2356\n",
      "Epoch 92/100\n",
      "921/921 [==============================] - 2s 2ms/sample - loss: -22.5254 - accuracy: 0.2356\n",
      "Epoch 93/100\n",
      "921/921 [==============================] - 2s 2ms/sample - loss: -22.5254 - accuracy: 0.2356\n",
      "Epoch 94/100\n",
      "921/921 [==============================] - 2s 2ms/sample - loss: -22.5254 - accuracy: 0.2356\n",
      "Epoch 95/100\n",
      "921/921 [==============================] - 2s 2ms/sample - loss: -22.5254 - accuracy: 0.2356\n",
      "Epoch 96/100\n",
      "921/921 [==============================] - 2s 2ms/sample - loss: -22.5254 - accuracy: 0.2356\n",
      "Epoch 97/100\n",
      "921/921 [==============================] - 2s 2ms/sample - loss: -22.5254 - accuracy: 0.2356\n",
      "Epoch 98/100\n",
      "921/921 [==============================] - 2s 2ms/sample - loss: -22.5254 - accuracy: 0.2356\n",
      "Epoch 99/100\n",
      "921/921 [==============================] - 2s 2ms/sample - loss: -22.5254 - accuracy: 0.2356\n",
      "Epoch 100/100\n",
      "921/921 [==============================] - 2s 2ms/sample - loss: -22.5254 - accuracy: 0.2356\n"
     ]
    }
   ],
   "source": [
    "# Train the model\n",
    "fit_model = nn.fit(X_train_scaled,y_train,epochs=100)"
   ]
  },
  {
   "cell_type": "code",
   "execution_count": 79,
   "metadata": {
    "scrolled": true
   },
   "outputs": [
    {
     "name": "stdout",
     "output_type": "stream",
     "text": [
      "2151/1 - 1s - loss: -2.3318e+01 - accuracy: 0.2348\n",
      "Loss: -22.54007452535164, Accuracy: 0.23477452993392944\n"
     ]
    }
   ],
   "source": [
    "# Evaluate the model using the test data\n",
    "model_loss, model_accuracy = nn.evaluate(X_test_scaled,y_test,verbose=2)\n",
    "print(f\"Loss: {model_loss}, Accuracy: {model_accuracy}\")"
   ]
  },
  {
   "cell_type": "markdown",
   "metadata": {},
   "source": [
    "# PCA"
   ]
  },
  {
   "cell_type": "code",
   "execution_count": 85,
   "metadata": {},
   "outputs": [],
   "source": [
    "#using Principle Component Analysis find few PCA and the feature contribution to each one of them"
   ]
  },
  {
   "cell_type": "code",
   "execution_count": 86,
   "metadata": {},
   "outputs": [],
   "source": [
    "from sklearn.decomposition import PCA\n",
    "import numpy as np\n",
    "import matplotlib.pyplot as plt"
   ]
  },
  {
   "cell_type": "code",
   "execution_count": 87,
   "metadata": {},
   "outputs": [],
   "source": [
    "#Initialize PCA model\n",
    "pca = PCA(n_components=5)"
   ]
  },
  {
   "cell_type": "code",
   "execution_count": 88,
   "metadata": {},
   "outputs": [
    {
     "name": "stdout",
     "output_type": "stream",
     "text": [
      "shape of X_pca (921, 5)\n"
     ]
    }
   ],
   "source": [
    "hd_pca = pca.fit_transform(X_train_scaled)\n",
    "#let's check the shape of hd_pca array\n",
    "print (\"shape of X_pca\", hd_pca.shape)"
   ]
  },
  {
   "cell_type": "code",
   "execution_count": 89,
   "metadata": {},
   "outputs": [
    {
     "name": "stdout",
     "output_type": "stream",
     "text": [
      "[0.54413712 0.22483589 0.0924242  0.09007151 0.04853128]\n"
     ]
    }
   ],
   "source": [
    "#once pca is trained lets get the variance ratio and its details\n",
    "ex_variance=np.var(hd_pca,axis=0)\n",
    "ex_variance_ratio = ex_variance/np.sum(ex_variance)\n",
    "print (ex_variance_ratio )"
   ]
  },
  {
   "cell_type": "code",
   "execution_count": 90,
   "metadata": {},
   "outputs": [],
   "source": [
    "#Based on variance ration the variance ratio for each one of the PCA is\n",
    "#PCA1 = 0.544, PCA2 = 0.225, PCA3 = 0.0924, PCA4 = 0.0901, PCA5 = 0.0485\n",
    "# Knowing PCA is good but it would be clear if we can see which features contribute to each one of the PCA"
   ]
  },
  {
   "cell_type": "code",
   "execution_count": 95,
   "metadata": {
    "scrolled": true
   },
   "outputs": [
    {
     "ename": "RuntimeError",
     "evalue": "No mappable was found to use for colorbar creation. First define a mappable such as an image (with imshow) or a contour set (with contourf).",
     "output_type": "error",
     "traceback": [
      "\u001b[0;31m---------------------------------------------------------------------------\u001b[0m",
      "\u001b[0;31mRuntimeError\u001b[0m                              Traceback (most recent call last)",
      "\u001b[0;32m<ipython-input-95-bea107f6edba>\u001b[0m in \u001b[0;36m<module>\u001b[0;34m\u001b[0m\n\u001b[1;32m      2\u001b[0m \u001b[0mplt\u001b[0m\u001b[0;34m.\u001b[0m\u001b[0mfigure\u001b[0m\u001b[0;34m(\u001b[0m\u001b[0mfigsize\u001b[0m\u001b[0;34m=\u001b[0m\u001b[0;34m(\u001b[0m\u001b[0;36m1\u001b[0m\u001b[0;34m,\u001b[0m\u001b[0;36m1\u001b[0m\u001b[0;34m)\u001b[0m\u001b[0;34m)\u001b[0m\u001b[0;34m\u001b[0m\u001b[0;34m\u001b[0m\u001b[0m\n\u001b[1;32m      3\u001b[0m \u001b[0mplt\u001b[0m\u001b[0;34m.\u001b[0m\u001b[0myticks\u001b[0m\u001b[0;34m(\u001b[0m\u001b[0;34m[\u001b[0m\u001b[0;36m0\u001b[0m\u001b[0;34m,\u001b[0m\u001b[0;36m1\u001b[0m\u001b[0;34m,\u001b[0m\u001b[0;36m2\u001b[0m\u001b[0;34m,\u001b[0m\u001b[0;36m3\u001b[0m\u001b[0;34m,\u001b[0m\u001b[0;36m4\u001b[0m\u001b[0;34m]\u001b[0m\u001b[0;34m,\u001b[0m\u001b[0;34m[\u001b[0m\u001b[0;34m'1st Comp'\u001b[0m\u001b[0;34m,\u001b[0m\u001b[0;34m'2nd Comp'\u001b[0m\u001b[0;34m,\u001b[0m\u001b[0;34m'3rd Comp'\u001b[0m\u001b[0;34m,\u001b[0m \u001b[0;34m'4th Comp'\u001b[0m\u001b[0;34m,\u001b[0m \u001b[0;34m'5th Comp'\u001b[0m\u001b[0;34m]\u001b[0m\u001b[0;34m,\u001b[0m\u001b[0mfontsize\u001b[0m\u001b[0;34m=\u001b[0m\u001b[0;36m10\u001b[0m\u001b[0;34m)\u001b[0m\u001b[0;34m\u001b[0m\u001b[0;34m\u001b[0m\u001b[0m\n\u001b[0;32m----> 4\u001b[0;31m \u001b[0mplt\u001b[0m\u001b[0;34m.\u001b[0m\u001b[0mcolorbar\u001b[0m\u001b[0;34m(\u001b[0m\u001b[0;34m)\u001b[0m\u001b[0;34m\u001b[0m\u001b[0;34m\u001b[0m\u001b[0m\n\u001b[0m\u001b[1;32m      5\u001b[0m \u001b[0mplt\u001b[0m\u001b[0;34m.\u001b[0m\u001b[0mxticks\u001b[0m\u001b[0;34m(\u001b[0m\u001b[0mrange\u001b[0m\u001b[0;34m(\u001b[0m\u001b[0mlen\u001b[0m\u001b[0;34m(\u001b[0m\u001b[0mX\u001b[0m\u001b[0;34m.\u001b[0m\u001b[0mcolumns\u001b[0m\u001b[0;34m)\u001b[0m\u001b[0;34m)\u001b[0m\u001b[0;34m,\u001b[0m\u001b[0mX\u001b[0m\u001b[0;34m.\u001b[0m\u001b[0mcolumns\u001b[0m\u001b[0;34m,\u001b[0m\u001b[0mrotation\u001b[0m\u001b[0;34m=\u001b[0m\u001b[0;36m65\u001b[0m\u001b[0;34m,\u001b[0m\u001b[0mha\u001b[0m\u001b[0;34m=\u001b[0m\u001b[0;34m'left'\u001b[0m\u001b[0;34m)\u001b[0m\u001b[0;34m\u001b[0m\u001b[0;34m\u001b[0m\u001b[0m\n\u001b[1;32m      6\u001b[0m \u001b[0mplt\u001b[0m\u001b[0;34m.\u001b[0m\u001b[0mtight_layout\u001b[0m\u001b[0;34m(\u001b[0m\u001b[0;34m)\u001b[0m\u001b[0;34m\u001b[0m\u001b[0;34m\u001b[0m\u001b[0m\n",
      "\u001b[0;32m~/opt/anaconda3/envs/mlenv/lib/python3.7/site-packages/matplotlib/pyplot.py\u001b[0m in \u001b[0;36mcolorbar\u001b[0;34m(mappable, cax, ax, **kw)\u001b[0m\n\u001b[1;32m   2079\u001b[0m         \u001b[0mmappable\u001b[0m \u001b[0;34m=\u001b[0m \u001b[0mgci\u001b[0m\u001b[0;34m(\u001b[0m\u001b[0;34m)\u001b[0m\u001b[0;34m\u001b[0m\u001b[0;34m\u001b[0m\u001b[0m\n\u001b[1;32m   2080\u001b[0m         \u001b[0;32mif\u001b[0m \u001b[0mmappable\u001b[0m \u001b[0;32mis\u001b[0m \u001b[0;32mNone\u001b[0m\u001b[0;34m:\u001b[0m\u001b[0;34m\u001b[0m\u001b[0;34m\u001b[0m\u001b[0m\n\u001b[0;32m-> 2081\u001b[0;31m             raise RuntimeError('No mappable was found to use for colorbar '\n\u001b[0m\u001b[1;32m   2082\u001b[0m                                \u001b[0;34m'creation. First define a mappable such as '\u001b[0m\u001b[0;34m\u001b[0m\u001b[0;34m\u001b[0m\u001b[0m\n\u001b[1;32m   2083\u001b[0m                                \u001b[0;34m'an image (with imshow) or a contour set ('\u001b[0m\u001b[0;34m\u001b[0m\u001b[0;34m\u001b[0m\u001b[0m\n",
      "\u001b[0;31mRuntimeError\u001b[0m: No mappable was found to use for colorbar creation. First define a mappable such as an image (with imshow) or a contour set (with contourf)."
     ]
    },
    {
     "data": {
      "image/png": "[encoded data removed]",
      "text/plain": [
       "<Figure size 1152x144 with 1 Axes>"
      ]
     },
     "metadata": {
      "needs_background": "light"
     },
     "output_type": "display_data"
    },
    {
     "data": {
      "image/png": "[encoded data removed]",
      "text/plain": [
       "<Figure size 72x72 with 1 Axes>"
      ]
     },
     "metadata": {
      "needs_background": "light"
     },
     "output_type": "display_data"
    }
   ],
   "source": [
    "plt.matshow(pca.components_,cmap='viridis')\n",
    "plt.figure(figsize=(1,1))\n",
    "plt.yticks([0,1,2,3,4],['1st Comp','2nd Comp','3rd Comp', '4th Comp', '5th Comp'],fontsize=10)\n",
    "plt.colorbar()\n",
    "plt.xticks(range(len(X.columns)),X.columns,rotation=65,ha='left')\n",
    "plt.tight_layout()\n",
    "plt.savefig('images/heartdisease_pca_matrix.png')\n",
    "plt.show()"
   ]
  },
  {
   "cell_type": "code",
   "execution_count": 93,
   "metadata": {
    "scrolled": true
   },
   "outputs": [
    {
     "data": {
      "text/plain": [
       "<Figure size 432x288 with 0 Axes>"
      ]
     },
     "metadata": {},
     "output_type": "display_data"
    }
   ],
   "source": [
    "plt.savefig('images/heartdisease_pca_matrix.png')"
   ]
  },
  {
   "cell_type": "code",
   "execution_count": null,
   "metadata": {},
   "outputs": [],
   "source": []
  }
 ],
 "metadata": {
  "kernelspec": {
   "display_name": "mlenv",
   "language": "python",
   "name": "mlenv"
  },
  "language_info": {
   "codemirror_mode": {
    "name": "ipython",
    "version": 3
   },
   "file_extension": ".py",
   "mimetype": "text/x-python",
   "name": "python",
   "nbconvert_exporter": "python",
   "pygments_lexer": "ipython3",
   "version": "3.7.7"
  }
 },
 "nbformat": 4,
 "nbformat_minor": 4
}
