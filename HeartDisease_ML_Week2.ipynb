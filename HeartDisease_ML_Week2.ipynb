{
 "cells": [
  {
   "cell_type": "markdown",
   "metadata": {},
   "source": [
    "# Use ML to predict the Heart Disease Motality based on the social local policies and life styles\n",
    "\n",
    "### Target is classified in 4 categories\n",
    "---\n",
    "    4. High Rate\n",
    "    3. Medium Rate\n",
    "    2. Med-Low Rate\n",
    "    1. Low Rate\n"
   ]
  },
  {
   "cell_type": "code",
   "execution_count": 1,
   "metadata": {},
   "outputs": [],
   "source": [
    "import warnings\n",
    "warnings.filterwarnings('ignore')"
   ]
  },
  {
   "cell_type": "code",
   "execution_count": 2,
   "metadata": {},
   "outputs": [],
   "source": [
    "#load all dependencies\n",
    "import pandas as pd\n",
    "import numpy as np\n",
    "import sqlite3\n",
    "import matplotlib.pyplot as plt\n",
    "\n",
    "\n",
    "from sklearn.preprocessing import StandardScaler\n",
    "from sklearn.model_selection import train_test_split\n",
    "from sklearn.metrics import confusion_matrix, accuracy_score, classification_report"
   ]
  },
  {
   "cell_type": "code",
   "execution_count": 3,
   "metadata": {},
   "outputs": [],
   "source": [
    "#connect to database\n",
    "path = \"model/db/HeartDiseaseByCounty.db\"\n",
    "cnx = sqlite3.connect(path)"
   ]
  },
  {
   "cell_type": "code",
   "execution_count": 4,
   "metadata": {
    "scrolled": true
   },
   "outputs": [
    {
     "data": {
      "text/html": [
       "<div>\n",
       "<style scoped>\n",
       "    .dataframe tbody tr th:only-of-type {\n",
       "        vertical-align: middle;\n",
       "    }\n",
       "\n",
       "    .dataframe tbody tr th {\n",
       "        vertical-align: top;\n",
       "    }\n",
       "\n",
       "    .dataframe thead th {\n",
       "        text-align: right;\n",
       "    }\n",
       "</style>\n",
       "<table border=\"1\" class=\"dataframe\">\n",
       "  <thead>\n",
       "    <tr style=\"text-align: right;\">\n",
       "      <th></th>\n",
       "      <th>State_Name</th>\n",
       "      <th>County</th>\n",
       "      <th>Percent_Fair_or_Poor_Health</th>\n",
       "      <th>Average_Number_of_Physically_Unhealthy_Days</th>\n",
       "      <th>Average_Number_of_Mentally_Unhealthy_Days</th>\n",
       "      <th>Percent_Smokers</th>\n",
       "      <th>Percent_Adults_with_Obesity</th>\n",
       "      <th>Food_Environment_Index</th>\n",
       "      <th>Percent_Physically_Inactive</th>\n",
       "      <th>Percent_With_Access_to_Exercise_Opportunities</th>\n",
       "      <th>...</th>\n",
       "      <th>Insured</th>\n",
       "      <th>Unreported_Insurance</th>\n",
       "      <th>Poverty</th>\n",
       "      <th>Less_than_high_school</th>\n",
       "      <th>High_school_only</th>\n",
       "      <th>College_or_associates</th>\n",
       "      <th>Bachelor_degree_or_higher</th>\n",
       "      <th>Unreported_education</th>\n",
       "      <th>Largest_sector</th>\n",
       "      <th>Level</th>\n",
       "    </tr>\n",
       "  </thead>\n",
       "  <tbody>\n",
       "    <tr>\n",
       "      <th>0</th>\n",
       "      <td>Alaska</td>\n",
       "      <td>Aleutians East</td>\n",
       "      <td>17</td>\n",
       "      <td>3.4</td>\n",
       "      <td>2.8</td>\n",
       "      <td>17</td>\n",
       "      <td>51</td>\n",
       "      <td>5.3</td>\n",
       "      <td>30</td>\n",
       "      <td>100</td>\n",
       "      <td>...</td>\n",
       "      <td>2376.0</td>\n",
       "      <td>321</td>\n",
       "      <td>544.0</td>\n",
       "      <td>358</td>\n",
       "      <td>1061</td>\n",
       "      <td>882</td>\n",
       "      <td>336</td>\n",
       "      <td>878</td>\n",
       "      <td>Manufacturing</td>\n",
       "      <td>1</td>\n",
       "    </tr>\n",
       "    <tr>\n",
       "      <th>1</th>\n",
       "      <td>Alaska</td>\n",
       "      <td>Aleutians West</td>\n",
       "      <td>15</td>\n",
       "      <td>3.0</td>\n",
       "      <td>2.5</td>\n",
       "      <td>15</td>\n",
       "      <td>44</td>\n",
       "      <td>7.6</td>\n",
       "      <td>30</td>\n",
       "      <td>100</td>\n",
       "      <td>...</td>\n",
       "      <td>4237.0</td>\n",
       "      <td>579</td>\n",
       "      <td>550.0</td>\n",
       "      <td>459</td>\n",
       "      <td>1664</td>\n",
       "      <td>1309</td>\n",
       "      <td>675</td>\n",
       "      <td>1616</td>\n",
       "      <td>Manufacturing</td>\n",
       "      <td>1</td>\n",
       "    </tr>\n",
       "    <tr>\n",
       "      <th>2</th>\n",
       "      <td>Alaska</td>\n",
       "      <td>Anchorage</td>\n",
       "      <td>15</td>\n",
       "      <td>3.5</td>\n",
       "      <td>3.2</td>\n",
       "      <td>15</td>\n",
       "      <td>32</td>\n",
       "      <td>8.0</td>\n",
       "      <td>18</td>\n",
       "      <td>100</td>\n",
       "      <td>...</td>\n",
       "      <td>223530.0</td>\n",
       "      <td>37266</td>\n",
       "      <td>27075.0</td>\n",
       "      <td>11867</td>\n",
       "      <td>45753</td>\n",
       "      <td>66655</td>\n",
       "      <td>67719</td>\n",
       "      <td>99544</td>\n",
       "      <td>Educational services, and health care and soci...</td>\n",
       "      <td>1</td>\n",
       "    </tr>\n",
       "    <tr>\n",
       "      <th>3</th>\n",
       "      <td>Alaska</td>\n",
       "      <td>Bethel</td>\n",
       "      <td>24</td>\n",
       "      <td>5.4</td>\n",
       "      <td>4.6</td>\n",
       "      <td>30</td>\n",
       "      <td>31</td>\n",
       "      <td>2.9</td>\n",
       "      <td>31</td>\n",
       "      <td>100</td>\n",
       "      <td>...</td>\n",
       "      <td>13584.0</td>\n",
       "      <td>1661</td>\n",
       "      <td>5869.0</td>\n",
       "      <td>1798</td>\n",
       "      <td>4371</td>\n",
       "      <td>2314</td>\n",
       "      <td>1194</td>\n",
       "      <td>8539</td>\n",
       "      <td>Educational services, and health care and soci...</td>\n",
       "      <td>2</td>\n",
       "    </tr>\n",
       "    <tr>\n",
       "      <th>4</th>\n",
       "      <td>Alaska</td>\n",
       "      <td>Bristol Bay</td>\n",
       "      <td>15</td>\n",
       "      <td>3.7</td>\n",
       "      <td>3.6</td>\n",
       "      <td>18</td>\n",
       "      <td>42</td>\n",
       "      <td>6.9</td>\n",
       "      <td>29</td>\n",
       "      <td>100</td>\n",
       "      <td>...</td>\n",
       "      <td>615.0</td>\n",
       "      <td>143</td>\n",
       "      <td>96.0</td>\n",
       "      <td>36</td>\n",
       "      <td>225</td>\n",
       "      <td>240</td>\n",
       "      <td>144</td>\n",
       "      <td>232</td>\n",
       "      <td>Public administration</td>\n",
       "      <td>1</td>\n",
       "    </tr>\n",
       "  </tbody>\n",
       "</table>\n",
       "<p>5 rows × 69 columns</p>\n",
       "</div>"
      ],
      "text/plain": [
       "  State_Name          County  Percent_Fair_or_Poor_Health  \\\n",
       "0     Alaska  Aleutians East                           17   \n",
       "1     Alaska  Aleutians West                           15   \n",
       "2     Alaska       Anchorage                           15   \n",
       "3     Alaska          Bethel                           24   \n",
       "4     Alaska     Bristol Bay                           15   \n",
       "\n",
       "   Average_Number_of_Physically_Unhealthy_Days  \\\n",
       "0                                          3.4   \n",
       "1                                          3.0   \n",
       "2                                          3.5   \n",
       "3                                          5.4   \n",
       "4                                          3.7   \n",
       "\n",
       "   Average_Number_of_Mentally_Unhealthy_Days  Percent_Smokers  \\\n",
       "0                                        2.8               17   \n",
       "1                                        2.5               15   \n",
       "2                                        3.2               15   \n",
       "3                                        4.6               30   \n",
       "4                                        3.6               18   \n",
       "\n",
       "   Percent_Adults_with_Obesity  Food_Environment_Index  \\\n",
       "0                           51                     5.3   \n",
       "1                           44                     7.6   \n",
       "2                           32                     8.0   \n",
       "3                           31                     2.9   \n",
       "4                           42                     6.9   \n",
       "\n",
       "   Percent_Physically_Inactive  Percent_With_Access_to_Exercise_Opportunities  \\\n",
       "0                           30                                            100   \n",
       "1                           30                                            100   \n",
       "2                           18                                            100   \n",
       "3                           31                                            100   \n",
       "4                           29                                            100   \n",
       "\n",
       "   ...   Insured  Unreported_Insurance  Poverty  Less_than_high_school  \\\n",
       "0  ...    2376.0                   321    544.0                    358   \n",
       "1  ...    4237.0                   579    550.0                    459   \n",
       "2  ...  223530.0                 37266  27075.0                  11867   \n",
       "3  ...   13584.0                  1661   5869.0                   1798   \n",
       "4  ...     615.0                   143     96.0                     36   \n",
       "\n",
       "   High_school_only  College_or_associates  Bachelor_degree_or_higher  \\\n",
       "0              1061                    882                        336   \n",
       "1              1664                   1309                        675   \n",
       "2             45753                  66655                      67719   \n",
       "3              4371                   2314                       1194   \n",
       "4               225                    240                        144   \n",
       "\n",
       "   Unreported_education                                     Largest_sector  \\\n",
       "0                   878                                      Manufacturing   \n",
       "1                  1616                                      Manufacturing   \n",
       "2                 99544  Educational services, and health care and soci...   \n",
       "3                  8539  Educational services, and health care and soci...   \n",
       "4                   232                              Public administration   \n",
       "\n",
       "   Level  \n",
       "0      1  \n",
       "1      1  \n",
       "2      1  \n",
       "3      2  \n",
       "4      1  \n",
       "\n",
       "[5 rows x 69 columns]"
      ]
     },
     "execution_count": 4,
     "metadata": {},
     "output_type": "execute_result"
    }
   ],
   "source": [
    "#Read dataframe from SQL query\n",
    "df = pd.read_sql_query(\"SELECT f.*, t.Level FROM \\\n",
    "                        Features_State_Counties f \\\n",
    "                        JOIN State s ON f.State_Name = s.Name \\\n",
    "                        JOIN Heart_Disease_Mortality_State_Counties as t ON f.County = t.County AND s.Code = t.State_Code\" \\\n",
    "                       , cnx)\n",
    "df.head()"
   ]
  },
  {
   "cell_type": "code",
   "execution_count": 5,
   "metadata": {},
   "outputs": [
    {
     "data": {
      "text/html": [
       "<div>\n",
       "<style scoped>\n",
       "    .dataframe tbody tr th:only-of-type {\n",
       "        vertical-align: middle;\n",
       "    }\n",
       "\n",
       "    .dataframe tbody tr th {\n",
       "        vertical-align: top;\n",
       "    }\n",
       "\n",
       "    .dataframe thead th {\n",
       "        text-align: right;\n",
       "    }\n",
       "</style>\n",
       "<table border=\"1\" class=\"dataframe\">\n",
       "  <thead>\n",
       "    <tr style=\"text-align: right;\">\n",
       "      <th></th>\n",
       "      <th>Percent_Fair_or_Poor_Health</th>\n",
       "      <th>Average_Number_of_Physically_Unhealthy_Days</th>\n",
       "      <th>Average_Number_of_Mentally_Unhealthy_Days</th>\n",
       "      <th>Percent_Smokers</th>\n",
       "      <th>Percent_Adults_with_Obesity</th>\n",
       "      <th>Food_Environment_Index</th>\n",
       "      <th>Percent_Physically_Inactive</th>\n",
       "      <th>Percent_With_Access_to_Exercise_Opportunities</th>\n",
       "      <th>Percent_Excessive_Drinking</th>\n",
       "      <th>Percent_Uninsured</th>\n",
       "      <th>...</th>\n",
       "      <th>Uninsured</th>\n",
       "      <th>Insured</th>\n",
       "      <th>Unreported_Insurance</th>\n",
       "      <th>Poverty</th>\n",
       "      <th>Less_than_high_school</th>\n",
       "      <th>High_school_only</th>\n",
       "      <th>College_or_associates</th>\n",
       "      <th>Bachelor_degree_or_higher</th>\n",
       "      <th>Unreported_education</th>\n",
       "      <th>Level</th>\n",
       "    </tr>\n",
       "  </thead>\n",
       "  <tbody>\n",
       "    <tr>\n",
       "      <th>count</th>\n",
       "      <td>3072.000000</td>\n",
       "      <td>3072.000000</td>\n",
       "      <td>3072.000000</td>\n",
       "      <td>3072.000000</td>\n",
       "      <td>3072.000000</td>\n",
       "      <td>3072.000000</td>\n",
       "      <td>3072.000000</td>\n",
       "      <td>3072.000000</td>\n",
       "      <td>3072.000000</td>\n",
       "      <td>3072.000000</td>\n",
       "      <td>...</td>\n",
       "      <td>3071.000000</td>\n",
       "      <td>3.071000e+03</td>\n",
       "      <td>3.072000e+03</td>\n",
       "      <td>3.071000e+03</td>\n",
       "      <td>3.072000e+03</td>\n",
       "      <td>3.072000e+03</td>\n",
       "      <td>3.072000e+03</td>\n",
       "      <td>3.072000e+03</td>\n",
       "      <td>3.072000e+03</td>\n",
       "      <td>3072.000000</td>\n",
       "    </tr>\n",
       "    <tr>\n",
       "      <th>mean</th>\n",
       "      <td>17.832357</td>\n",
       "      <td>3.972363</td>\n",
       "      <td>4.149642</td>\n",
       "      <td>17.361979</td>\n",
       "      <td>32.817708</td>\n",
       "      <td>7.424577</td>\n",
       "      <td>27.353516</td>\n",
       "      <td>62.892578</td>\n",
       "      <td>17.485677</td>\n",
       "      <td>11.504232</td>\n",
       "      <td>...</td>\n",
       "      <td>8977.153696</td>\n",
       "      <td>7.683507e+04</td>\n",
       "      <td>1.892521e+04</td>\n",
       "      <td>1.330867e+04</td>\n",
       "      <td>8.599790e+03</td>\n",
       "      <td>1.891054e+04</td>\n",
       "      <td>2.031700e+04</td>\n",
       "      <td>2.208112e+04</td>\n",
       "      <td>3.480105e+04</td>\n",
       "      <td>2.469727</td>\n",
       "    </tr>\n",
       "    <tr>\n",
       "      <th>std</th>\n",
       "      <td>4.704372</td>\n",
       "      <td>0.696459</td>\n",
       "      <td>0.592199</td>\n",
       "      <td>3.548037</td>\n",
       "      <td>5.430713</td>\n",
       "      <td>1.270692</td>\n",
       "      <td>5.692320</td>\n",
       "      <td>23.424658</td>\n",
       "      <td>3.176629</td>\n",
       "      <td>5.190727</td>\n",
       "      <td>...</td>\n",
       "      <td>35474.297222</td>\n",
       "      <td>2.526495e+05</td>\n",
       "      <td>5.313433e+04</td>\n",
       "      <td>4.601938e+04</td>\n",
       "      <td>3.762167e+04</td>\n",
       "      <td>5.130057e+04</td>\n",
       "      <td>6.145624e+04</td>\n",
       "      <td>8.044333e+04</td>\n",
       "      <td>1.125637e+05</td>\n",
       "      <td>1.104914</td>\n",
       "    </tr>\n",
       "    <tr>\n",
       "      <th>min</th>\n",
       "      <td>8.000000</td>\n",
       "      <td>2.400000</td>\n",
       "      <td>2.500000</td>\n",
       "      <td>6.000000</td>\n",
       "      <td>12.000000</td>\n",
       "      <td>0.000000</td>\n",
       "      <td>10.000000</td>\n",
       "      <td>0.000000</td>\n",
       "      <td>8.000000</td>\n",
       "      <td>0.000000</td>\n",
       "      <td>...</td>\n",
       "      <td>23.000000</td>\n",
       "      <td>1.190000e+02</td>\n",
       "      <td>1.000000e+01</td>\n",
       "      <td>5.000000e+00</td>\n",
       "      <td>4.000000e+00</td>\n",
       "      <td>1.500000e+01</td>\n",
       "      <td>2.400000e+01</td>\n",
       "      <td>0.000000e+00</td>\n",
       "      <td>1.900000e+01</td>\n",
       "      <td>1.000000</td>\n",
       "    </tr>\n",
       "    <tr>\n",
       "      <th>25%</th>\n",
       "      <td>14.000000</td>\n",
       "      <td>3.500000</td>\n",
       "      <td>3.700000</td>\n",
       "      <td>15.000000</td>\n",
       "      <td>29.000000</td>\n",
       "      <td>6.900000</td>\n",
       "      <td>24.000000</td>\n",
       "      <td>49.000000</td>\n",
       "      <td>15.000000</td>\n",
       "      <td>7.000000</td>\n",
       "      <td>...</td>\n",
       "      <td>876.500000</td>\n",
       "      <td>7.245000e+03</td>\n",
       "      <td>2.538500e+03</td>\n",
       "      <td>1.565500e+03</td>\n",
       "      <td>9.677500e+02</td>\n",
       "      <td>2.745750e+03</td>\n",
       "      <td>2.277250e+03</td>\n",
       "      <td>1.194750e+03</td>\n",
       "      <td>3.283500e+03</td>\n",
       "      <td>2.000000</td>\n",
       "    </tr>\n",
       "    <tr>\n",
       "      <th>50%</th>\n",
       "      <td>17.000000</td>\n",
       "      <td>3.900000</td>\n",
       "      <td>4.200000</td>\n",
       "      <td>17.000000</td>\n",
       "      <td>33.000000</td>\n",
       "      <td>7.700000</td>\n",
       "      <td>27.000000</td>\n",
       "      <td>66.000000</td>\n",
       "      <td>18.000000</td>\n",
       "      <td>11.000000</td>\n",
       "      <td>...</td>\n",
       "      <td>2140.000000</td>\n",
       "      <td>1.743800e+04</td>\n",
       "      <td>5.767000e+03</td>\n",
       "      <td>3.724000e+03</td>\n",
       "      <td>2.464500e+03</td>\n",
       "      <td>6.334000e+03</td>\n",
       "      <td>5.325500e+03</td>\n",
       "      <td>3.162500e+03</td>\n",
       "      <td>7.950500e+03</td>\n",
       "      <td>2.000000</td>\n",
       "    </tr>\n",
       "    <tr>\n",
       "      <th>75%</th>\n",
       "      <td>21.000000</td>\n",
       "      <td>4.400000</td>\n",
       "      <td>4.600000</td>\n",
       "      <td>20.000000</td>\n",
       "      <td>36.000000</td>\n",
       "      <td>8.200000</td>\n",
       "      <td>31.000000</td>\n",
       "      <td>80.000000</td>\n",
       "      <td>20.000000</td>\n",
       "      <td>15.000000</td>\n",
       "      <td>...</td>\n",
       "      <td>5675.500000</td>\n",
       "      <td>4.730000e+04</td>\n",
       "      <td>1.444550e+04</td>\n",
       "      <td>9.175500e+03</td>\n",
       "      <td>5.667500e+03</td>\n",
       "      <td>1.511100e+04</td>\n",
       "      <td>1.442075e+04</td>\n",
       "      <td>1.049675e+04</td>\n",
       "      <td>2.250150e+04</td>\n",
       "      <td>4.000000</td>\n",
       "    </tr>\n",
       "    <tr>\n",
       "      <th>max</th>\n",
       "      <td>41.000000</td>\n",
       "      <td>6.500000</td>\n",
       "      <td>6.300000</td>\n",
       "      <td>41.000000</td>\n",
       "      <td>58.000000</td>\n",
       "      <td>10.000000</td>\n",
       "      <td>50.000000</td>\n",
       "      <td>100.000000</td>\n",
       "      <td>29.000000</td>\n",
       "      <td>34.000000</td>\n",
       "      <td>...</td>\n",
       "      <td>935213.000000</td>\n",
       "      <td>7.703359e+06</td>\n",
       "      <td>1.527541e+06</td>\n",
       "      <td>1.409155e+06</td>\n",
       "      <td>1.460718e+06</td>\n",
       "      <td>1.416482e+06</td>\n",
       "      <td>1.790808e+06</td>\n",
       "      <td>2.177481e+06</td>\n",
       "      <td>3.260029e+06</td>\n",
       "      <td>4.000000</td>\n",
       "    </tr>\n",
       "  </tbody>\n",
       "</table>\n",
       "<p>8 rows × 66 columns</p>\n",
       "</div>"
      ],
      "text/plain": [
       "       Percent_Fair_or_Poor_Health  \\\n",
       "count                  3072.000000   \n",
       "mean                     17.832357   \n",
       "std                       4.704372   \n",
       "min                       8.000000   \n",
       "25%                      14.000000   \n",
       "50%                      17.000000   \n",
       "75%                      21.000000   \n",
       "max                      41.000000   \n",
       "\n",
       "       Average_Number_of_Physically_Unhealthy_Days  \\\n",
       "count                                  3072.000000   \n",
       "mean                                      3.972363   \n",
       "std                                       0.696459   \n",
       "min                                       2.400000   \n",
       "25%                                       3.500000   \n",
       "50%                                       3.900000   \n",
       "75%                                       4.400000   \n",
       "max                                       6.500000   \n",
       "\n",
       "       Average_Number_of_Mentally_Unhealthy_Days  Percent_Smokers  \\\n",
       "count                                3072.000000      3072.000000   \n",
       "mean                                    4.149642        17.361979   \n",
       "std                                     0.592199         3.548037   \n",
       "min                                     2.500000         6.000000   \n",
       "25%                                     3.700000        15.000000   \n",
       "50%                                     4.200000        17.000000   \n",
       "75%                                     4.600000        20.000000   \n",
       "max                                     6.300000        41.000000   \n",
       "\n",
       "       Percent_Adults_with_Obesity  Food_Environment_Index  \\\n",
       "count                  3072.000000             3072.000000   \n",
       "mean                     32.817708                7.424577   \n",
       "std                       5.430713                1.270692   \n",
       "min                      12.000000                0.000000   \n",
       "25%                      29.000000                6.900000   \n",
       "50%                      33.000000                7.700000   \n",
       "75%                      36.000000                8.200000   \n",
       "max                      58.000000               10.000000   \n",
       "\n",
       "       Percent_Physically_Inactive  \\\n",
       "count                  3072.000000   \n",
       "mean                     27.353516   \n",
       "std                       5.692320   \n",
       "min                      10.000000   \n",
       "25%                      24.000000   \n",
       "50%                      27.000000   \n",
       "75%                      31.000000   \n",
       "max                      50.000000   \n",
       "\n",
       "       Percent_With_Access_to_Exercise_Opportunities  \\\n",
       "count                                    3072.000000   \n",
       "mean                                       62.892578   \n",
       "std                                        23.424658   \n",
       "min                                         0.000000   \n",
       "25%                                        49.000000   \n",
       "50%                                        66.000000   \n",
       "75%                                        80.000000   \n",
       "max                                       100.000000   \n",
       "\n",
       "       Percent_Excessive_Drinking  Percent_Uninsured  ...      Uninsured  \\\n",
       "count                 3072.000000        3072.000000  ...    3071.000000   \n",
       "mean                    17.485677          11.504232  ...    8977.153696   \n",
       "std                      3.176629           5.190727  ...   35474.297222   \n",
       "min                      8.000000           0.000000  ...      23.000000   \n",
       "25%                     15.000000           7.000000  ...     876.500000   \n",
       "50%                     18.000000          11.000000  ...    2140.000000   \n",
       "75%                     20.000000          15.000000  ...    5675.500000   \n",
       "max                     29.000000          34.000000  ...  935213.000000   \n",
       "\n",
       "            Insured  Unreported_Insurance       Poverty  \\\n",
       "count  3.071000e+03          3.072000e+03  3.071000e+03   \n",
       "mean   7.683507e+04          1.892521e+04  1.330867e+04   \n",
       "std    2.526495e+05          5.313433e+04  4.601938e+04   \n",
       "min    1.190000e+02          1.000000e+01  5.000000e+00   \n",
       "25%    7.245000e+03          2.538500e+03  1.565500e+03   \n",
       "50%    1.743800e+04          5.767000e+03  3.724000e+03   \n",
       "75%    4.730000e+04          1.444550e+04  9.175500e+03   \n",
       "max    7.703359e+06          1.527541e+06  1.409155e+06   \n",
       "\n",
       "       Less_than_high_school  High_school_only  College_or_associates  \\\n",
       "count           3.072000e+03      3.072000e+03           3.072000e+03   \n",
       "mean            8.599790e+03      1.891054e+04           2.031700e+04   \n",
       "std             3.762167e+04      5.130057e+04           6.145624e+04   \n",
       "min             4.000000e+00      1.500000e+01           2.400000e+01   \n",
       "25%             9.677500e+02      2.745750e+03           2.277250e+03   \n",
       "50%             2.464500e+03      6.334000e+03           5.325500e+03   \n",
       "75%             5.667500e+03      1.511100e+04           1.442075e+04   \n",
       "max             1.460718e+06      1.416482e+06           1.790808e+06   \n",
       "\n",
       "       Bachelor_degree_or_higher  Unreported_education        Level  \n",
       "count               3.072000e+03          3.072000e+03  3072.000000  \n",
       "mean                2.208112e+04          3.480105e+04     2.469727  \n",
       "std                 8.044333e+04          1.125637e+05     1.104914  \n",
       "min                 0.000000e+00          1.900000e+01     1.000000  \n",
       "25%                 1.194750e+03          3.283500e+03     2.000000  \n",
       "50%                 3.162500e+03          7.950500e+03     2.000000  \n",
       "75%                 1.049675e+04          2.250150e+04     4.000000  \n",
       "max                 2.177481e+06          3.260029e+06     4.000000  \n",
       "\n",
       "[8 rows x 66 columns]"
      ]
     },
     "execution_count": 5,
     "metadata": {},
     "output_type": "execute_result"
    }
   ],
   "source": [
    "# View statistics dataframe columns\n",
    "df.describe()"
   ]
  },
  {
   "cell_type": "code",
   "execution_count": 6,
   "metadata": {},
   "outputs": [
    {
     "data": {
      "text/plain": [
       "{'whiskers': [<matplotlib.lines.Line2D at 0x13026eea848>,\n",
       "  <matplotlib.lines.Line2D at 0x13026ef9b88>],\n",
       " 'caps': [<matplotlib.lines.Line2D at 0x13026fb73c8>,\n",
       "  <matplotlib.lines.Line2D at 0x13026ee4b48>],\n",
       " 'boxes': [<matplotlib.lines.Line2D at 0x13026ef0b48>],\n",
       " 'medians': [<matplotlib.lines.Line2D at 0x13026ee4f08>],\n",
       " 'fliers': [<matplotlib.lines.Line2D at 0x13026f03cc8>],\n",
       " 'means': []}"
      ]
     },
     "execution_count": 6,
     "metadata": {},
     "output_type": "execute_result"
    },
    {
     "data": {
      "image/png": "[encoded data removed]",
      "text/plain": [
       "<Figure size 432x288 with 1 Axes>"
      ]
     },
     "metadata": {
      "needs_background": "light"
     },
     "output_type": "display_data"
    }
   ],
   "source": [
    "# This feature has so many outliers\n",
    "\n",
    "series = df[\"Average_Traffic_Volume_per_Meter_of_Major_Roadways\"]\n",
    "plt.boxplot(series) "
   ]
  },
  {
   "cell_type": "code",
   "execution_count": 7,
   "metadata": {},
   "outputs": [],
   "source": [
    "#let drop the column\n",
    "df.drop(columns=[\"Average_Traffic_Volume_per_Meter_of_Major_Roadways\"], inplace=True)"
   ]
  },
  {
   "cell_type": "code",
   "execution_count": 8,
   "metadata": {},
   "outputs": [
    {
     "data": {
      "text/plain": [
       "State_Name                                     3072\n",
       "County                                         3072\n",
       "Percent_Fair_or_Poor_Health                    3072\n",
       "Average_Number_of_Physically_Unhealthy_Days    3072\n",
       "Average_Number_of_Mentally_Unhealthy_Days      3072\n",
       "                                               ... \n",
       "College_or_associates                          3072\n",
       "Bachelor_degree_or_higher                      3072\n",
       "Unreported_education                           3072\n",
       "Largest_sector                                 3072\n",
       "Level                                          3072\n",
       "Length: 68, dtype: int64"
      ]
     },
     "execution_count": 8,
     "metadata": {},
     "output_type": "execute_result"
    }
   ],
   "source": [
    "col_count = df.count()\n",
    "col_count"
   ]
  },
  {
   "cell_type": "code",
   "execution_count": 9,
   "metadata": {},
   "outputs": [
    {
     "data": {
      "text/plain": [
       "['Household_Income_AIAN',\n",
       " 'Household_Income_Asian',\n",
       " 'Household_Income_Black',\n",
       " 'Household_Income_Hispanic',\n",
       " 'Household_Income_White',\n",
       " 'Percent_Severe_Housing_Cost_Burden',\n",
       " 'Percent_Children_in_Poverty',\n",
       " 'Teen_Birth_Rate',\n",
       " 'Uninsured',\n",
       " 'Insured',\n",
       " 'Poverty']"
      ]
     },
     "execution_count": 9,
     "metadata": {},
     "output_type": "execute_result"
    }
   ],
   "source": [
    "# Find columns that contain NULL value\n",
    "col_null = list(col_count[col_count != 3072].index)\n",
    "col_null"
   ]
  },
  {
   "cell_type": "code",
   "execution_count": 10,
   "metadata": {},
   "outputs": [],
   "source": [
    "# drop columns\n",
    "df.drop(columns=[\"Percent_Severe_Housing_Cost_Burden\",\"Percent_Children_in_Poverty\",\"Teen_Birth_Rate\"], inplace=True)\n"
   ]
  },
  {
   "cell_type": "code",
   "execution_count": 11,
   "metadata": {},
   "outputs": [],
   "source": [
    "# Fill value columns\n",
    "df.fillna(value=0,inplace=True)"
   ]
  },
  {
   "cell_type": "code",
   "execution_count": 12,
   "metadata": {},
   "outputs": [
    {
     "data": {
      "text/plain": [
       "State_Name                                     3072\n",
       "County                                         3072\n",
       "Percent_Fair_or_Poor_Health                    3072\n",
       "Average_Number_of_Physically_Unhealthy_Days    3072\n",
       "Average_Number_of_Mentally_Unhealthy_Days      3072\n",
       "                                               ... \n",
       "College_or_associates                          3072\n",
       "Bachelor_degree_or_higher                      3072\n",
       "Unreported_education                           3072\n",
       "Largest_sector                                 3072\n",
       "Level                                          3072\n",
       "Length: 65, dtype: int64"
      ]
     },
     "execution_count": 12,
     "metadata": {},
     "output_type": "execute_result"
    }
   ],
   "source": [
    "col_count = df.count()\n",
    "col_count"
   ]
  },
  {
   "cell_type": "code",
   "execution_count": 13,
   "metadata": {},
   "outputs": [],
   "source": [
    "# Drop Combo keys of dataframe\n",
    "keys = ['State_Name', 'County']"
   ]
  },
  {
   "cell_type": "code",
   "execution_count": 14,
   "metadata": {},
   "outputs": [
    {
     "data": {
      "text/plain": [
       "['Largest_sector']"
      ]
     },
     "execution_count": 14,
     "metadata": {},
     "output_type": "execute_result"
    }
   ],
   "source": [
    "# Find Object Type Columns \n",
    "obj_cols =list(df.dtypes[df.dtypes=='object'].index)\n",
    "obj_cols = [ name for name in obj_cols if not name in keys]\n",
    "obj_cols"
   ]
  },
  {
   "cell_type": "code",
   "execution_count": 15,
   "metadata": {},
   "outputs": [
    {
     "data": {
      "text/plain": [
       "Largest_sector    10\n",
       "dtype: int64"
      ]
     },
     "execution_count": 15,
     "metadata": {},
     "output_type": "execute_result"
    }
   ],
   "source": [
    "df[obj_cols].nunique()"
   ]
  },
  {
   "cell_type": "code",
   "execution_count": 16,
   "metadata": {
    "scrolled": true
   },
   "outputs": [
    {
     "data": {
      "text/html": [
       "<div>\n",
       "<style scoped>\n",
       "    .dataframe tbody tr th:only-of-type {\n",
       "        vertical-align: middle;\n",
       "    }\n",
       "\n",
       "    .dataframe tbody tr th {\n",
       "        vertical-align: top;\n",
       "    }\n",
       "\n",
       "    .dataframe thead th {\n",
       "        text-align: right;\n",
       "    }\n",
       "</style>\n",
       "<table border=\"1\" class=\"dataframe\">\n",
       "  <thead>\n",
       "    <tr style=\"text-align: right;\">\n",
       "      <th></th>\n",
       "      <th>Largest_sector_Agriculture, forestry, fishing and hunting, and mining</th>\n",
       "      <th>Largest_sector_Arts, entertainment, and recreation, and accommodation and food services</th>\n",
       "      <th>Largest_sector_Construction</th>\n",
       "      <th>Largest_sector_Educational services, and health care and social assistance</th>\n",
       "      <th>Largest_sector_Manufacturing</th>\n",
       "      <th>Largest_sector_Professional, scientific, and management, and administrative and waste management services</th>\n",
       "      <th>Largest_sector_Public administration</th>\n",
       "      <th>Largest_sector_Retail trade</th>\n",
       "      <th>Largest_sector_Unknown</th>\n",
       "      <th>Largest_sector_Wholesale trade</th>\n",
       "    </tr>\n",
       "  </thead>\n",
       "  <tbody>\n",
       "    <tr>\n",
       "      <th>0</th>\n",
       "      <td>0</td>\n",
       "      <td>0</td>\n",
       "      <td>0</td>\n",
       "      <td>0</td>\n",
       "      <td>1</td>\n",
       "      <td>0</td>\n",
       "      <td>0</td>\n",
       "      <td>0</td>\n",
       "      <td>0</td>\n",
       "      <td>0</td>\n",
       "    </tr>\n",
       "    <tr>\n",
       "      <th>1</th>\n",
       "      <td>0</td>\n",
       "      <td>0</td>\n",
       "      <td>0</td>\n",
       "      <td>0</td>\n",
       "      <td>1</td>\n",
       "      <td>0</td>\n",
       "      <td>0</td>\n",
       "      <td>0</td>\n",
       "      <td>0</td>\n",
       "      <td>0</td>\n",
       "    </tr>\n",
       "    <tr>\n",
       "      <th>2</th>\n",
       "      <td>0</td>\n",
       "      <td>0</td>\n",
       "      <td>0</td>\n",
       "      <td>1</td>\n",
       "      <td>0</td>\n",
       "      <td>0</td>\n",
       "      <td>0</td>\n",
       "      <td>0</td>\n",
       "      <td>0</td>\n",
       "      <td>0</td>\n",
       "    </tr>\n",
       "    <tr>\n",
       "      <th>3</th>\n",
       "      <td>0</td>\n",
       "      <td>0</td>\n",
       "      <td>0</td>\n",
       "      <td>1</td>\n",
       "      <td>0</td>\n",
       "      <td>0</td>\n",
       "      <td>0</td>\n",
       "      <td>0</td>\n",
       "      <td>0</td>\n",
       "      <td>0</td>\n",
       "    </tr>\n",
       "    <tr>\n",
       "      <th>4</th>\n",
       "      <td>0</td>\n",
       "      <td>0</td>\n",
       "      <td>0</td>\n",
       "      <td>0</td>\n",
       "      <td>0</td>\n",
       "      <td>0</td>\n",
       "      <td>1</td>\n",
       "      <td>0</td>\n",
       "      <td>0</td>\n",
       "      <td>0</td>\n",
       "    </tr>\n",
       "    <tr>\n",
       "      <th>...</th>\n",
       "      <td>...</td>\n",
       "      <td>...</td>\n",
       "      <td>...</td>\n",
       "      <td>...</td>\n",
       "      <td>...</td>\n",
       "      <td>...</td>\n",
       "      <td>...</td>\n",
       "      <td>...</td>\n",
       "      <td>...</td>\n",
       "      <td>...</td>\n",
       "    </tr>\n",
       "    <tr>\n",
       "      <th>3067</th>\n",
       "      <td>0</td>\n",
       "      <td>0</td>\n",
       "      <td>0</td>\n",
       "      <td>1</td>\n",
       "      <td>0</td>\n",
       "      <td>0</td>\n",
       "      <td>0</td>\n",
       "      <td>0</td>\n",
       "      <td>0</td>\n",
       "      <td>0</td>\n",
       "    </tr>\n",
       "    <tr>\n",
       "      <th>3068</th>\n",
       "      <td>0</td>\n",
       "      <td>1</td>\n",
       "      <td>0</td>\n",
       "      <td>0</td>\n",
       "      <td>0</td>\n",
       "      <td>0</td>\n",
       "      <td>0</td>\n",
       "      <td>0</td>\n",
       "      <td>0</td>\n",
       "      <td>0</td>\n",
       "    </tr>\n",
       "    <tr>\n",
       "      <th>3069</th>\n",
       "      <td>0</td>\n",
       "      <td>0</td>\n",
       "      <td>0</td>\n",
       "      <td>1</td>\n",
       "      <td>0</td>\n",
       "      <td>0</td>\n",
       "      <td>0</td>\n",
       "      <td>0</td>\n",
       "      <td>0</td>\n",
       "      <td>0</td>\n",
       "    </tr>\n",
       "    <tr>\n",
       "      <th>3070</th>\n",
       "      <td>0</td>\n",
       "      <td>0</td>\n",
       "      <td>0</td>\n",
       "      <td>1</td>\n",
       "      <td>0</td>\n",
       "      <td>0</td>\n",
       "      <td>0</td>\n",
       "      <td>0</td>\n",
       "      <td>0</td>\n",
       "      <td>0</td>\n",
       "    </tr>\n",
       "    <tr>\n",
       "      <th>3071</th>\n",
       "      <td>1</td>\n",
       "      <td>0</td>\n",
       "      <td>0</td>\n",
       "      <td>0</td>\n",
       "      <td>0</td>\n",
       "      <td>0</td>\n",
       "      <td>0</td>\n",
       "      <td>0</td>\n",
       "      <td>0</td>\n",
       "      <td>0</td>\n",
       "    </tr>\n",
       "  </tbody>\n",
       "</table>\n",
       "<p>3072 rows × 10 columns</p>\n",
       "</div>"
      ],
      "text/plain": [
       "      Largest_sector_Agriculture, forestry, fishing and hunting, and mining  \\\n",
       "0                                                     0                       \n",
       "1                                                     0                       \n",
       "2                                                     0                       \n",
       "3                                                     0                       \n",
       "4                                                     0                       \n",
       "...                                                 ...                       \n",
       "3067                                                  0                       \n",
       "3068                                                  0                       \n",
       "3069                                                  0                       \n",
       "3070                                                  0                       \n",
       "3071                                                  1                       \n",
       "\n",
       "      Largest_sector_Arts, entertainment, and recreation, and accommodation and food services  \\\n",
       "0                                                     0                                         \n",
       "1                                                     0                                         \n",
       "2                                                     0                                         \n",
       "3                                                     0                                         \n",
       "4                                                     0                                         \n",
       "...                                                 ...                                         \n",
       "3067                                                  0                                         \n",
       "3068                                                  1                                         \n",
       "3069                                                  0                                         \n",
       "3070                                                  0                                         \n",
       "3071                                                  0                                         \n",
       "\n",
       "      Largest_sector_Construction  \\\n",
       "0                               0   \n",
       "1                               0   \n",
       "2                               0   \n",
       "3                               0   \n",
       "4                               0   \n",
       "...                           ...   \n",
       "3067                            0   \n",
       "3068                            0   \n",
       "3069                            0   \n",
       "3070                            0   \n",
       "3071                            0   \n",
       "\n",
       "      Largest_sector_Educational services, and health care and social assistance  \\\n",
       "0                                                     0                            \n",
       "1                                                     0                            \n",
       "2                                                     1                            \n",
       "3                                                     1                            \n",
       "4                                                     0                            \n",
       "...                                                 ...                            \n",
       "3067                                                  1                            \n",
       "3068                                                  0                            \n",
       "3069                                                  1                            \n",
       "3070                                                  1                            \n",
       "3071                                                  0                            \n",
       "\n",
       "      Largest_sector_Manufacturing  \\\n",
       "0                                1   \n",
       "1                                1   \n",
       "2                                0   \n",
       "3                                0   \n",
       "4                                0   \n",
       "...                            ...   \n",
       "3067                             0   \n",
       "3068                             0   \n",
       "3069                             0   \n",
       "3070                             0   \n",
       "3071                             0   \n",
       "\n",
       "      Largest_sector_Professional, scientific, and management, and administrative and waste management services  \\\n",
       "0                                                     0                                                           \n",
       "1                                                     0                                                           \n",
       "2                                                     0                                                           \n",
       "3                                                     0                                                           \n",
       "4                                                     0                                                           \n",
       "...                                                 ...                                                           \n",
       "3067                                                  0                                                           \n",
       "3068                                                  0                                                           \n",
       "3069                                                  0                                                           \n",
       "3070                                                  0                                                           \n",
       "3071                                                  0                                                           \n",
       "\n",
       "      Largest_sector_Public administration  Largest_sector_Retail trade  \\\n",
       "0                                        0                            0   \n",
       "1                                        0                            0   \n",
       "2                                        0                            0   \n",
       "3                                        0                            0   \n",
       "4                                        1                            0   \n",
       "...                                    ...                          ...   \n",
       "3067                                     0                            0   \n",
       "3068                                     0                            0   \n",
       "3069                                     0                            0   \n",
       "3070                                     0                            0   \n",
       "3071                                     0                            0   \n",
       "\n",
       "      Largest_sector_Unknown  Largest_sector_Wholesale trade  \n",
       "0                          0                               0  \n",
       "1                          0                               0  \n",
       "2                          0                               0  \n",
       "3                          0                               0  \n",
       "4                          0                               0  \n",
       "...                      ...                             ...  \n",
       "3067                       0                               0  \n",
       "3068                       0                               0  \n",
       "3069                       0                               0  \n",
       "3070                       0                               0  \n",
       "3071                       0                               0  \n",
       "\n",
       "[3072 rows x 10 columns]"
      ]
     },
     "execution_count": 16,
     "metadata": {},
     "output_type": "execute_result"
    }
   ],
   "source": [
    "df_encoder = pd.get_dummies(df[obj_cols])\n",
    "df_encoder"
   ]
  },
  {
   "cell_type": "code",
   "execution_count": 17,
   "metadata": {},
   "outputs": [
    {
     "data": {
      "text/html": [
       "<div>\n",
       "<style scoped>\n",
       "    .dataframe tbody tr th:only-of-type {\n",
       "        vertical-align: middle;\n",
       "    }\n",
       "\n",
       "    .dataframe tbody tr th {\n",
       "        vertical-align: top;\n",
       "    }\n",
       "\n",
       "    .dataframe thead th {\n",
       "        text-align: right;\n",
       "    }\n",
       "</style>\n",
       "<table border=\"1\" class=\"dataframe\">\n",
       "  <thead>\n",
       "    <tr style=\"text-align: right;\">\n",
       "      <th></th>\n",
       "      <th>State_Name</th>\n",
       "      <th>County</th>\n",
       "      <th>Percent_Fair_or_Poor_Health</th>\n",
       "      <th>Average_Number_of_Physically_Unhealthy_Days</th>\n",
       "      <th>Average_Number_of_Mentally_Unhealthy_Days</th>\n",
       "      <th>Percent_Smokers</th>\n",
       "      <th>Percent_Adults_with_Obesity</th>\n",
       "      <th>Food_Environment_Index</th>\n",
       "      <th>Percent_Physically_Inactive</th>\n",
       "      <th>Percent_With_Access_to_Exercise_Opportunities</th>\n",
       "      <th>...</th>\n",
       "      <th>Largest_sector_Agriculture, forestry, fishing and hunting, and mining</th>\n",
       "      <th>Largest_sector_Arts, entertainment, and recreation, and accommodation and food services</th>\n",
       "      <th>Largest_sector_Construction</th>\n",
       "      <th>Largest_sector_Educational services, and health care and social assistance</th>\n",
       "      <th>Largest_sector_Manufacturing</th>\n",
       "      <th>Largest_sector_Professional, scientific, and management, and administrative and waste management services</th>\n",
       "      <th>Largest_sector_Public administration</th>\n",
       "      <th>Largest_sector_Retail trade</th>\n",
       "      <th>Largest_sector_Unknown</th>\n",
       "      <th>Largest_sector_Wholesale trade</th>\n",
       "    </tr>\n",
       "  </thead>\n",
       "  <tbody>\n",
       "    <tr>\n",
       "      <th>0</th>\n",
       "      <td>Alaska</td>\n",
       "      <td>Aleutians East</td>\n",
       "      <td>17</td>\n",
       "      <td>3.4</td>\n",
       "      <td>2.8</td>\n",
       "      <td>17</td>\n",
       "      <td>51</td>\n",
       "      <td>5.3</td>\n",
       "      <td>30</td>\n",
       "      <td>100</td>\n",
       "      <td>...</td>\n",
       "      <td>0</td>\n",
       "      <td>0</td>\n",
       "      <td>0</td>\n",
       "      <td>0</td>\n",
       "      <td>1</td>\n",
       "      <td>0</td>\n",
       "      <td>0</td>\n",
       "      <td>0</td>\n",
       "      <td>0</td>\n",
       "      <td>0</td>\n",
       "    </tr>\n",
       "    <tr>\n",
       "      <th>1</th>\n",
       "      <td>Alaska</td>\n",
       "      <td>Aleutians West</td>\n",
       "      <td>15</td>\n",
       "      <td>3.0</td>\n",
       "      <td>2.5</td>\n",
       "      <td>15</td>\n",
       "      <td>44</td>\n",
       "      <td>7.6</td>\n",
       "      <td>30</td>\n",
       "      <td>100</td>\n",
       "      <td>...</td>\n",
       "      <td>0</td>\n",
       "      <td>0</td>\n",
       "      <td>0</td>\n",
       "      <td>0</td>\n",
       "      <td>1</td>\n",
       "      <td>0</td>\n",
       "      <td>0</td>\n",
       "      <td>0</td>\n",
       "      <td>0</td>\n",
       "      <td>0</td>\n",
       "    </tr>\n",
       "    <tr>\n",
       "      <th>2</th>\n",
       "      <td>Alaska</td>\n",
       "      <td>Anchorage</td>\n",
       "      <td>15</td>\n",
       "      <td>3.5</td>\n",
       "      <td>3.2</td>\n",
       "      <td>15</td>\n",
       "      <td>32</td>\n",
       "      <td>8.0</td>\n",
       "      <td>18</td>\n",
       "      <td>100</td>\n",
       "      <td>...</td>\n",
       "      <td>0</td>\n",
       "      <td>0</td>\n",
       "      <td>0</td>\n",
       "      <td>1</td>\n",
       "      <td>0</td>\n",
       "      <td>0</td>\n",
       "      <td>0</td>\n",
       "      <td>0</td>\n",
       "      <td>0</td>\n",
       "      <td>0</td>\n",
       "    </tr>\n",
       "    <tr>\n",
       "      <th>3</th>\n",
       "      <td>Alaska</td>\n",
       "      <td>Bethel</td>\n",
       "      <td>24</td>\n",
       "      <td>5.4</td>\n",
       "      <td>4.6</td>\n",
       "      <td>30</td>\n",
       "      <td>31</td>\n",
       "      <td>2.9</td>\n",
       "      <td>31</td>\n",
       "      <td>100</td>\n",
       "      <td>...</td>\n",
       "      <td>0</td>\n",
       "      <td>0</td>\n",
       "      <td>0</td>\n",
       "      <td>1</td>\n",
       "      <td>0</td>\n",
       "      <td>0</td>\n",
       "      <td>0</td>\n",
       "      <td>0</td>\n",
       "      <td>0</td>\n",
       "      <td>0</td>\n",
       "    </tr>\n",
       "    <tr>\n",
       "      <th>4</th>\n",
       "      <td>Alaska</td>\n",
       "      <td>Bristol Bay</td>\n",
       "      <td>15</td>\n",
       "      <td>3.7</td>\n",
       "      <td>3.6</td>\n",
       "      <td>18</td>\n",
       "      <td>42</td>\n",
       "      <td>6.9</td>\n",
       "      <td>29</td>\n",
       "      <td>100</td>\n",
       "      <td>...</td>\n",
       "      <td>0</td>\n",
       "      <td>0</td>\n",
       "      <td>0</td>\n",
       "      <td>0</td>\n",
       "      <td>0</td>\n",
       "      <td>0</td>\n",
       "      <td>1</td>\n",
       "      <td>0</td>\n",
       "      <td>0</td>\n",
       "      <td>0</td>\n",
       "    </tr>\n",
       "  </tbody>\n",
       "</table>\n",
       "<p>5 rows × 75 columns</p>\n",
       "</div>"
      ],
      "text/plain": [
       "  State_Name          County  Percent_Fair_or_Poor_Health  \\\n",
       "0     Alaska  Aleutians East                           17   \n",
       "1     Alaska  Aleutians West                           15   \n",
       "2     Alaska       Anchorage                           15   \n",
       "3     Alaska          Bethel                           24   \n",
       "4     Alaska     Bristol Bay                           15   \n",
       "\n",
       "   Average_Number_of_Physically_Unhealthy_Days  \\\n",
       "0                                          3.4   \n",
       "1                                          3.0   \n",
       "2                                          3.5   \n",
       "3                                          5.4   \n",
       "4                                          3.7   \n",
       "\n",
       "   Average_Number_of_Mentally_Unhealthy_Days  Percent_Smokers  \\\n",
       "0                                        2.8               17   \n",
       "1                                        2.5               15   \n",
       "2                                        3.2               15   \n",
       "3                                        4.6               30   \n",
       "4                                        3.6               18   \n",
       "\n",
       "   Percent_Adults_with_Obesity  Food_Environment_Index  \\\n",
       "0                           51                     5.3   \n",
       "1                           44                     7.6   \n",
       "2                           32                     8.0   \n",
       "3                           31                     2.9   \n",
       "4                           42                     6.9   \n",
       "\n",
       "   Percent_Physically_Inactive  Percent_With_Access_to_Exercise_Opportunities  \\\n",
       "0                           30                                            100   \n",
       "1                           30                                            100   \n",
       "2                           18                                            100   \n",
       "3                           31                                            100   \n",
       "4                           29                                            100   \n",
       "\n",
       "   ...  Largest_sector_Agriculture, forestry, fishing and hunting, and mining  \\\n",
       "0  ...                                                  0                       \n",
       "1  ...                                                  0                       \n",
       "2  ...                                                  0                       \n",
       "3  ...                                                  0                       \n",
       "4  ...                                                  0                       \n",
       "\n",
       "   Largest_sector_Arts, entertainment, and recreation, and accommodation and food services  \\\n",
       "0                                                  0                                         \n",
       "1                                                  0                                         \n",
       "2                                                  0                                         \n",
       "3                                                  0                                         \n",
       "4                                                  0                                         \n",
       "\n",
       "   Largest_sector_Construction  \\\n",
       "0                            0   \n",
       "1                            0   \n",
       "2                            0   \n",
       "3                            0   \n",
       "4                            0   \n",
       "\n",
       "   Largest_sector_Educational services, and health care and social assistance  \\\n",
       "0                                                  0                            \n",
       "1                                                  0                            \n",
       "2                                                  1                            \n",
       "3                                                  1                            \n",
       "4                                                  0                            \n",
       "\n",
       "   Largest_sector_Manufacturing  \\\n",
       "0                             1   \n",
       "1                             1   \n",
       "2                             0   \n",
       "3                             0   \n",
       "4                             0   \n",
       "\n",
       "   Largest_sector_Professional, scientific, and management, and administrative and waste management services  \\\n",
       "0                                                  0                                                           \n",
       "1                                                  0                                                           \n",
       "2                                                  0                                                           \n",
       "3                                                  0                                                           \n",
       "4                                                  0                                                           \n",
       "\n",
       "   Largest_sector_Public administration  Largest_sector_Retail trade  \\\n",
       "0                                     0                            0   \n",
       "1                                     0                            0   \n",
       "2                                     0                            0   \n",
       "3                                     0                            0   \n",
       "4                                     1                            0   \n",
       "\n",
       "   Largest_sector_Unknown  Largest_sector_Wholesale trade  \n",
       "0                       0                               0  \n",
       "1                       0                               0  \n",
       "2                       0                               0  \n",
       "3                       0                               0  \n",
       "4                       0                               0  \n",
       "\n",
       "[5 rows x 75 columns]"
      ]
     },
     "execution_count": 17,
     "metadata": {},
     "output_type": "execute_result"
    }
   ],
   "source": [
    "# Merge the two DataFrames together and drop the Country column\n",
    "df = df.merge(df_encoder,left_index=True,right_index=True)\n",
    "df.head()"
   ]
  },
  {
   "cell_type": "code",
   "execution_count": 18,
   "metadata": {},
   "outputs": [
    {
     "name": "stdout",
     "output_type": "stream",
     "text": [
      "[1 1 1 2 1]\n"
     ]
    },
    {
     "data": {
      "text/html": [
       "<div>\n",
       "<style scoped>\n",
       "    .dataframe tbody tr th:only-of-type {\n",
       "        vertical-align: middle;\n",
       "    }\n",
       "\n",
       "    .dataframe tbody tr th {\n",
       "        vertical-align: top;\n",
       "    }\n",
       "\n",
       "    .dataframe thead th {\n",
       "        text-align: right;\n",
       "    }\n",
       "</style>\n",
       "<table border=\"1\" class=\"dataframe\">\n",
       "  <thead>\n",
       "    <tr style=\"text-align: right;\">\n",
       "      <th></th>\n",
       "      <th>Percent_Fair_or_Poor_Health</th>\n",
       "      <th>Average_Number_of_Physically_Unhealthy_Days</th>\n",
       "      <th>Average_Number_of_Mentally_Unhealthy_Days</th>\n",
       "      <th>Percent_Smokers</th>\n",
       "      <th>Percent_Adults_with_Obesity</th>\n",
       "      <th>Food_Environment_Index</th>\n",
       "      <th>Percent_Physically_Inactive</th>\n",
       "      <th>Percent_With_Access_to_Exercise_Opportunities</th>\n",
       "      <th>Percent_Excessive_Drinking</th>\n",
       "      <th>Percent_Uninsured</th>\n",
       "      <th>...</th>\n",
       "      <th>Largest_sector_Agriculture, forestry, fishing and hunting, and mining</th>\n",
       "      <th>Largest_sector_Arts, entertainment, and recreation, and accommodation and food services</th>\n",
       "      <th>Largest_sector_Construction</th>\n",
       "      <th>Largest_sector_Educational services, and health care and social assistance</th>\n",
       "      <th>Largest_sector_Manufacturing</th>\n",
       "      <th>Largest_sector_Professional, scientific, and management, and administrative and waste management services</th>\n",
       "      <th>Largest_sector_Public administration</th>\n",
       "      <th>Largest_sector_Retail trade</th>\n",
       "      <th>Largest_sector_Unknown</th>\n",
       "      <th>Largest_sector_Wholesale trade</th>\n",
       "    </tr>\n",
       "  </thead>\n",
       "  <tbody>\n",
       "    <tr>\n",
       "      <th>0</th>\n",
       "      <td>17</td>\n",
       "      <td>3.4</td>\n",
       "      <td>2.8</td>\n",
       "      <td>17</td>\n",
       "      <td>51</td>\n",
       "      <td>5.3</td>\n",
       "      <td>30</td>\n",
       "      <td>100</td>\n",
       "      <td>17</td>\n",
       "      <td>28</td>\n",
       "      <td>...</td>\n",
       "      <td>0</td>\n",
       "      <td>0</td>\n",
       "      <td>0</td>\n",
       "      <td>0</td>\n",
       "      <td>1</td>\n",
       "      <td>0</td>\n",
       "      <td>0</td>\n",
       "      <td>0</td>\n",
       "      <td>0</td>\n",
       "      <td>0</td>\n",
       "    </tr>\n",
       "    <tr>\n",
       "      <th>1</th>\n",
       "      <td>15</td>\n",
       "      <td>3.0</td>\n",
       "      <td>2.5</td>\n",
       "      <td>15</td>\n",
       "      <td>44</td>\n",
       "      <td>7.6</td>\n",
       "      <td>30</td>\n",
       "      <td>100</td>\n",
       "      <td>19</td>\n",
       "      <td>20</td>\n",
       "      <td>...</td>\n",
       "      <td>0</td>\n",
       "      <td>0</td>\n",
       "      <td>0</td>\n",
       "      <td>0</td>\n",
       "      <td>1</td>\n",
       "      <td>0</td>\n",
       "      <td>0</td>\n",
       "      <td>0</td>\n",
       "      <td>0</td>\n",
       "      <td>0</td>\n",
       "    </tr>\n",
       "    <tr>\n",
       "      <th>2</th>\n",
       "      <td>15</td>\n",
       "      <td>3.5</td>\n",
       "      <td>3.2</td>\n",
       "      <td>15</td>\n",
       "      <td>32</td>\n",
       "      <td>8.0</td>\n",
       "      <td>18</td>\n",
       "      <td>100</td>\n",
       "      <td>21</td>\n",
       "      <td>13</td>\n",
       "      <td>...</td>\n",
       "      <td>0</td>\n",
       "      <td>0</td>\n",
       "      <td>0</td>\n",
       "      <td>1</td>\n",
       "      <td>0</td>\n",
       "      <td>0</td>\n",
       "      <td>0</td>\n",
       "      <td>0</td>\n",
       "      <td>0</td>\n",
       "      <td>0</td>\n",
       "    </tr>\n",
       "    <tr>\n",
       "      <th>3</th>\n",
       "      <td>24</td>\n",
       "      <td>5.4</td>\n",
       "      <td>4.6</td>\n",
       "      <td>30</td>\n",
       "      <td>31</td>\n",
       "      <td>2.9</td>\n",
       "      <td>31</td>\n",
       "      <td>100</td>\n",
       "      <td>22</td>\n",
       "      <td>20</td>\n",
       "      <td>...</td>\n",
       "      <td>0</td>\n",
       "      <td>0</td>\n",
       "      <td>0</td>\n",
       "      <td>1</td>\n",
       "      <td>0</td>\n",
       "      <td>0</td>\n",
       "      <td>0</td>\n",
       "      <td>0</td>\n",
       "      <td>0</td>\n",
       "      <td>0</td>\n",
       "    </tr>\n",
       "    <tr>\n",
       "      <th>4</th>\n",
       "      <td>15</td>\n",
       "      <td>3.7</td>\n",
       "      <td>3.6</td>\n",
       "      <td>18</td>\n",
       "      <td>42</td>\n",
       "      <td>6.9</td>\n",
       "      <td>29</td>\n",
       "      <td>100</td>\n",
       "      <td>21</td>\n",
       "      <td>17</td>\n",
       "      <td>...</td>\n",
       "      <td>0</td>\n",
       "      <td>0</td>\n",
       "      <td>0</td>\n",
       "      <td>0</td>\n",
       "      <td>0</td>\n",
       "      <td>0</td>\n",
       "      <td>1</td>\n",
       "      <td>0</td>\n",
       "      <td>0</td>\n",
       "      <td>0</td>\n",
       "    </tr>\n",
       "  </tbody>\n",
       "</table>\n",
       "<p>5 rows × 71 columns</p>\n",
       "</div>"
      ],
      "text/plain": [
       "   Percent_Fair_or_Poor_Health  Average_Number_of_Physically_Unhealthy_Days  \\\n",
       "0                           17                                          3.4   \n",
       "1                           15                                          3.0   \n",
       "2                           15                                          3.5   \n",
       "3                           24                                          5.4   \n",
       "4                           15                                          3.7   \n",
       "\n",
       "   Average_Number_of_Mentally_Unhealthy_Days  Percent_Smokers  \\\n",
       "0                                        2.8               17   \n",
       "1                                        2.5               15   \n",
       "2                                        3.2               15   \n",
       "3                                        4.6               30   \n",
       "4                                        3.6               18   \n",
       "\n",
       "   Percent_Adults_with_Obesity  Food_Environment_Index  \\\n",
       "0                           51                     5.3   \n",
       "1                           44                     7.6   \n",
       "2                           32                     8.0   \n",
       "3                           31                     2.9   \n",
       "4                           42                     6.9   \n",
       "\n",
       "   Percent_Physically_Inactive  Percent_With_Access_to_Exercise_Opportunities  \\\n",
       "0                           30                                            100   \n",
       "1                           30                                            100   \n",
       "2                           18                                            100   \n",
       "3                           31                                            100   \n",
       "4                           29                                            100   \n",
       "\n",
       "   Percent_Excessive_Drinking  Percent_Uninsured  ...  \\\n",
       "0                          17                 28  ...   \n",
       "1                          19                 20  ...   \n",
       "2                          21                 13  ...   \n",
       "3                          22                 20  ...   \n",
       "4                          21                 17  ...   \n",
       "\n",
       "   Largest_sector_Agriculture, forestry, fishing and hunting, and mining  \\\n",
       "0                                                  0                       \n",
       "1                                                  0                       \n",
       "2                                                  0                       \n",
       "3                                                  0                       \n",
       "4                                                  0                       \n",
       "\n",
       "   Largest_sector_Arts, entertainment, and recreation, and accommodation and food services  \\\n",
       "0                                                  0                                         \n",
       "1                                                  0                                         \n",
       "2                                                  0                                         \n",
       "3                                                  0                                         \n",
       "4                                                  0                                         \n",
       "\n",
       "   Largest_sector_Construction  \\\n",
       "0                            0   \n",
       "1                            0   \n",
       "2                            0   \n",
       "3                            0   \n",
       "4                            0   \n",
       "\n",
       "   Largest_sector_Educational services, and health care and social assistance  \\\n",
       "0                                                  0                            \n",
       "1                                                  0                            \n",
       "2                                                  1                            \n",
       "3                                                  1                            \n",
       "4                                                  0                            \n",
       "\n",
       "   Largest_sector_Manufacturing  \\\n",
       "0                             1   \n",
       "1                             1   \n",
       "2                             0   \n",
       "3                             0   \n",
       "4                             0   \n",
       "\n",
       "   Largest_sector_Professional, scientific, and management, and administrative and waste management services  \\\n",
       "0                                                  0                                                           \n",
       "1                                                  0                                                           \n",
       "2                                                  0                                                           \n",
       "3                                                  0                                                           \n",
       "4                                                  0                                                           \n",
       "\n",
       "   Largest_sector_Public administration  Largest_sector_Retail trade  \\\n",
       "0                                     0                            0   \n",
       "1                                     0                            0   \n",
       "2                                     0                            0   \n",
       "3                                     0                            0   \n",
       "4                                     1                            0   \n",
       "\n",
       "   Largest_sector_Unknown  Largest_sector_Wholesale trade  \n",
       "0                       0                               0  \n",
       "1                       0                               0  \n",
       "2                       0                               0  \n",
       "3                       0                               0  \n",
       "4                       0                               0  \n",
       "\n",
       "[5 rows x 71 columns]"
      ]
     },
     "execution_count": 18,
     "metadata": {},
     "output_type": "execute_result"
    }
   ],
   "source": [
    "# Drop column list\n",
    "# Column Level is Target\n",
    "drop_cols = keys + obj_cols + [\"Level\"]\n",
    "# Target\n",
    "y = df[\"Level\"].values\n",
    "print(y[:5])\n",
    "# Create our features\n",
    "X = df.drop(columns= drop_cols)\n",
    "X.head()"
   ]
  },
  {
   "cell_type": "code",
   "execution_count": 19,
   "metadata": {},
   "outputs": [],
   "source": [
    "# Create X_train, X_test, y_train, y_test\n",
    "X_train, X_test, y_train, y_test = train_test_split(X, y, test_size=0.25, random_state=78, stratify=y)"
   ]
  },
  {
   "cell_type": "code",
   "execution_count": 20,
   "metadata": {},
   "outputs": [],
   "source": [
    "# Creating a StandardScaler instance.\n",
    "scaler = StandardScaler()\n",
    "# Fitting the Standard Scaler with the training data.\n",
    "X_scaler = scaler.fit(X_train)\n",
    "\n",
    "# Scaling the data.\n",
    "X_train_scaled = X_scaler.transform(X_train)\n",
    "\n",
    "X_test_scaled = X_scaler.transform(X_test)"
   ]
  },
  {
   "cell_type": "code",
   "execution_count": 21,
   "metadata": {
    "scrolled": true
   },
   "outputs": [
    {
     "name": "stdout",
     "output_type": "stream",
     "text": [
      "LDA: 0.5516450216450216 (0.026415025966221247)\n",
      "KNC: 0.5039017504234895 (0.035532192082334095)\n",
      "NB: 0.30511387163561077 (0.01837652012028676)\n",
      "SVM: 0.5599002446828534 (0.03127479989247996)\n",
      "LR: 0.5455881799360061 (0.0316321741640046)\n",
      "DTC: 0.45794842838321104 (0.02659505447305393)\n",
      "RFC: 0.562943722943723 (0.03408647781816757)\n",
      "ETC: 0.560335027291549 (0.03651663311461207)\n",
      "ABC: 0.5377997364953886 (0.03272954023324148)\n",
      "GBC: 0.5421343873517785 (0.032885542467804875)\n"
     ]
    },
    {
     "data": {
      "image/png": "[encoded data removed]",
      "text/plain": [
       "<Figure size 432x288 with 1 Axes>"
      ]
     },
     "metadata": {
      "needs_background": "light"
     },
     "output_type": "display_data"
    }
   ],
   "source": [
    "from sklearn.model_selection import cross_val_score\n",
    "from sklearn.model_selection import StratifiedKFold\n",
    "\n",
    "from sklearn.discriminant_analysis import LinearDiscriminantAnalysis\n",
    "from sklearn.neighbors import KNeighborsClassifier\n",
    "from sklearn.naive_bayes import GaussianNB\n",
    "from sklearn.svm import SVC\n",
    "\n",
    "from sklearn.linear_model import LogisticRegression\n",
    "from sklearn.tree import DecisionTreeClassifier\n",
    "from sklearn.ensemble import RandomForestClassifier\n",
    "from sklearn.ensemble import ExtraTreesClassifier\n",
    "from sklearn.ensemble import AdaBoostClassifier\n",
    "from sklearn.ensemble import GradientBoostingClassifier\n",
    "\n",
    "# Spot Check Algorithms\n",
    "models = []\n",
    "\n",
    "models.append(('LDA', LinearDiscriminantAnalysis()))\n",
    "models.append(('KNC', KNeighborsClassifier()))\n",
    "models.append(('NB', GaussianNB()))\n",
    "models.append(('SVM', SVC(gamma='auto')))\n",
    "models.append(('LR',LogisticRegression(solver='lbfgs')))\n",
    "models.append(('DTC',DecisionTreeClassifier()))\n",
    "models.append(('RFC',RandomForestClassifier(n_estimators=500)))\n",
    "models.append(('ETC',ExtraTreesClassifier(n_estimators=500)))\n",
    "models.append(('ABC',AdaBoostClassifier()))\n",
    "models.append(('GBC',GradientBoostingClassifier()))\n",
    "              \n",
    "# evaluate each model in turn\n",
    "results = []\n",
    "names = []\n",
    "for name, model in models:\n",
    "    kfold = StratifiedKFold(n_splits=10, random_state=78, shuffle=True)\n",
    "    cv_results = cross_val_score(model, X_train_scaled, y_train, cv=kfold, scoring='accuracy')\n",
    "    results.append(cv_results)\n",
    "    names.append(name)\n",
    "    print(f'{name}: {cv_results.mean()} ({cv_results.std()})')\n",
    "# Compare Algorithms\n",
    "plt.boxplot(results, labels=names)\n",
    "plt.title('Algorithm Comparison')\n",
    "plt.show()"
   ]
  },
  {
   "cell_type": "markdown",
   "metadata": {},
   "source": [
    "# KNeighbors"
   ]
  },
  {
   "cell_type": "code",
   "execution_count": 22,
   "metadata": {},
   "outputs": [],
   "source": [
    "from sklearn.neighbors import KNeighborsClassifier\n",
    "kn_model = KNeighborsClassifier(n_neighbors=500)"
   ]
  },
  {
   "cell_type": "code",
   "execution_count": 23,
   "metadata": {},
   "outputs": [],
   "source": [
    "kn_model = kn_model.fit(X_train_scaled, y_train)"
   ]
  },
  {
   "cell_type": "code",
   "execution_count": 24,
   "metadata": {},
   "outputs": [
    {
     "data": {
      "text/plain": [
       "0.52734375"
      ]
     },
     "execution_count": 24,
     "metadata": {},
     "output_type": "execute_result"
    }
   ],
   "source": [
    "# Run the test with model\n",
    "y_pred = kn_model.predict(X_test_scaled)\n",
    "# Find accuracy\n",
    "accuracy_score(y_test, y_pred)"
   ]
  },
  {
   "cell_type": "code",
   "execution_count": 25,
   "metadata": {},
   "outputs": [
    {
     "data": {
      "text/html": [
       "<div>\n",
       "<style scoped>\n",
       "    .dataframe tbody tr th:only-of-type {\n",
       "        vertical-align: middle;\n",
       "    }\n",
       "\n",
       "    .dataframe tbody tr th {\n",
       "        vertical-align: top;\n",
       "    }\n",
       "\n",
       "    .dataframe thead th {\n",
       "        text-align: right;\n",
       "    }\n",
       "</style>\n",
       "<table border=\"1\" class=\"dataframe\">\n",
       "  <thead>\n",
       "    <tr style=\"text-align: right;\">\n",
       "      <th></th>\n",
       "      <th>Predicted 1</th>\n",
       "      <th>Predicted 2</th>\n",
       "      <th>Predicted 3</th>\n",
       "      <th>Predicted 4</th>\n",
       "    </tr>\n",
       "  </thead>\n",
       "  <tbody>\n",
       "    <tr>\n",
       "      <th>Actual 1</th>\n",
       "      <td>60</td>\n",
       "      <td>108</td>\n",
       "      <td>1</td>\n",
       "      <td>11</td>\n",
       "    </tr>\n",
       "    <tr>\n",
       "      <th>Actual 2</th>\n",
       "      <td>14</td>\n",
       "      <td>181</td>\n",
       "      <td>1</td>\n",
       "      <td>43</td>\n",
       "    </tr>\n",
       "    <tr>\n",
       "      <th>Actual 3</th>\n",
       "      <td>1</td>\n",
       "      <td>83</td>\n",
       "      <td>5</td>\n",
       "      <td>67</td>\n",
       "    </tr>\n",
       "    <tr>\n",
       "      <th>Actual 4</th>\n",
       "      <td>1</td>\n",
       "      <td>33</td>\n",
       "      <td>0</td>\n",
       "      <td>159</td>\n",
       "    </tr>\n",
       "  </tbody>\n",
       "</table>\n",
       "</div>"
      ],
      "text/plain": [
       "          Predicted 1  Predicted 2  Predicted 3  Predicted 4\n",
       "Actual 1           60          108            1           11\n",
       "Actual 2           14          181            1           43\n",
       "Actual 3            1           83            5           67\n",
       "Actual 4            1           33            0          159"
      ]
     },
     "execution_count": 25,
     "metadata": {},
     "output_type": "execute_result"
    }
   ],
   "source": [
    "cm = confusion_matrix(y_test, y_pred)\n",
    "\n",
    "# Create a DataFrame from the confusion matrix.\n",
    "cm_df = pd.DataFrame(\n",
    "    cm, index=[\"Actual 1\", \"Actual 2\", \"Actual 3\", \"Actual 4\"], columns=[\"Predicted 1\", \"Predicted 2\", \"Predicted 3\", \"Predicted 4\"])\n",
    "\n",
    "cm_df"
   ]
  },
  {
   "cell_type": "code",
   "execution_count": 26,
   "metadata": {
    "scrolled": false
   },
   "outputs": [
    {
     "name": "stdout",
     "output_type": "stream",
     "text": [
      "Classification Report\n",
      "              precision    recall  f1-score   support\n",
      "\n",
      "           1       0.79      0.33      0.47       180\n",
      "           2       0.45      0.76      0.56       239\n",
      "           3       0.71      0.03      0.06       156\n",
      "           4       0.57      0.82      0.67       193\n",
      "\n",
      "    accuracy                           0.53       768\n",
      "   macro avg       0.63      0.49      0.44       768\n",
      "weighted avg       0.61      0.53      0.47       768\n",
      "\n"
     ]
    }
   ],
   "source": [
    "print(\"Classification Report\")\n",
    "print(classification_report(y_test, y_pred))"
   ]
  },
  {
   "cell_type": "markdown",
   "metadata": {},
   "source": [
    "# SVM"
   ]
  },
  {
   "cell_type": "code",
   "execution_count": 27,
   "metadata": {},
   "outputs": [],
   "source": [
    "from sklearn.svm import SVC\n",
    "svc_model = SVC(kernel='linear')"
   ]
  },
  {
   "cell_type": "code",
   "execution_count": 28,
   "metadata": {},
   "outputs": [],
   "source": [
    "svc_model = svc_model.fit(X_train_scaled, y_train)"
   ]
  },
  {
   "cell_type": "code",
   "execution_count": 29,
   "metadata": {},
   "outputs": [
    {
     "data": {
      "text/plain": [
       "0.546875"
      ]
     },
     "execution_count": 29,
     "metadata": {},
     "output_type": "execute_result"
    }
   ],
   "source": [
    "# Run the test with model\n",
    "y_pred = svc_model.predict(X_test_scaled)\n",
    "# Find accuracy\n",
    "accuracy_score(y_test, y_pred)"
   ]
  },
  {
   "cell_type": "code",
   "execution_count": 30,
   "metadata": {},
   "outputs": [
    {
     "data": {
      "text/html": [
       "<div>\n",
       "<style scoped>\n",
       "    .dataframe tbody tr th:only-of-type {\n",
       "        vertical-align: middle;\n",
       "    }\n",
       "\n",
       "    .dataframe tbody tr th {\n",
       "        vertical-align: top;\n",
       "    }\n",
       "\n",
       "    .dataframe thead th {\n",
       "        text-align: right;\n",
       "    }\n",
       "</style>\n",
       "<table border=\"1\" class=\"dataframe\">\n",
       "  <thead>\n",
       "    <tr style=\"text-align: right;\">\n",
       "      <th></th>\n",
       "      <th>Predicted 1</th>\n",
       "      <th>Predicted 2</th>\n",
       "      <th>Predicted 3</th>\n",
       "      <th>Predicted 4</th>\n",
       "    </tr>\n",
       "  </thead>\n",
       "  <tbody>\n",
       "    <tr>\n",
       "      <th>Actual 1</th>\n",
       "      <td>97</td>\n",
       "      <td>72</td>\n",
       "      <td>4</td>\n",
       "      <td>7</td>\n",
       "    </tr>\n",
       "    <tr>\n",
       "      <th>Actual 2</th>\n",
       "      <td>36</td>\n",
       "      <td>153</td>\n",
       "      <td>28</td>\n",
       "      <td>22</td>\n",
       "    </tr>\n",
       "    <tr>\n",
       "      <th>Actual 3</th>\n",
       "      <td>7</td>\n",
       "      <td>59</td>\n",
       "      <td>41</td>\n",
       "      <td>49</td>\n",
       "    </tr>\n",
       "    <tr>\n",
       "      <th>Actual 4</th>\n",
       "      <td>4</td>\n",
       "      <td>25</td>\n",
       "      <td>35</td>\n",
       "      <td>129</td>\n",
       "    </tr>\n",
       "  </tbody>\n",
       "</table>\n",
       "</div>"
      ],
      "text/plain": [
       "          Predicted 1  Predicted 2  Predicted 3  Predicted 4\n",
       "Actual 1           97           72            4            7\n",
       "Actual 2           36          153           28           22\n",
       "Actual 3            7           59           41           49\n",
       "Actual 4            4           25           35          129"
      ]
     },
     "execution_count": 30,
     "metadata": {},
     "output_type": "execute_result"
    }
   ],
   "source": [
    "cm = confusion_matrix(y_test, y_pred)\n",
    "\n",
    "# Create a DataFrame from the confusion matrix.\n",
    "cm_df = pd.DataFrame(\n",
    "    cm, index=[\"Actual 1\", \"Actual 2\", \"Actual 3\", \"Actual 4\"], columns=[\"Predicted 1\", \"Predicted 2\", \"Predicted 3\", \"Predicted 4\"])\n",
    "\n",
    "cm_df"
   ]
  },
  {
   "cell_type": "code",
   "execution_count": 31,
   "metadata": {},
   "outputs": [
    {
     "name": "stdout",
     "output_type": "stream",
     "text": [
      "Classification Report\n",
      "              precision    recall  f1-score   support\n",
      "\n",
      "           1       0.67      0.54      0.60       180\n",
      "           2       0.50      0.64      0.56       239\n",
      "           3       0.38      0.26      0.31       156\n",
      "           4       0.62      0.67      0.65       193\n",
      "\n",
      "    accuracy                           0.55       768\n",
      "   macro avg       0.54      0.53      0.53       768\n",
      "weighted avg       0.55      0.55      0.54       768\n",
      "\n"
     ]
    }
   ],
   "source": [
    "print(\"Classification Report\")\n",
    "print(classification_report(y_test, y_pred))"
   ]
  },
  {
   "cell_type": "code",
   "execution_count": 32,
   "metadata": {},
   "outputs": [
    {
     "data": {
      "image/png": "[encoded data removed]",
      "text/plain": [
       "<Figure size 432x288 with 1 Axes>"
      ]
     },
     "metadata": {
      "needs_background": "light"
     },
     "output_type": "display_data"
    },
    {
     "data": {
      "text/plain": [
       "[(1.1517660277567199, 'Unreported_Insurance'),\n",
       " (1.0158114233217912, 'Male_Over_60'),\n",
       " (0.9767881862293519, 'Uninsured'),\n",
       " (0.8674669077438519, 'Unreported_education'),\n",
       " (0.6491626025495236, 'Average_Number_of_Physically_Unhealthy_Days'),\n",
       " (0.5273274237257581, 'Population_NHW'),\n",
       " (0.41860973386738465, 'Median_Household_Income'),\n",
       " (0.4052048802770596, 'Male_30-59'),\n",
       " (0.2747141420343855, 'Population_AIAN'),\n",
       " (0.2587134592145024, 'Less_than_high_school')]"
      ]
     },
     "execution_count": 32,
     "metadata": {},
     "output_type": "execute_result"
    }
   ],
   "source": [
    "# get importance\n",
    "importances = svc_model.coef_[0]\n",
    "# plot feature importance\n",
    "plt.bar([x for x in range(len(importances))], importances)\n",
    "plt.show()\n",
    "# summarize feature importance\n",
    "sorted(zip(importances, X.columns), reverse=True)[:10]"
   ]
  },
  {
   "cell_type": "markdown",
   "metadata": {},
   "source": [
    "# Linear Discriminant Analysis"
   ]
  },
  {
   "cell_type": "code",
   "execution_count": 33,
   "metadata": {},
   "outputs": [],
   "source": [
    "from sklearn.discriminant_analysis import LinearDiscriminantAnalysis\n",
    "lda_model = LinearDiscriminantAnalysis()"
   ]
  },
  {
   "cell_type": "code",
   "execution_count": 34,
   "metadata": {},
   "outputs": [],
   "source": [
    "lda_model = lda_model.fit(X_train_scaled, y_train)"
   ]
  },
  {
   "cell_type": "code",
   "execution_count": 35,
   "metadata": {},
   "outputs": [
    {
     "data": {
      "text/plain": [
       "0.5494791666666666"
      ]
     },
     "execution_count": 35,
     "metadata": {},
     "output_type": "execute_result"
    }
   ],
   "source": [
    "# Run the test with model\n",
    "y_pred = lda_model.predict(X_test_scaled)\n",
    "# Find accuracy\n",
    "accuracy_score(y_test, y_pred)"
   ]
  },
  {
   "cell_type": "code",
   "execution_count": 36,
   "metadata": {},
   "outputs": [
    {
     "data": {
      "text/html": [
       "<div>\n",
       "<style scoped>\n",
       "    .dataframe tbody tr th:only-of-type {\n",
       "        vertical-align: middle;\n",
       "    }\n",
       "\n",
       "    .dataframe tbody tr th {\n",
       "        vertical-align: top;\n",
       "    }\n",
       "\n",
       "    .dataframe thead th {\n",
       "        text-align: right;\n",
       "    }\n",
       "</style>\n",
       "<table border=\"1\" class=\"dataframe\">\n",
       "  <thead>\n",
       "    <tr style=\"text-align: right;\">\n",
       "      <th></th>\n",
       "      <th>Predicted 1</th>\n",
       "      <th>Predicted 2</th>\n",
       "      <th>Predicted 3</th>\n",
       "      <th>Predicted 4</th>\n",
       "    </tr>\n",
       "  </thead>\n",
       "  <tbody>\n",
       "    <tr>\n",
       "      <th>Actual 1</th>\n",
       "      <td>92</td>\n",
       "      <td>78</td>\n",
       "      <td>5</td>\n",
       "      <td>5</td>\n",
       "    </tr>\n",
       "    <tr>\n",
       "      <th>Actual 2</th>\n",
       "      <td>35</td>\n",
       "      <td>156</td>\n",
       "      <td>22</td>\n",
       "      <td>26</td>\n",
       "    </tr>\n",
       "    <tr>\n",
       "      <th>Actual 3</th>\n",
       "      <td>5</td>\n",
       "      <td>66</td>\n",
       "      <td>39</td>\n",
       "      <td>46</td>\n",
       "    </tr>\n",
       "    <tr>\n",
       "      <th>Actual 4</th>\n",
       "      <td>2</td>\n",
       "      <td>27</td>\n",
       "      <td>29</td>\n",
       "      <td>135</td>\n",
       "    </tr>\n",
       "  </tbody>\n",
       "</table>\n",
       "</div>"
      ],
      "text/plain": [
       "          Predicted 1  Predicted 2  Predicted 3  Predicted 4\n",
       "Actual 1           92           78            5            5\n",
       "Actual 2           35          156           22           26\n",
       "Actual 3            5           66           39           46\n",
       "Actual 4            2           27           29          135"
      ]
     },
     "execution_count": 36,
     "metadata": {},
     "output_type": "execute_result"
    }
   ],
   "source": [
    "cm = confusion_matrix(y_test, y_pred)\n",
    "\n",
    "# Create a DataFrame from the confusion matrix.\n",
    "cm_df = pd.DataFrame(\n",
    "    cm, index=[\"Actual 1\", \"Actual 2\", \"Actual 3\", \"Actual 4\"], columns=[\"Predicted 1\", \"Predicted 2\", \"Predicted 3\", \"Predicted 4\"])\n",
    "\n",
    "cm_df"
   ]
  },
  {
   "cell_type": "code",
   "execution_count": 37,
   "metadata": {},
   "outputs": [
    {
     "name": "stdout",
     "output_type": "stream",
     "text": [
      "Classification Report\n",
      "              precision    recall  f1-score   support\n",
      "\n",
      "           1       0.69      0.51      0.59       180\n",
      "           2       0.48      0.65      0.55       239\n",
      "           3       0.41      0.25      0.31       156\n",
      "           4       0.64      0.70      0.67       193\n",
      "\n",
      "    accuracy                           0.55       768\n",
      "   macro avg       0.55      0.53      0.53       768\n",
      "weighted avg       0.55      0.55      0.54       768\n",
      "\n"
     ]
    }
   ],
   "source": [
    "print(\"Classification Report\")\n",
    "print(classification_report(y_test, y_pred))"
   ]
  },
  {
   "cell_type": "code",
   "execution_count": 38,
   "metadata": {},
   "outputs": [
    {
     "data": {
      "image/png": "[encoded data removed]",
      "text/plain": [
       "<Figure size 432x288 with 1 Axes>"
      ]
     },
     "metadata": {
      "needs_background": "light"
     },
     "output_type": "display_data"
    },
    {
     "data": {
      "text/plain": [
       "[(4.630327165008662, 'Male_Over_60'),\n",
       " (4.207750177856377, 'Female_Under_30'),\n",
       " (3.4430667471938907, 'Unreported_education'),\n",
       " (3.2250391336812965, 'Unreported_Insurance'),\n",
       " (2.0557128807196023, 'Male_30-59'),\n",
       " (1.630663743566865, 'Pop_Between_30-59'),\n",
       " (1.2115221410876647, 'Female_30-59'),\n",
       " (0.7106737911563532, 'Median_Household_Income'),\n",
       " (0.6307438650757227, 'Average_Number_of_Physically_Unhealthy_Days'),\n",
       " (0.5854927929336918, 'Less_than_high_school')]"
      ]
     },
     "execution_count": 38,
     "metadata": {},
     "output_type": "execute_result"
    }
   ],
   "source": [
    "# get importance\n",
    "importances = lda_model.coef_[0]\n",
    "# plot feature importance\n",
    "plt.bar([x for x in range(len(importances))], importances)\n",
    "plt.show()\n",
    "# summarize feature importance\n",
    "sorted(zip(importances, X.columns), reverse=True)[:10]"
   ]
  },
  {
   "cell_type": "markdown",
   "metadata": {},
   "source": [
    "# Logistic Regression"
   ]
  },
  {
   "cell_type": "code",
   "execution_count": 39,
   "metadata": {},
   "outputs": [
    {
     "data": {
      "text/plain": [
       "LogisticRegression(C=1.0, class_weight=None, dual=False, fit_intercept=True,\n",
       "                   intercept_scaling=1, l1_ratio=None, max_iter=100,\n",
       "                   multi_class='auto', n_jobs=None, penalty='l2',\n",
       "                   random_state=78, solver='lbfgs', tol=0.0001, verbose=0,\n",
       "                   warm_start=False)"
      ]
     },
     "execution_count": 39,
     "metadata": {},
     "output_type": "execute_result"
    }
   ],
   "source": [
    "# Train the Logistic Regression model using the resampled data\n",
    "from sklearn.linear_model import LogisticRegression\n",
    "\n",
    "lr_model = LogisticRegression(solver='lbfgs', random_state=78)\n",
    "lr_model.fit(X_train_scaled, y_train)"
   ]
  },
  {
   "cell_type": "code",
   "execution_count": 40,
   "metadata": {},
   "outputs": [
    {
     "data": {
      "text/plain": [
       "0.55078125"
      ]
     },
     "execution_count": 40,
     "metadata": {},
     "output_type": "execute_result"
    }
   ],
   "source": [
    "# Run the test with model\n",
    "y_pred = lr_model.predict(X_test_scaled)\n",
    "# Find accuracy\n",
    "accuracy_score(y_test, y_pred)"
   ]
  },
  {
   "cell_type": "code",
   "execution_count": 41,
   "metadata": {},
   "outputs": [
    {
     "data": {
      "text/html": [
       "<div>\n",
       "<style scoped>\n",
       "    .dataframe tbody tr th:only-of-type {\n",
       "        vertical-align: middle;\n",
       "    }\n",
       "\n",
       "    .dataframe tbody tr th {\n",
       "        vertical-align: top;\n",
       "    }\n",
       "\n",
       "    .dataframe thead th {\n",
       "        text-align: right;\n",
       "    }\n",
       "</style>\n",
       "<table border=\"1\" class=\"dataframe\">\n",
       "  <thead>\n",
       "    <tr style=\"text-align: right;\">\n",
       "      <th></th>\n",
       "      <th>Predicted 1</th>\n",
       "      <th>Predicted 2</th>\n",
       "      <th>Predicted 3</th>\n",
       "      <th>Predicted 4</th>\n",
       "    </tr>\n",
       "  </thead>\n",
       "  <tbody>\n",
       "    <tr>\n",
       "      <th>Actual 1</th>\n",
       "      <td>103</td>\n",
       "      <td>67</td>\n",
       "      <td>4</td>\n",
       "      <td>6</td>\n",
       "    </tr>\n",
       "    <tr>\n",
       "      <th>Actual 2</th>\n",
       "      <td>39</td>\n",
       "      <td>150</td>\n",
       "      <td>24</td>\n",
       "      <td>26</td>\n",
       "    </tr>\n",
       "    <tr>\n",
       "      <th>Actual 3</th>\n",
       "      <td>7</td>\n",
       "      <td>59</td>\n",
       "      <td>36</td>\n",
       "      <td>54</td>\n",
       "    </tr>\n",
       "    <tr>\n",
       "      <th>Actual 4</th>\n",
       "      <td>7</td>\n",
       "      <td>21</td>\n",
       "      <td>31</td>\n",
       "      <td>134</td>\n",
       "    </tr>\n",
       "  </tbody>\n",
       "</table>\n",
       "</div>"
      ],
      "text/plain": [
       "          Predicted 1  Predicted 2  Predicted 3  Predicted 4\n",
       "Actual 1          103           67            4            6\n",
       "Actual 2           39          150           24           26\n",
       "Actual 3            7           59           36           54\n",
       "Actual 4            7           21           31          134"
      ]
     },
     "execution_count": 41,
     "metadata": {},
     "output_type": "execute_result"
    }
   ],
   "source": [
    "cm = confusion_matrix(y_test, y_pred)\n",
    "\n",
    "# Create a DataFrame from the confusion matrix.\n",
    "cm_df = pd.DataFrame(\n",
    "    cm, index=[\"Actual 1\", \"Actual 2\", \"Actual 3\", \"Actual 4\"], columns=[\"Predicted 1\", \"Predicted 2\", \"Predicted 3\", \"Predicted 4\"])\n",
    "\n",
    "cm_df"
   ]
  },
  {
   "cell_type": "code",
   "execution_count": 42,
   "metadata": {},
   "outputs": [
    {
     "name": "stdout",
     "output_type": "stream",
     "text": [
      "Classification Report\n",
      "              precision    recall  f1-score   support\n",
      "\n",
      "           1       0.66      0.57      0.61       180\n",
      "           2       0.51      0.63      0.56       239\n",
      "           3       0.38      0.23      0.29       156\n",
      "           4       0.61      0.69      0.65       193\n",
      "\n",
      "    accuracy                           0.55       768\n",
      "   macro avg       0.54      0.53      0.53       768\n",
      "weighted avg       0.54      0.55      0.54       768\n",
      "\n"
     ]
    }
   ],
   "source": [
    "print(\"Classification Report\")\n",
    "print(classification_report(y_test, y_pred))"
   ]
  },
  {
   "cell_type": "code",
   "execution_count": 43,
   "metadata": {},
   "outputs": [
    {
     "data": {
      "image/png": "[encoded data removed]",
      "text/plain": [
       "<Figure size 432x288 with 1 Axes>"
      ]
     },
     "metadata": {
      "needs_background": "light"
     },
     "output_type": "display_data"
    },
    {
     "data": {
      "text/plain": [
       "[(1.2942770581891823, 'Unreported_Insurance'),\n",
       " (0.8749920001422725, 'Male_Over_60'),\n",
       " (0.8559773945794609, 'Uninsured'),\n",
       " (0.6956488876879374, 'Unreported_education'),\n",
       " (0.6322344512859431, 'Median_Household_Income'),\n",
       " (0.6222074118741455, 'Average_Number_of_Physically_Unhealthy_Days'),\n",
       " (0.4072204233084917, 'Percent_Limited_Access_to_Healthy_Foods'),\n",
       " (0.40302606386692313, 'Percent_Long_Commute'),\n",
       " (0.39150678194242894, 'Pop_Over_60'),\n",
       " (0.38642478948775677, 'Population_NHW')]"
      ]
     },
     "execution_count": 43,
     "metadata": {},
     "output_type": "execute_result"
    }
   ],
   "source": [
    "# get importance\n",
    "importances = lr_model.coef_[0]\n",
    "# plot feature importance\n",
    "plt.bar([x for x in range(len(importances))], importances)\n",
    "plt.show()\n",
    "# summarize feature importance\n",
    "sorted(zip(importances, X.columns), reverse=True)[:10]\n"
   ]
  },
  {
   "cell_type": "markdown",
   "metadata": {},
   "source": [
    "# Decision Tree"
   ]
  },
  {
   "cell_type": "code",
   "execution_count": 44,
   "metadata": {},
   "outputs": [],
   "source": [
    "from sklearn.tree import DecisionTreeClassifier\n",
    "# Create a model Decision Tree\n",
    "dt_model =  DecisionTreeClassifier(random_state=78) "
   ]
  },
  {
   "cell_type": "code",
   "execution_count": 45,
   "metadata": {},
   "outputs": [],
   "source": [
    "dt_model = dt_model.fit(X_train_scaled, y_train)"
   ]
  },
  {
   "cell_type": "code",
   "execution_count": 46,
   "metadata": {},
   "outputs": [
    {
     "data": {
      "text/plain": [
       "0.5091145833333334"
      ]
     },
     "execution_count": 46,
     "metadata": {},
     "output_type": "execute_result"
    }
   ],
   "source": [
    "# Run the test with model\n",
    "y_pred = dt_model.predict(X_test_scaled)\n",
    "# Find accuracy\n",
    "accuracy_score(y_test, y_pred)"
   ]
  },
  {
   "cell_type": "code",
   "execution_count": 47,
   "metadata": {},
   "outputs": [
    {
     "data": {
      "text/html": [
       "<div>\n",
       "<style scoped>\n",
       "    .dataframe tbody tr th:only-of-type {\n",
       "        vertical-align: middle;\n",
       "    }\n",
       "\n",
       "    .dataframe tbody tr th {\n",
       "        vertical-align: top;\n",
       "    }\n",
       "\n",
       "    .dataframe thead th {\n",
       "        text-align: right;\n",
       "    }\n",
       "</style>\n",
       "<table border=\"1\" class=\"dataframe\">\n",
       "  <thead>\n",
       "    <tr style=\"text-align: right;\">\n",
       "      <th></th>\n",
       "      <th>Predicted 1</th>\n",
       "      <th>Predicted 2</th>\n",
       "      <th>Predicted 3</th>\n",
       "      <th>Predicted 4</th>\n",
       "    </tr>\n",
       "  </thead>\n",
       "  <tbody>\n",
       "    <tr>\n",
       "      <th>Actual 1</th>\n",
       "      <td>99</td>\n",
       "      <td>56</td>\n",
       "      <td>12</td>\n",
       "      <td>13</td>\n",
       "    </tr>\n",
       "    <tr>\n",
       "      <th>Actual 2</th>\n",
       "      <td>48</td>\n",
       "      <td>123</td>\n",
       "      <td>45</td>\n",
       "      <td>23</td>\n",
       "    </tr>\n",
       "    <tr>\n",
       "      <th>Actual 3</th>\n",
       "      <td>13</td>\n",
       "      <td>42</td>\n",
       "      <td>51</td>\n",
       "      <td>50</td>\n",
       "    </tr>\n",
       "    <tr>\n",
       "      <th>Actual 4</th>\n",
       "      <td>5</td>\n",
       "      <td>26</td>\n",
       "      <td>44</td>\n",
       "      <td>118</td>\n",
       "    </tr>\n",
       "  </tbody>\n",
       "</table>\n",
       "</div>"
      ],
      "text/plain": [
       "          Predicted 1  Predicted 2  Predicted 3  Predicted 4\n",
       "Actual 1           99           56           12           13\n",
       "Actual 2           48          123           45           23\n",
       "Actual 3           13           42           51           50\n",
       "Actual 4            5           26           44          118"
      ]
     },
     "execution_count": 47,
     "metadata": {},
     "output_type": "execute_result"
    }
   ],
   "source": [
    "cm = confusion_matrix(y_test, y_pred)\n",
    "\n",
    "# Create a DataFrame from the confusion matrix.\n",
    "cm_df = pd.DataFrame(\n",
    "    cm, index=[\"Actual 1\", \"Actual 2\", \"Actual 3\", \"Actual 4\"], columns=[\"Predicted 1\", \"Predicted 2\", \"Predicted 3\", \"Predicted 4\"])\n",
    "\n",
    "cm_df"
   ]
  },
  {
   "cell_type": "code",
   "execution_count": 48,
   "metadata": {},
   "outputs": [
    {
     "name": "stdout",
     "output_type": "stream",
     "text": [
      "Classification Report\n",
      "              precision    recall  f1-score   support\n",
      "\n",
      "           1       0.60      0.55      0.57       180\n",
      "           2       0.50      0.51      0.51       239\n",
      "           3       0.34      0.33      0.33       156\n",
      "           4       0.58      0.61      0.59       193\n",
      "\n",
      "    accuracy                           0.51       768\n",
      "   macro avg       0.50      0.50      0.50       768\n",
      "weighted avg       0.51      0.51      0.51       768\n",
      "\n"
     ]
    }
   ],
   "source": [
    "print(\"Classification Report\")\n",
    "print(classification_report(y_test, y_pred))"
   ]
  },
  {
   "cell_type": "code",
   "execution_count": 49,
   "metadata": {},
   "outputs": [
    {
     "data": {
      "image/png": "[encoded data removed]",
      "text/plain": [
       "<Figure size 432x288 with 1 Axes>"
      ]
     },
     "metadata": {
      "needs_background": "light"
     },
     "output_type": "display_data"
    },
    {
     "data": {
      "text/plain": [
       "[(0.10714638001601101, 'Percent_Fair_or_Poor_Health'),\n",
       " (0.06431702091341185, 'Household_Income_White'),\n",
       " (0.049806705307072784, 'Population_Hispanic'),\n",
       " (0.04964245178184223, 'Polution_Average_Daily_PM2.5'),\n",
       " (0.04047161185903654, 'Median_Household_Income'),\n",
       " (0.03696142403190313, 'Preventable_Hospitalization_Rate'),\n",
       " (0.026232826291301466, 'Percent_Vaccinated'),\n",
       " (0.025017309901327302, 'Violent_Crime_Rate'),\n",
       " (0.02291906590758991, 'Percent_Adults_with_Obesity'),\n",
       " (0.022917311322010338, 'Percent_Unemployed')]"
      ]
     },
     "execution_count": 49,
     "metadata": {},
     "output_type": "execute_result"
    }
   ],
   "source": [
    "importances = dt_model.feature_importances_\n",
    "# plot feature importance\n",
    "plt.bar([x for x in range(len(importances))], importances)\n",
    "plt.show()\n",
    "# summarize feature importance\n",
    "sorted(zip(importances, X.columns), reverse=True)[:10]"
   ]
  },
  {
   "cell_type": "markdown",
   "metadata": {},
   "source": [
    "# Random Forest"
   ]
  },
  {
   "cell_type": "code",
   "execution_count": 50,
   "metadata": {},
   "outputs": [],
   "source": [
    "from sklearn.ensemble import RandomForestClassifier\n",
    "# Create a random forest classifier.\n",
    "rf_model = RandomForestClassifier(n_estimators=2000, random_state=78, max_depth= 1000, criterion='entropy') "
   ]
  },
  {
   "cell_type": "code",
   "execution_count": 51,
   "metadata": {},
   "outputs": [],
   "source": [
    "rf_model = rf_model.fit(X_train_scaled, y_train)"
   ]
  },
  {
   "cell_type": "code",
   "execution_count": 52,
   "metadata": {},
   "outputs": [
    {
     "data": {
      "text/plain": [
       "0.59375"
      ]
     },
     "execution_count": 52,
     "metadata": {},
     "output_type": "execute_result"
    }
   ],
   "source": [
    "# Run the test with model\n",
    "y_pred = rf_model.predict(X_test_scaled)\n",
    "# Find accuracy\n",
    "accuracy_score(y_test, y_pred)"
   ]
  },
  {
   "cell_type": "code",
   "execution_count": 53,
   "metadata": {
    "scrolled": true
   },
   "outputs": [
    {
     "data": {
      "text/html": [
       "<div>\n",
       "<style scoped>\n",
       "    .dataframe tbody tr th:only-of-type {\n",
       "        vertical-align: middle;\n",
       "    }\n",
       "\n",
       "    .dataframe tbody tr th {\n",
       "        vertical-align: top;\n",
       "    }\n",
       "\n",
       "    .dataframe thead th {\n",
       "        text-align: right;\n",
       "    }\n",
       "</style>\n",
       "<table border=\"1\" class=\"dataframe\">\n",
       "  <thead>\n",
       "    <tr style=\"text-align: right;\">\n",
       "      <th></th>\n",
       "      <th>Predicted 1</th>\n",
       "      <th>Predicted 2</th>\n",
       "      <th>Predicted 3</th>\n",
       "      <th>Predicted 4</th>\n",
       "    </tr>\n",
       "  </thead>\n",
       "  <tbody>\n",
       "    <tr>\n",
       "      <th>Actual 1</th>\n",
       "      <td>107</td>\n",
       "      <td>67</td>\n",
       "      <td>2</td>\n",
       "      <td>4</td>\n",
       "    </tr>\n",
       "    <tr>\n",
       "      <th>Actual 2</th>\n",
       "      <td>36</td>\n",
       "      <td>161</td>\n",
       "      <td>24</td>\n",
       "      <td>18</td>\n",
       "    </tr>\n",
       "    <tr>\n",
       "      <th>Actual 3</th>\n",
       "      <td>4</td>\n",
       "      <td>58</td>\n",
       "      <td>47</td>\n",
       "      <td>47</td>\n",
       "    </tr>\n",
       "    <tr>\n",
       "      <th>Actual 4</th>\n",
       "      <td>3</td>\n",
       "      <td>24</td>\n",
       "      <td>25</td>\n",
       "      <td>141</td>\n",
       "    </tr>\n",
       "  </tbody>\n",
       "</table>\n",
       "</div>"
      ],
      "text/plain": [
       "          Predicted 1  Predicted 2  Predicted 3  Predicted 4\n",
       "Actual 1          107           67            2            4\n",
       "Actual 2           36          161           24           18\n",
       "Actual 3            4           58           47           47\n",
       "Actual 4            3           24           25          141"
      ]
     },
     "execution_count": 53,
     "metadata": {},
     "output_type": "execute_result"
    }
   ],
   "source": [
    "cm = confusion_matrix(y_test, y_pred)\n",
    "\n",
    "# Create a DataFrame from the confusion matrix.\n",
    "cm_df = pd.DataFrame(\n",
    "    cm, index=[\"Actual 1\", \"Actual 2\", \"Actual 3\", \"Actual 4\"], columns=[\"Predicted 1\", \"Predicted 2\", \"Predicted 3\", \"Predicted 4\"])\n",
    "\n",
    "cm_df"
   ]
  },
  {
   "cell_type": "code",
   "execution_count": 54,
   "metadata": {},
   "outputs": [
    {
     "name": "stdout",
     "output_type": "stream",
     "text": [
      "Classification Report\n",
      "              precision    recall  f1-score   support\n",
      "\n",
      "           1       0.71      0.59      0.65       180\n",
      "           2       0.52      0.67      0.59       239\n",
      "           3       0.48      0.30      0.37       156\n",
      "           4       0.67      0.73      0.70       193\n",
      "\n",
      "    accuracy                           0.59       768\n",
      "   macro avg       0.60      0.57      0.58       768\n",
      "weighted avg       0.59      0.59      0.59       768\n",
      "\n"
     ]
    }
   ],
   "source": [
    "print(\"Classification Report\")\n",
    "print(classification_report(y_test, y_pred))"
   ]
  },
  {
   "cell_type": "code",
   "execution_count": 55,
   "metadata": {},
   "outputs": [
    {
     "data": {
      "image/png": "[encoded data removed]",
      "text/plain": [
       "<Figure size 432x288 with 1 Axes>"
      ]
     },
     "metadata": {
      "needs_background": "light"
     },
     "output_type": "display_data"
    },
    {
     "data": {
      "text/plain": [
       "[(0.04733512653832824, 'Median_Household_Income'),\n",
       " (0.038665714054313814, 'Percent_Smokers'),\n",
       " (0.03386988442454613, 'Polution_Average_Daily_PM2.5'),\n",
       " (0.03266237592457155, 'Percent_Fair_or_Poor_Health'),\n",
       " (0.03135169747991667, 'Average_Number_of_Mentally_Unhealthy_Days'),\n",
       " (0.031111171864362103, 'Average_Number_of_Physically_Unhealthy_Days'),\n",
       " (0.031109356962751997, 'Household_Income_White'),\n",
       " (0.029057784755703576, 'Percent_Physically_Inactive'),\n",
       " (0.025052801036217744, 'Population_Hispanic'),\n",
       " (0.023798729661359493, 'Preventable_Hospitalization_Rate')]"
      ]
     },
     "execution_count": 55,
     "metadata": {},
     "output_type": "execute_result"
    }
   ],
   "source": [
    "importances = rf_model.feature_importances_\n",
    "# plot feature importance\n",
    "plt.bar([x for x in range(len(importances))], importances)\n",
    "plt.show()\n",
    "# summarize feature importance\n",
    "sorted(zip(importances, X.columns), reverse=True)[:10]"
   ]
  },
  {
   "cell_type": "markdown",
   "metadata": {},
   "source": [
    "# Extra Trees"
   ]
  },
  {
   "cell_type": "code",
   "execution_count": 56,
   "metadata": {},
   "outputs": [],
   "source": [
    "from sklearn.ensemble import ExtraTreesClassifier\n",
    "# Create a extra Trees classifier.\n",
    "et_model = ExtraTreesClassifier(n_estimators=2000, random_state=78, max_depth =1000) "
   ]
  },
  {
   "cell_type": "code",
   "execution_count": 57,
   "metadata": {},
   "outputs": [],
   "source": [
    "et_model = et_model.fit(X_train_scaled, y_train)"
   ]
  },
  {
   "cell_type": "code",
   "execution_count": 58,
   "metadata": {},
   "outputs": [
    {
     "data": {
      "text/plain": [
       "0.5885416666666666"
      ]
     },
     "execution_count": 58,
     "metadata": {},
     "output_type": "execute_result"
    }
   ],
   "source": [
    "# Run the test with model\n",
    "y_pred = et_model.predict(X_test_scaled)\n",
    "# Find accuracy\n",
    "accuracy_score(y_test, y_pred)"
   ]
  },
  {
   "cell_type": "code",
   "execution_count": 59,
   "metadata": {},
   "outputs": [
    {
     "data": {
      "text/html": [
       "<div>\n",
       "<style scoped>\n",
       "    .dataframe tbody tr th:only-of-type {\n",
       "        vertical-align: middle;\n",
       "    }\n",
       "\n",
       "    .dataframe tbody tr th {\n",
       "        vertical-align: top;\n",
       "    }\n",
       "\n",
       "    .dataframe thead th {\n",
       "        text-align: right;\n",
       "    }\n",
       "</style>\n",
       "<table border=\"1\" class=\"dataframe\">\n",
       "  <thead>\n",
       "    <tr style=\"text-align: right;\">\n",
       "      <th></th>\n",
       "      <th>Predicted 1</th>\n",
       "      <th>Predicted 2</th>\n",
       "      <th>Predicted 3</th>\n",
       "      <th>Predicted 4</th>\n",
       "    </tr>\n",
       "  </thead>\n",
       "  <tbody>\n",
       "    <tr>\n",
       "      <th>Actual 1</th>\n",
       "      <td>103</td>\n",
       "      <td>70</td>\n",
       "      <td>3</td>\n",
       "      <td>4</td>\n",
       "    </tr>\n",
       "    <tr>\n",
       "      <th>Actual 2</th>\n",
       "      <td>38</td>\n",
       "      <td>160</td>\n",
       "      <td>20</td>\n",
       "      <td>21</td>\n",
       "    </tr>\n",
       "    <tr>\n",
       "      <th>Actual 3</th>\n",
       "      <td>5</td>\n",
       "      <td>57</td>\n",
       "      <td>43</td>\n",
       "      <td>51</td>\n",
       "    </tr>\n",
       "    <tr>\n",
       "      <th>Actual 4</th>\n",
       "      <td>3</td>\n",
       "      <td>23</td>\n",
       "      <td>21</td>\n",
       "      <td>146</td>\n",
       "    </tr>\n",
       "  </tbody>\n",
       "</table>\n",
       "</div>"
      ],
      "text/plain": [
       "          Predicted 1  Predicted 2  Predicted 3  Predicted 4\n",
       "Actual 1          103           70            3            4\n",
       "Actual 2           38          160           20           21\n",
       "Actual 3            5           57           43           51\n",
       "Actual 4            3           23           21          146"
      ]
     },
     "execution_count": 59,
     "metadata": {},
     "output_type": "execute_result"
    }
   ],
   "source": [
    "cm = confusion_matrix(y_test, y_pred)\n",
    "\n",
    "# Create a DataFrame from the confusion matrix.\n",
    "cm_df = pd.DataFrame(\n",
    "    cm, index=[\"Actual 1\", \"Actual 2\", \"Actual 3\", \"Actual 4\"], columns=[\"Predicted 1\", \"Predicted 2\", \"Predicted 3\", \"Predicted 4\"])\n",
    "\n",
    "cm_df"
   ]
  },
  {
   "cell_type": "code",
   "execution_count": 60,
   "metadata": {},
   "outputs": [
    {
     "name": "stdout",
     "output_type": "stream",
     "text": [
      "Classification Report\n",
      "              precision    recall  f1-score   support\n",
      "\n",
      "           1       0.69      0.57      0.63       180\n",
      "           2       0.52      0.67      0.58       239\n",
      "           3       0.49      0.28      0.35       156\n",
      "           4       0.66      0.76      0.70       193\n",
      "\n",
      "    accuracy                           0.59       768\n",
      "   macro avg       0.59      0.57      0.57       768\n",
      "weighted avg       0.59      0.59      0.58       768\n",
      "\n"
     ]
    }
   ],
   "source": [
    "print(\"Classification Report\")\n",
    "print(classification_report(y_test, y_pred))"
   ]
  },
  {
   "cell_type": "code",
   "execution_count": 61,
   "metadata": {},
   "outputs": [
    {
     "data": {
      "image/png": "[encoded data removed]",
      "text/plain": [
       "<Figure size 432x288 with 1 Axes>"
      ]
     },
     "metadata": {
      "needs_background": "light"
     },
     "output_type": "display_data"
    },
    {
     "data": {
      "text/plain": [
       "[(0.0337878489386957, 'Average_Number_of_Physically_Unhealthy_Days'),\n",
       " (0.03184062799754305, 'Average_Number_of_Mentally_Unhealthy_Days'),\n",
       " (0.03087445720366776, 'Median_Household_Income'),\n",
       " (0.030083015476670746, 'Percent_Smokers'),\n",
       " (0.02962876749051311, 'Percent_Physically_Inactive'),\n",
       " (0.029129825169810362, 'Percent_Fair_or_Poor_Health'),\n",
       " (0.02385227010111503, 'Polution_Average_Daily_PM2.5'),\n",
       " (0.023611984034320372, 'Percent_Insufficient_Sleep'),\n",
       " (0.02318305911158633, 'Percent_Excessive_Drinking'),\n",
       " (0.02262889902673131, 'Household_Income_White')]"
      ]
     },
     "execution_count": 61,
     "metadata": {},
     "output_type": "execute_result"
    }
   ],
   "source": [
    "importances = et_model.feature_importances_\n",
    "# plot feature importance\n",
    "plt.bar([x for x in range(len(importances))], importances)\n",
    "plt.show()\n",
    "# summarize feature importance\n",
    "sorted(zip(importances, X.columns), reverse=True)[:10]"
   ]
  },
  {
   "cell_type": "markdown",
   "metadata": {},
   "source": [
    "# Ada Boost"
   ]
  },
  {
   "cell_type": "code",
   "execution_count": 62,
   "metadata": {},
   "outputs": [],
   "source": [
    "from sklearn.ensemble import AdaBoostClassifier\n",
    "\n",
    "ab_model = AdaBoostClassifier(n_estimators=256)"
   ]
  },
  {
   "cell_type": "code",
   "execution_count": 63,
   "metadata": {},
   "outputs": [],
   "source": [
    "ab_model = ab_model.fit(X_train_scaled, y_train)"
   ]
  },
  {
   "cell_type": "code",
   "execution_count": 64,
   "metadata": {},
   "outputs": [
    {
     "data": {
      "text/plain": [
       "0.5234375"
      ]
     },
     "execution_count": 64,
     "metadata": {},
     "output_type": "execute_result"
    }
   ],
   "source": [
    "# Run the test with model\n",
    "y_pred = ab_model.predict(X_test_scaled)\n",
    "# Find accuracy\n",
    "accuracy_score(y_test, y_pred)"
   ]
  },
  {
   "cell_type": "code",
   "execution_count": 65,
   "metadata": {},
   "outputs": [
    {
     "data": {
      "text/html": [
       "<div>\n",
       "<style scoped>\n",
       "    .dataframe tbody tr th:only-of-type {\n",
       "        vertical-align: middle;\n",
       "    }\n",
       "\n",
       "    .dataframe tbody tr th {\n",
       "        vertical-align: top;\n",
       "    }\n",
       "\n",
       "    .dataframe thead th {\n",
       "        text-align: right;\n",
       "    }\n",
       "</style>\n",
       "<table border=\"1\" class=\"dataframe\">\n",
       "  <thead>\n",
       "    <tr style=\"text-align: right;\">\n",
       "      <th></th>\n",
       "      <th>Predicted 1</th>\n",
       "      <th>Predicted 2</th>\n",
       "      <th>Predicted 3</th>\n",
       "      <th>Predicted 4</th>\n",
       "    </tr>\n",
       "  </thead>\n",
       "  <tbody>\n",
       "    <tr>\n",
       "      <th>Actual 1</th>\n",
       "      <td>126</td>\n",
       "      <td>48</td>\n",
       "      <td>4</td>\n",
       "      <td>2</td>\n",
       "    </tr>\n",
       "    <tr>\n",
       "      <th>Actual 2</th>\n",
       "      <td>77</td>\n",
       "      <td>101</td>\n",
       "      <td>38</td>\n",
       "      <td>23</td>\n",
       "    </tr>\n",
       "    <tr>\n",
       "      <th>Actual 3</th>\n",
       "      <td>12</td>\n",
       "      <td>46</td>\n",
       "      <td>38</td>\n",
       "      <td>60</td>\n",
       "    </tr>\n",
       "    <tr>\n",
       "      <th>Actual 4</th>\n",
       "      <td>5</td>\n",
       "      <td>21</td>\n",
       "      <td>30</td>\n",
       "      <td>137</td>\n",
       "    </tr>\n",
       "  </tbody>\n",
       "</table>\n",
       "</div>"
      ],
      "text/plain": [
       "          Predicted 1  Predicted 2  Predicted 3  Predicted 4\n",
       "Actual 1          126           48            4            2\n",
       "Actual 2           77          101           38           23\n",
       "Actual 3           12           46           38           60\n",
       "Actual 4            5           21           30          137"
      ]
     },
     "execution_count": 65,
     "metadata": {},
     "output_type": "execute_result"
    }
   ],
   "source": [
    "cm = confusion_matrix(y_test, y_pred)\n",
    "\n",
    "# Create a DataFrame from the confusion matrix.\n",
    "cm_df = pd.DataFrame(\n",
    "    cm, index=[\"Actual 1\", \"Actual 2\", \"Actual 3\", \"Actual 4\"], columns=[\"Predicted 1\", \"Predicted 2\", \"Predicted 3\", \"Predicted 4\"])\n",
    "\n",
    "cm_df"
   ]
  },
  {
   "cell_type": "code",
   "execution_count": 66,
   "metadata": {},
   "outputs": [
    {
     "name": "stdout",
     "output_type": "stream",
     "text": [
      "Classification Report\n",
      "              precision    recall  f1-score   support\n",
      "\n",
      "           1       0.57      0.70      0.63       180\n",
      "           2       0.47      0.42      0.44       239\n",
      "           3       0.35      0.24      0.29       156\n",
      "           4       0.62      0.71      0.66       193\n",
      "\n",
      "    accuracy                           0.52       768\n",
      "   macro avg       0.50      0.52      0.50       768\n",
      "weighted avg       0.51      0.52      0.51       768\n",
      "\n"
     ]
    }
   ],
   "source": [
    "print(\"Classification Report\")\n",
    "print(classification_report(y_test, y_pred))"
   ]
  },
  {
   "cell_type": "code",
   "execution_count": 67,
   "metadata": {},
   "outputs": [
    {
     "data": {
      "image/png": "[encoded data removed]",
      "text/plain": [
       "<Figure size 432x288 with 1 Axes>"
      ]
     },
     "metadata": {
      "needs_background": "light"
     },
     "output_type": "display_data"
    },
    {
     "data": {
      "text/plain": [
       "[(0.05859375, 'Percent_Long_Commute'),\n",
       " (0.0546875, 'Population_Hispanic'),\n",
       " (0.05078125, 'Polution_Average_Daily_PM2.5'),\n",
       " (0.046875, 'Preventable_Hospitalization_Rate'),\n",
       " (0.04296875, 'Median_Household_Income'),\n",
       " (0.0390625, 'Percent_Vaccinated'),\n",
       " (0.03515625, 'Average_Number_of_Mentally_Unhealthy_Days'),\n",
       " (0.03125, 'Percent_Insufficient_Sleep'),\n",
       " (0.03125, 'Percent_Drive_Alone_to_Work'),\n",
       " (0.02734375, 'Population_Black')]"
      ]
     },
     "execution_count": 67,
     "metadata": {},
     "output_type": "execute_result"
    }
   ],
   "source": [
    "importances = ab_model.feature_importances_\n",
    "# plot feature importance\n",
    "plt.bar([x for x in range(len(importances))], importances)\n",
    "plt.show()\n",
    "# summarize feature importance\n",
    "sorted(zip(importances, X.columns), reverse=True)[:10]"
   ]
  },
  {
   "cell_type": "markdown",
   "metadata": {},
   "source": [
    "# Gradient Boosting"
   ]
  },
  {
   "cell_type": "code",
   "execution_count": 68,
   "metadata": {},
   "outputs": [],
   "source": [
    "from sklearn.ensemble import GradientBoostingClassifier\n",
    "\n",
    "gb_model = GradientBoostingClassifier(n_estimators=100, random_state=78)"
   ]
  },
  {
   "cell_type": "code",
   "execution_count": 69,
   "metadata": {},
   "outputs": [],
   "source": [
    "gb_model = gb_model.fit(X_train_scaled, y_train)"
   ]
  },
  {
   "cell_type": "code",
   "execution_count": 70,
   "metadata": {},
   "outputs": [
    {
     "data": {
      "text/plain": [
       "0.5859375"
      ]
     },
     "execution_count": 70,
     "metadata": {},
     "output_type": "execute_result"
    }
   ],
   "source": [
    "# Run the test with model\n",
    "y_pred = gb_model.predict(X_test_scaled)\n",
    "# Find accuracy\n",
    "accuracy_score(y_test, y_pred)"
   ]
  },
  {
   "cell_type": "code",
   "execution_count": 71,
   "metadata": {},
   "outputs": [
    {
     "data": {
      "text/html": [
       "<div>\n",
       "<style scoped>\n",
       "    .dataframe tbody tr th:only-of-type {\n",
       "        vertical-align: middle;\n",
       "    }\n",
       "\n",
       "    .dataframe tbody tr th {\n",
       "        vertical-align: top;\n",
       "    }\n",
       "\n",
       "    .dataframe thead th {\n",
       "        text-align: right;\n",
       "    }\n",
       "</style>\n",
       "<table border=\"1\" class=\"dataframe\">\n",
       "  <thead>\n",
       "    <tr style=\"text-align: right;\">\n",
       "      <th></th>\n",
       "      <th>Predicted 1</th>\n",
       "      <th>Predicted 2</th>\n",
       "      <th>Predicted 3</th>\n",
       "      <th>Predicted 4</th>\n",
       "    </tr>\n",
       "  </thead>\n",
       "  <tbody>\n",
       "    <tr>\n",
       "      <th>Actual 1</th>\n",
       "      <td>108</td>\n",
       "      <td>66</td>\n",
       "      <td>3</td>\n",
       "      <td>3</td>\n",
       "    </tr>\n",
       "    <tr>\n",
       "      <th>Actual 2</th>\n",
       "      <td>37</td>\n",
       "      <td>154</td>\n",
       "      <td>34</td>\n",
       "      <td>14</td>\n",
       "    </tr>\n",
       "    <tr>\n",
       "      <th>Actual 3</th>\n",
       "      <td>6</td>\n",
       "      <td>57</td>\n",
       "      <td>45</td>\n",
       "      <td>48</td>\n",
       "    </tr>\n",
       "    <tr>\n",
       "      <th>Actual 4</th>\n",
       "      <td>8</td>\n",
       "      <td>20</td>\n",
       "      <td>22</td>\n",
       "      <td>143</td>\n",
       "    </tr>\n",
       "  </tbody>\n",
       "</table>\n",
       "</div>"
      ],
      "text/plain": [
       "          Predicted 1  Predicted 2  Predicted 3  Predicted 4\n",
       "Actual 1          108           66            3            3\n",
       "Actual 2           37          154           34           14\n",
       "Actual 3            6           57           45           48\n",
       "Actual 4            8           20           22          143"
      ]
     },
     "execution_count": 71,
     "metadata": {},
     "output_type": "execute_result"
    }
   ],
   "source": [
    "cm = confusion_matrix(y_test, y_pred)\n",
    "\n",
    "# Create a DataFrame from the confusion matrix.\n",
    "cm_df = pd.DataFrame(\n",
    "    cm, index=[\"Actual 1\", \"Actual 2\", \"Actual 3\", \"Actual 4\"], columns=[\"Predicted 1\", \"Predicted 2\", \"Predicted 3\", \"Predicted 4\"])\n",
    "\n",
    "cm_df"
   ]
  },
  {
   "cell_type": "code",
   "execution_count": 72,
   "metadata": {},
   "outputs": [
    {
     "name": "stdout",
     "output_type": "stream",
     "text": [
      "Classification Report\n",
      "              precision    recall  f1-score   support\n",
      "\n",
      "           1       0.68      0.60      0.64       180\n",
      "           2       0.52      0.64      0.57       239\n",
      "           3       0.43      0.29      0.35       156\n",
      "           4       0.69      0.74      0.71       193\n",
      "\n",
      "    accuracy                           0.59       768\n",
      "   macro avg       0.58      0.57      0.57       768\n",
      "weighted avg       0.58      0.59      0.58       768\n",
      "\n"
     ]
    }
   ],
   "source": [
    "print(\"Classification Report\")\n",
    "print(classification_report(y_test, y_pred))"
   ]
  },
  {
   "cell_type": "code",
   "execution_count": 73,
   "metadata": {},
   "outputs": [
    {
     "data": {
      "image/png": "[encoded data removed]",
      "text/plain": [
       "<Figure size 432x288 with 1 Axes>"
      ]
     },
     "metadata": {
      "needs_background": "light"
     },
     "output_type": "display_data"
    },
    {
     "data": {
      "text/plain": [
       "[(0.12593622319174505, 'Median_Household_Income'),\n",
       " (0.07444440524725564, 'Polution_Average_Daily_PM2.5'),\n",
       " (0.07136168076723179, 'Population_Hispanic'),\n",
       " (0.06489861452324415, 'Percent_Smokers'),\n",
       " (0.06216859930378603, 'Percent_Fair_or_Poor_Health'),\n",
       " (0.06133825180786405, 'Average_Number_of_Mentally_Unhealthy_Days'),\n",
       " (0.05223177623383616, 'Percent_Physically_Inactive'),\n",
       " (0.04295674224690123, 'Average_Number_of_Physically_Unhealthy_Days'),\n",
       " (0.02276852419775492, 'Preventable_Hospitalization_Rate'),\n",
       " (0.019921239057294787, 'Household_Income_White')]"
      ]
     },
     "execution_count": 73,
     "metadata": {},
     "output_type": "execute_result"
    }
   ],
   "source": [
    "importances = gb_model.feature_importances_\n",
    "# plot feature importance\n",
    "plt.bar([x for x in range(len(importances))], importances)\n",
    "plt.show()\n",
    "# summarize feature importance\n",
    "sorted(zip(importances, X.columns), reverse=True)[:10]"
   ]
  },
  {
   "cell_type": "code",
   "execution_count": 74,
   "metadata": {},
   "outputs": [],
   "source": [
    "# Change target to train with Deep learning\n",
    "# High (3,4) or Low (1,2)\n",
    "y_test =np.array([1 if x in [3,4] else 0 for x in y_test])\n",
    "y_train =np.array([1 if x in [3,4] else 0 for x in y_train])"
   ]
  },
  {
   "cell_type": "markdown",
   "metadata": {},
   "source": [
    "# Deep Learning"
   ]
  },
  {
   "cell_type": "code",
   "execution_count": 75,
   "metadata": {},
   "outputs": [
    {
     "name": "stdout",
     "output_type": "stream",
     "text": [
      "Model: \"sequential\"\n",
      "_________________________________________________________________\n",
      "Layer (type)                 Output Shape              Param #   \n",
      "=================================================================\n",
      "dense (Dense)                (None, 213)               15336     \n",
      "_________________________________________________________________\n",
      "dense_1 (Dense)              (None, 142)               30388     \n",
      "_________________________________________________________________\n",
      "dense_2 (Dense)              (None, 71)                10153     \n",
      "_________________________________________________________________\n",
      "dense_3 (Dense)              (None, 35)                2520      \n",
      "_________________________________________________________________\n",
      "dense_4 (Dense)              (None, 1)                 36        \n",
      "=================================================================\n",
      "Total params: 58,433\n",
      "Trainable params: 58,433\n",
      "Non-trainable params: 0\n",
      "_________________________________________________________________\n"
     ]
    }
   ],
   "source": [
    "import tensorflow as tf\n",
    "# Define the model - deep neural net\n",
    "number_input_features = len(X_train_scaled[0])\n",
    "hidden_nodes_layer1 = number_input_features*3\n",
    "hidden_nodes_layer2 = number_input_features*2\n",
    "hidden_nodes_layer3 = number_input_features*1\n",
    "hidden_nodes_layer4 = number_input_features//2\n",
    "\n",
    "\n",
    "nn = tf.keras.models.Sequential()\n",
    "\n",
    "# First hidden layer\n",
    "nn.add(tf.keras.layers.Dense(units=hidden_nodes_layer1, input_dim=number_input_features, activation=\"relu\"))\n",
    "\n",
    "# Second hidden layer\n",
    "nn.add(tf.keras.layers.Dense(units=hidden_nodes_layer2, activation=\"relu\"))\n",
    "\n",
    "# Third hidden layer\n",
    "nn.add(tf.keras.layers.Dense(units=hidden_nodes_layer3, activation=\"relu\"))\n",
    "\n",
    "# fouth hidden layer\n",
    "nn.add(tf.keras.layers.Dense(units=hidden_nodes_layer4, activation=\"relu\"))\n",
    "\n",
    "# Output layer\n",
    "nn.add(tf.keras.layers.Dense(units=1, activation=\"sigmoid\"))\n",
    "\n",
    "# Check the structure of the model\n",
    "nn.summary()"
   ]
  },
  {
   "cell_type": "code",
   "execution_count": 76,
   "metadata": {},
   "outputs": [],
   "source": [
    "# Compile the model\n",
    "nn.compile(loss=\"binary_crossentropy\", optimizer=\"adam\", metrics=[\"accuracy\"])"
   ]
  },
  {
   "cell_type": "code",
   "execution_count": 77,
   "metadata": {
    "scrolled": true
   },
   "outputs": [
    {
     "name": "stdout",
     "output_type": "stream",
     "text": [
      "Train on 2304 samples\n",
      "Epoch 1/100\n",
      "2304/2304 [==============================] - 1s 285us/sample - loss: 0.4538 - accuracy: 0.7977\n",
      "Epoch 2/100\n",
      "2304/2304 [==============================] - 0s 80us/sample - loss: 0.3889 - accuracy: 0.8416\n",
      "Epoch 3/100\n",
      "2304/2304 [==============================] - 0s 85us/sample - loss: 0.3592 - accuracy: 0.8520\n",
      "Epoch 4/100\n",
      "2304/2304 [==============================] - 0s 74us/sample - loss: 0.3250 - accuracy: 0.8668\n",
      "Epoch 5/100\n",
      "2304/2304 [==============================] - 0s 69us/sample - loss: 0.3009 - accuracy: 0.8767\n",
      "Epoch 6/100\n",
      "2304/2304 [==============================] - 0s 85us/sample - loss: 0.2683 - accuracy: 0.8945\n",
      "Epoch 7/100\n",
      "2304/2304 [==============================] - 0s 84us/sample - loss: 0.2375 - accuracy: 0.9110\n",
      "Epoch 8/100\n",
      "2304/2304 [==============================] - 0s 71us/sample - loss: 0.2053 - accuracy: 0.9197\n",
      "Epoch 9/100\n",
      "2304/2304 [==============================] - 0s 67us/sample - loss: 0.1710 - accuracy: 0.9319\n",
      "Epoch 10/100\n",
      "2304/2304 [==============================] - 0s 79us/sample - loss: 0.1442 - accuracy: 0.9466\n",
      "Epoch 11/100\n",
      "2304/2304 [==============================] - 0s 80us/sample - loss: 0.1481 - accuracy: 0.9444\n",
      "Epoch 12/100\n",
      "2304/2304 [==============================] - 0s 69us/sample - loss: 0.1014 - accuracy: 0.9679\n",
      "Epoch 13/100\n",
      "2304/2304 [==============================] - 0s 69us/sample - loss: 0.0946 - accuracy: 0.9744\n",
      "Epoch 14/100\n",
      "2304/2304 [==============================] - 0s 85us/sample - loss: 0.0663 - accuracy: 0.9774\n",
      "Epoch 15/100\n",
      "2304/2304 [==============================] - 0s 82us/sample - loss: 0.0445 - accuracy: 0.9852\n",
      "Epoch 16/100\n",
      "2304/2304 [==============================] - 0s 70us/sample - loss: 0.0496 - accuracy: 0.9848\n",
      "Epoch 17/100\n",
      "2304/2304 [==============================] - 0s 90us/sample - loss: 0.0501 - accuracy: 0.9818\n",
      "Epoch 18/100\n",
      "2304/2304 [==============================] - 0s 105us/sample - loss: 0.0824 - accuracy: 0.9705\n",
      "Epoch 19/100\n",
      "2304/2304 [==============================] - 0s 82us/sample - loss: 0.0294 - accuracy: 0.9909\n",
      "Epoch 20/100\n",
      "2304/2304 [==============================] - 0s 90us/sample - loss: 0.0122 - accuracy: 0.9983\n",
      "Epoch 21/100\n",
      "2304/2304 [==============================] - 0s 81us/sample - loss: 0.0328 - accuracy: 0.9944\n",
      "Epoch 22/100\n",
      "2304/2304 [==============================] - 0s 74us/sample - loss: 0.0092 - accuracy: 0.9983\n",
      "Epoch 23/100\n",
      "2304/2304 [==============================] - 0s 72us/sample - loss: 0.0058 - accuracy: 0.9987\n",
      "Epoch 24/100\n",
      "2304/2304 [==============================] - 0s 81us/sample - loss: 0.0087 - accuracy: 0.9991\n",
      "Epoch 25/100\n",
      "2304/2304 [==============================] - 0s 84us/sample - loss: 0.0052 - accuracy: 0.9983\n",
      "Epoch 26/100\n",
      "2304/2304 [==============================] - 0s 67us/sample - loss: 0.0049 - accuracy: 0.9991\n",
      "Epoch 27/100\n",
      "2304/2304 [==============================] - 0s 71us/sample - loss: 0.0036 - accuracy: 0.9987\n",
      "Epoch 28/100\n",
      "2304/2304 [==============================] - 0s 68us/sample - loss: 0.0011 - accuracy: 0.9996\n",
      "Epoch 29/100\n",
      "2304/2304 [==============================] - 0s 65us/sample - loss: 0.0011 - accuracy: 0.9996\n",
      "Epoch 30/100\n",
      "2304/2304 [==============================] - 0s 68us/sample - loss: 0.0397 - accuracy: 0.9865\n",
      "Epoch 31/100\n",
      "2304/2304 [==============================] - 0s 67us/sample - loss: 0.0641 - accuracy: 0.9779\n",
      "Epoch 32/100\n",
      "2304/2304 [==============================] - 0s 66us/sample - loss: 0.0642 - accuracy: 0.9774\n",
      "Epoch 33/100\n",
      "2304/2304 [==============================] - 0s 67us/sample - loss: 0.0451 - accuracy: 0.9848\n",
      "Epoch 34/100\n",
      "2304/2304 [==============================] - 0s 68us/sample - loss: 0.0289 - accuracy: 0.9913\n",
      "Epoch 35/100\n",
      "2304/2304 [==============================] - 0s 68us/sample - loss: 0.0160 - accuracy: 0.9957\n",
      "Epoch 36/100\n",
      "2304/2304 [==============================] - 0s 65us/sample - loss: 0.0660 - accuracy: 0.9826\n",
      "Epoch 37/100\n",
      "2304/2304 [==============================] - 0s 66us/sample - loss: 0.0237 - accuracy: 0.9918\n",
      "Epoch 38/100\n",
      "2304/2304 [==============================] - 0s 68us/sample - loss: 0.0126 - accuracy: 0.9965\n",
      "Epoch 39/100\n",
      "2304/2304 [==============================] - 0s 66us/sample - loss: 0.0369 - accuracy: 0.9883\n",
      "Epoch 40/100\n",
      "2304/2304 [==============================] - 0s 67us/sample - loss: 0.0091 - accuracy: 0.9983\n",
      "Epoch 41/100\n",
      "2304/2304 [==============================] - 0s 68us/sample - loss: 0.0181 - accuracy: 0.9965\n",
      "Epoch 42/100\n",
      "2304/2304 [==============================] - 0s 68us/sample - loss: 0.0102 - accuracy: 0.9974\n",
      "Epoch 43/100\n",
      "2304/2304 [==============================] - 0s 65us/sample - loss: 0.0021 - accuracy: 0.9996\n",
      "Epoch 44/100\n",
      "2304/2304 [==============================] - 0s 75us/sample - loss: 0.0012 - accuracy: 1.0000\n",
      "Epoch 45/100\n",
      "2304/2304 [==============================] - 0s 77us/sample - loss: 5.0791e-04 - accuracy: 1.0000\n",
      "Epoch 46/100\n",
      "2304/2304 [==============================] - ETA: 0s - loss: 3.6732e-04 - accuracy: 1.00 - 0s 79us/sample - loss: 3.5023e-04 - accuracy: 1.0000\n",
      "Epoch 47/100\n",
      "2304/2304 [==============================] - 0s 71us/sample - loss: 2.8326e-04 - accuracy: 1.0000\n",
      "Epoch 48/100\n",
      "2304/2304 [==============================] - 0s 68us/sample - loss: 2.3918e-04 - accuracy: 1.0000\n",
      "Epoch 49/100\n",
      "2304/2304 [==============================] - 0s 67us/sample - loss: 2.0617e-04 - accuracy: 1.0000\n",
      "Epoch 50/100\n",
      "2304/2304 [==============================] - 0s 66us/sample - loss: 1.8041e-04 - accuracy: 1.0000\n",
      "Epoch 51/100\n",
      "2304/2304 [==============================] - 0s 67us/sample - loss: 1.5870e-04 - accuracy: 1.0000\n",
      "Epoch 52/100\n",
      "2304/2304 [==============================] - 0s 67us/sample - loss: 1.4104e-04 - accuracy: 1.0000\n",
      "Epoch 53/100\n",
      "2304/2304 [==============================] - 0s 85us/sample - loss: 1.2664e-04 - accuracy: 1.0000\n",
      "Epoch 54/100\n",
      "2304/2304 [==============================] - 0s 83us/sample - loss: 1.1437e-04 - accuracy: 1.0000\n",
      "Epoch 55/100\n",
      "2304/2304 [==============================] - 0s 87us/sample - loss: 1.0402e-04 - accuracy: 1.0000\n",
      "Epoch 56/100\n",
      "2304/2304 [==============================] - 0s 74us/sample - loss: 9.4841e-05 - accuracy: 1.0000\n",
      "Epoch 57/100\n",
      "2304/2304 [==============================] - 0s 74us/sample - loss: 8.6815e-05 - accuracy: 1.0000\n",
      "Epoch 58/100\n",
      "2304/2304 [==============================] - 0s 79us/sample - loss: 8.0039e-05 - accuracy: 1.0000\n",
      "Epoch 59/100\n",
      "2304/2304 [==============================] - 0s 82us/sample - loss: 7.3739e-05 - accuracy: 1.0000\n",
      "Epoch 60/100\n",
      "2304/2304 [==============================] - 0s 71us/sample - loss: 6.8151e-05 - accuracy: 1.0000\n",
      "Epoch 61/100\n",
      "2304/2304 [==============================] - 0s 74us/sample - loss: 6.3232e-05 - accuracy: 1.0000\n",
      "Epoch 62/100\n",
      "2304/2304 [==============================] - 0s 72us/sample - loss: 5.8727e-05 - accuracy: 1.0000\n",
      "Epoch 63/100\n",
      "2304/2304 [==============================] - 0s 73us/sample - loss: 5.4698e-05 - accuracy: 1.0000\n",
      "Epoch 64/100\n",
      "2304/2304 [==============================] - 0s 74us/sample - loss: 5.1071e-05 - accuracy: 1.0000\n",
      "Epoch 65/100\n",
      "2304/2304 [==============================] - 0s 77us/sample - loss: 4.7789e-05 - accuracy: 1.0000\n",
      "Epoch 66/100\n",
      "2304/2304 [==============================] - 0s 81us/sample - loss: 4.4746e-05 - accuracy: 1.0000\n",
      "Epoch 67/100\n",
      "2304/2304 [==============================] - 0s 83us/sample - loss: 4.1941e-05 - accuracy: 1.0000\n",
      "Epoch 68/100\n",
      "2304/2304 [==============================] - 0s 74us/sample - loss: 3.9466e-05 - accuracy: 1.0000\n",
      "Epoch 69/100\n",
      "2304/2304 [==============================] - 0s 76us/sample - loss: 3.7037e-05 - accuracy: 1.0000\n",
      "Epoch 70/100\n",
      "2304/2304 [==============================] - 0s 78us/sample - loss: 3.4911e-05 - accuracy: 1.0000\n",
      "Epoch 71/100\n",
      "2304/2304 [==============================] - 0s 77us/sample - loss: 3.2932e-05 - accuracy: 1.0000\n",
      "Epoch 72/100\n",
      "2304/2304 [==============================] - 0s 85us/sample - loss: 3.1094e-05 - accuracy: 1.0000\n",
      "Epoch 73/100\n",
      "2304/2304 [==============================] - 0s 87us/sample - loss: 2.9383e-05 - accuracy: 1.0000\n",
      "Epoch 74/100\n",
      "2304/2304 [==============================] - 0s 84us/sample - loss: 2.7827e-05 - accuracy: 1.0000\n",
      "Epoch 75/100\n",
      "2304/2304 [==============================] - 0s 91us/sample - loss: 2.6272e-05 - accuracy: 1.0000\n",
      "Epoch 76/100\n",
      "2304/2304 [==============================] - 0s 76us/sample - loss: 2.4896e-05 - accuracy: 1.0000\n",
      "Epoch 77/100\n",
      "2304/2304 [==============================] - 0s 71us/sample - loss: 2.3591e-05 - accuracy: 1.0000\n",
      "Epoch 78/100\n",
      "2304/2304 [==============================] - 0s 71us/sample - loss: 2.2351e-05 - accuracy: 1.0000\n",
      "Epoch 79/100\n",
      "2304/2304 [==============================] - 0s 68us/sample - loss: 2.1188e-05 - accuracy: 1.0000\n",
      "Epoch 80/100\n",
      "2304/2304 [==============================] - 0s 70us/sample - loss: 2.0080e-05 - accuracy: 1.0000\n",
      "Epoch 81/100\n",
      "2304/2304 [==============================] - 0s 71us/sample - loss: 1.9091e-05 - accuracy: 1.0000\n",
      "Epoch 82/100\n",
      "2304/2304 [==============================] - 0s 71us/sample - loss: 1.8115e-05 - accuracy: 1.0000\n",
      "Epoch 83/100\n",
      "2304/2304 [==============================] - 0s 71us/sample - loss: 1.7245e-05 - accuracy: 1.0000\n",
      "Epoch 84/100\n",
      "2304/2304 [==============================] - 0s 70us/sample - loss: 1.6381e-05 - accuracy: 1.0000\n",
      "Epoch 85/100\n",
      "2304/2304 [==============================] - 0s 68us/sample - loss: 1.5565e-05 - accuracy: 1.0000\n",
      "Epoch 86/100\n",
      "2304/2304 [==============================] - 0s 64us/sample - loss: 1.4836e-05 - accuracy: 1.0000\n",
      "Epoch 87/100\n",
      "2304/2304 [==============================] - 0s 67us/sample - loss: 1.4095e-05 - accuracy: 1.0000\n",
      "Epoch 88/100\n",
      "2304/2304 [==============================] - 0s 68us/sample - loss: 1.3433e-05 - accuracy: 1.0000\n",
      "Epoch 89/100\n",
      "2304/2304 [==============================] - 0s 74us/sample - loss: 1.2794e-05 - accuracy: 1.0000\n",
      "Epoch 90/100\n",
      "2304/2304 [==============================] - 0s 64us/sample - loss: 1.2212e-05 - accuracy: 1.0000\n",
      "Epoch 91/100\n",
      "2304/2304 [==============================] - 0s 68us/sample - loss: 1.1617e-05 - accuracy: 1.0000\n",
      "Epoch 92/100\n",
      "2304/2304 [==============================] - 0s 67us/sample - loss: 1.1074e-05 - accuracy: 1.0000\n",
      "Epoch 93/100\n",
      "2304/2304 [==============================] - 0s 68us/sample - loss: 1.0567e-05 - accuracy: 1.0000\n",
      "Epoch 94/100\n",
      "2304/2304 [==============================] - 0s 69us/sample - loss: 1.0082e-05 - accuracy: 1.0000\n",
      "Epoch 95/100\n",
      "2304/2304 [==============================] - 0s 68us/sample - loss: 9.6153e-06 - accuracy: 1.0000\n",
      "Epoch 96/100\n",
      "2304/2304 [==============================] - 0s 70us/sample - loss: 9.1923e-06 - accuracy: 1.0000\n",
      "Epoch 97/100\n",
      "2304/2304 [==============================] - 0s 67us/sample - loss: 8.7780e-06 - accuracy: 1.0000\n",
      "Epoch 98/100\n",
      "2304/2304 [==============================] - 0s 67us/sample - loss: 8.3814e-06 - accuracy: 1.0000\n",
      "Epoch 99/100\n",
      "2304/2304 [==============================] - 0s 68us/sample - loss: 8.0151e-06 - accuracy: 1.0000\n",
      "Epoch 100/100\n",
      "2304/2304 [==============================] - 0s 67us/sample - loss: 7.6515e-06 - accuracy: 1.0000\n"
     ]
    }
   ],
   "source": [
    "# Train the model\n",
    "fit_model = nn.fit(X_train_scaled,y_train,epochs=100)"
   ]
  },
  {
   "cell_type": "code",
   "execution_count": 78,
   "metadata": {
    "scrolled": false
   },
   "outputs": [
    {
     "name": "stdout",
     "output_type": "stream",
     "text": [
      "768/768 - 0s - loss: 1.9448 - accuracy: 0.8151\n",
      "Loss: 1.9447876339157422, Accuracy: 0.8151041865348816\n"
     ]
    }
   ],
   "source": [
    "# Evaluate the model using the test data\n",
    "model_loss, model_accuracy = nn.evaluate(X_test_scaled,y_test,verbose=2)\n",
    "print(f\"Loss: {model_loss}, Accuracy: {model_accuracy}\")"
   ]
  },
  {
   "cell_type": "markdown",
   "metadata": {},
   "source": [
    "# PCA"
   ]
  },
  {
   "cell_type": "code",
   "execution_count": null,
   "metadata": {},
   "outputs": [],
   "source": [
    "#using Principle Component Analysis find few PCA and the feature contribution to each one of them"
   ]
  },
  {
   "cell_type": "code",
   "execution_count": 104,
   "metadata": {},
   "outputs": [],
   "source": [
    "from sklearn.decomposition import PCA\n",
    "import numpy as np\n",
    "import matplotlib.pyplot as plt"
   ]
  },
  {
   "cell_type": "code",
   "execution_count": 105,
   "metadata": {},
   "outputs": [],
   "source": [
    "#Initialize PCA model\n",
    "pca = PCA(n_components=5)"
   ]
  },
  {
   "cell_type": "code",
   "execution_count": 106,
   "metadata": {},
   "outputs": [
    {
     "name": "stdout",
     "output_type": "stream",
     "text": [
      "shape of X_pca (921, 5)\n"
     ]
    }
   ],
   "source": [
    "hd_pca = pca.fit_transform(X_train_scaled)\n",
    "#let's check the shape of hd_pca array\n",
    "print (\"shape of X_pca\", hd_pca.shape)"
   ]
  },
  {
   "cell_type": "code",
   "execution_count": 107,
   "metadata": {},
   "outputs": [
    {
     "name": "stdout",
     "output_type": "stream",
     "text": [
      "[0.54413712 0.22483589 0.0924242  0.09007151 0.04853128]\n"
     ]
    }
   ],
   "source": [
    "#once pca is trained lets get the variance ratio and its details\n",
    "ex_variance=np.var(hd_pca,axis=0)\n",
    "ex_variance_ratio = ex_variance/np.sum(ex_variance)\n",
    "print (ex_variance_ratio )"
   ]
  },
  {
   "cell_type": "code",
   "execution_count": 108,
   "metadata": {},
   "outputs": [],
   "source": [
    "#Based on variance ration the variance ratio for each one of the PCA is\n",
    "#PCA1 = 0.544, PCA2 = 0.225, PCA3 = 0.0924, PCA4 = 0.0901, PCA5 = 0.0485\n",
    "# Knowing PCA is good but it would be clear if we can see which features contribute to each one of the PCA"
   ]
  },
  {
   "cell_type": "code",
   "execution_count": 109,
   "metadata": {},
   "outputs": [
    {
     "data": {
      "image/png": "[encoded data removed]",
      "text/plain": [
       "<Figure size 1152x144 with 2 Axes>"
      ]
     },
     "metadata": {
      "needs_background": "light"
     },
     "output_type": "display_data"
    }
   ],
   "source": [
    "plt.matshow(pca.components_,cmap='viridis')\n",
    "plt.yticks([0,1,2,3,4],['1st Comp','2nd Comp','3rd Comp', '4th Comp', '5th Comp'],fontsize=10)\n",
    "plt.colorbar()\n",
    "plt.xticks(range(len(X.columns)),X.columns,rotation=65,ha='left')\n",
    "plt.tight_layout()\n",
    "plt.show()"
   ]
  },
  {
   "cell_type": "code",
   "execution_count": null,
   "metadata": {},
   "outputs": [],
   "source": []
  }
 ],
 "metadata": {
  "kernelspec": {
   "display_name": "mlenv",
   "language": "python",
   "name": "mlenv"
  },
  "language_info": {
   "codemirror_mode": {
    "name": "ipython",
    "version": 3
   },
   "file_extension": ".py",
   "mimetype": "text/x-python",
   "name": "python",
   "nbconvert_exporter": "python",
   "pygments_lexer": "ipython3",
   "version": "3.7.7"
  }
 },
 "nbformat": 4,
 "nbformat_minor": 4
}
